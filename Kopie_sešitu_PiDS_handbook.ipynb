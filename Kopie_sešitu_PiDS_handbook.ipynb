{
  "cells": [
    {
      "cell_type": "markdown",
      "metadata": {
        "id": "view-in-github",
        "colab_type": "text"
      },
      "source": [
        "<a href=\"https://colab.research.google.com/github/Valiant-Ai/GITcourse/blob/main/Kopie_se%C5%A1itu_PiDS_handbook.ipynb\" target=\"_parent\"><img src=\"https://colab.research.google.com/assets/colab-badge.svg\" alt=\"Open In Colab\"/></a>"
      ]
    },
    {
      "cell_type": "markdown",
      "metadata": {
        "id": "7RC_e2RzjZwc"
      },
      "source": [
        "##Python - Intro"
      ]
    },
    {
      "cell_type": "markdown",
      "metadata": {
        "id": "ffCSnCREj68Q"
      },
      "source": [
        "* Written by Guido van Rossum and released in 1990 (32 years ago!)\n",
        "* The three major versions, currently the latest version is 3.10\n",
        "* Version 2.7 stopped being supported in 2020.\n",
        "* Contrary to appearances, the name does not come from a snake,\n",
        "but the name of the program \"Monty Python's Flying Circus.\"\n",
        "* Written as a scripting language for the Amoeba distributed OS.\n",
        "\n",
        "\n"
      ]
    },
    {
      "cell_type": "markdown",
      "metadata": {
        "id": "2bmEzyUBkMF7"
      },
      "source": [
        "* Interpretable - it doesn't need to be compiled and\n",
        "has its own dedicated interpreter.\n",
        "* High-level - you operate on concepts from the\n",
        "domain of the problem you are solving (e.g. for a\n",
        "bank, there will be currencies, loans, accounts,\n",
        "transfers) and not on processor bits and registers.\n",
        "* Dynamically typed - when declaring variables you do\n",
        "not have to provide their type and you can keep\n",
        "whatever you want in them.\n",
        "* It supports many styles (paradigms) of programming\n",
        "  * Object-oriented (classes, methods, inheritance)\n",
        "  * Function (lambda expressions)\n",
        "  * Imperative (loops)\n",
        "  * Reflective (looking into variables, modules,\n",
        "  classes)"
      ]
    },
    {
      "cell_type": "markdown",
      "metadata": {
        "id": "TOJyZHFD0ZGG"
      },
      "source": [
        "##Comments"
      ]
    },
    {
      "cell_type": "code",
      "execution_count": null,
      "metadata": {
        "id": "6UYWFO2Yz4ID"
      },
      "outputs": [],
      "source": [
        "#Easy comments dělám kod na zkoušku\n",
        "#TODO missing logic\n",
        "#Here I loop over data"
      ]
    },
    {
      "cell_type": "code",
      "execution_count": null,
      "metadata": {
        "id": "Df3RypkI0EJO"
      },
      "outputs": [],
      "source": [
        "'''\n",
        "Complex\n",
        "multiline\n",
        "comment\n",
        "'''\n",
        "\n",
        "def my_function(inp):\n",
        "  '''\n",
        "  Ahoj, jsem docstring\n",
        "  '''\n",
        "  #TODO dodělat logiku\n",
        "  out = inp\n",
        "  return out"
      ]
    },
    {
      "cell_type": "markdown",
      "metadata": {
        "id": "b4AGk7mbjged"
      },
      "source": [
        "###Google colab"
      ]
    },
    {
      "cell_type": "markdown",
      "metadata": {
        "id": "YdBCjuuKlugP"
      },
      "source": [
        "Google Colab is a free cloud service that allows you to share Jupyter notebooks with\n",
        "others without having to download, install, or run anything on your own computer\n",
        "outside of your browser. Notebooks can be edited simultaneously by several people\n",
        "who have access to it!"
      ]
    },
    {
      "cell_type": "markdown",
      "metadata": {
        "id": "kvm-uuRgnCKa"
      },
      "source": [
        "Shortcuts overview:\n",
        "https://amitness.com/2020/06/google-colaboratory-tips/"
      ]
    },
    {
      "cell_type": "markdown",
      "metadata": {
        "id": "zF6DVsS10j46"
      },
      "source": [
        "Handful shortcuts:\n",
        "* Comment out code in cell\n",
        "  * CTRL + /\n",
        "* Run cell and jump down\n",
        "  * SHIFT + enter\n",
        "* Change cell to text\n",
        "  * CTRL + M + M\n",
        "* Change cell to code\n",
        "  * CTRL + M + Y\n",
        "* Add cell above\n",
        "  * CTRL + M + A\n",
        "* Add cell below\n",
        "  * CTRL + M + B"
      ]
    },
    {
      "cell_type": "markdown",
      "metadata": {
        "id": "UcUfz-pKmr_W"
      },
      "source": [
        "LaTeX supported\n",
        "\n",
        "$\\sqrt{a+b}$"
      ]
    },
    {
      "cell_type": "markdown",
      "metadata": {
        "id": "lVI40pDWjSDb"
      },
      "source": [
        "###Importing libraries"
      ]
    },
    {
      "cell_type": "code",
      "execution_count": null,
      "metadata": {
        "colab": {
          "base_uri": "https://localhost:8080/"
        },
        "id": "7D3ycMK2mMwa",
        "outputId": "7f2195a2-b65d-46a6-8bc1-92f3db206781"
      },
      "outputs": [
        {
          "output_type": "stream",
          "name": "stdout",
          "text": [
            "2\n"
          ]
        }
      ],
      "source": [
        "#basic import and method call\n",
        "import multiprocessing\n",
        "print(multiprocessing.cpu_count())"
      ]
    },
    {
      "cell_type": "code",
      "execution_count": null,
      "metadata": {
        "colab": {
          "base_uri": "https://localhost:8080/"
        },
        "id": "LqdbRI-MmPmD",
        "outputId": "a4a39bf3-5ce7-4225-bbda-a4110de396d2"
      },
      "outputs": [
        {
          "output_type": "stream",
          "name": "stdout",
          "text": [
            "2\n"
          ]
        }
      ],
      "source": [
        "#add alias for imported module\n",
        "import multiprocessing as mp\n",
        "print(mp.cpu_count())"
      ]
    },
    {
      "cell_type": "code",
      "source": [
        "from multiprocessing import cpu_count"
      ],
      "metadata": {
        "id": "idBUZiwTDGwv"
      },
      "execution_count": null,
      "outputs": []
    },
    {
      "cell_type": "code",
      "source": [
        "print(cpu_count())"
      ],
      "metadata": {
        "colab": {
          "base_uri": "https://localhost:8080/"
        },
        "id": "V2c_4UGVqjIb",
        "outputId": "acbedf18-0060-49d5-c179-6c0584ec7f98"
      },
      "execution_count": null,
      "outputs": [
        {
          "output_type": "stream",
          "name": "stdout",
          "text": [
            "2\n"
          ]
        }
      ]
    },
    {
      "cell_type": "code",
      "execution_count": null,
      "metadata": {
        "colab": {
          "base_uri": "https://localhost:8080/"
        },
        "id": "DTG_bZCRmRtU",
        "outputId": "6520411d-5ef0-4017-8bcb-b4269cf23e8b"
      },
      "outputs": [
        {
          "output_type": "stream",
          "name": "stdout",
          "text": [
            "/content\n",
            "['.config', 'test.txt', '.ipynb_checkpoints', 'sample_data']\n"
          ]
        }
      ],
      "source": [
        "#library for using operating system functionality\n",
        "import os\n",
        "print(os.getcwd())\n",
        "print(os.listdir())"
      ]
    },
    {
      "cell_type": "code",
      "execution_count": null,
      "metadata": {
        "colab": {
          "base_uri": "https://localhost:8080/"
        },
        "id": "MMT8pHnUmXv1",
        "outputId": "00dfef3f-3830-4453-f43a-9e2de7537172"
      },
      "outputs": [
        {
          "output_type": "stream",
          "name": "stdout",
          "text": [
            "['README.md', 'anscombe.json', 'mnist_test.csv', 'california_housing_train.csv', 'mnist_train_small.csv', 'california_housing_test.csv']\n"
          ]
        }
      ],
      "source": [
        "os.chdir(\"sample_data\")\n",
        "print(os.listdir())"
      ]
    },
    {
      "cell_type": "code",
      "execution_count": null,
      "metadata": {
        "colab": {
          "base_uri": "https://localhost:8080/"
        },
        "id": "qjyZ5HiwmZXu",
        "outputId": "0594a315-d406-4f3f-d0f9-58d0a9b0265d"
      },
      "outputs": [
        {
          "output_type": "stream",
          "name": "stdout",
          "text": [
            "['.config', 'test.txt', '.ipynb_checkpoints', 'sample_data']\n"
          ]
        }
      ],
      "source": [
        "os.chdir(\"..\")\n",
        "print(os.listdir())"
      ]
    },
    {
      "cell_type": "markdown",
      "metadata": {
        "id": "lfQK55tLjqZ3"
      },
      "source": [
        "##Variables"
      ]
    },
    {
      "cell_type": "markdown",
      "metadata": {
        "id": "i27JUiLnn6Fh"
      },
      "source": [
        "Each variable has:\n",
        "* name\n",
        "* value\n",
        "* type\n",
        "* space in memory"
      ]
    },
    {
      "cell_type": "code",
      "execution_count": null,
      "metadata": {
        "colab": {
          "base_uri": "https://localhost:8080/",
          "height": 36
        },
        "id": "W9n1SgVtnrM-",
        "outputId": "35ef470e-9599-4788-ee14-6a4da9c98db0"
      },
      "outputs": [
        {
          "output_type": "execute_result",
          "data": {
            "text/plain": [
              "'Michal'"
            ],
            "application/vnd.google.colaboratory.intrinsic+json": {
              "type": "string"
            }
          },
          "metadata": {},
          "execution_count": 23
        }
      ],
      "source": [
        "#var_name / assign / value\n",
        "name = \"Michal\"\n",
        "name"
      ]
    },
    {
      "cell_type": "code",
      "execution_count": null,
      "metadata": {
        "colab": {
          "base_uri": "https://localhost:8080/",
          "height": 106
        },
        "id": "kRvnlcRYnvzS",
        "outputId": "ece43c49-1659-4278-82f8-dd671e9d3d80"
      },
      "outputs": [
        {
          "output_type": "error",
          "ename": "SyntaxError",
          "evalue": "invalid decimal literal (<ipython-input-30-79e544150594>, line 2)",
          "traceback": [
            "\u001b[0;36m  File \u001b[0;32m\"<ipython-input-30-79e544150594>\"\u001b[0;36m, line \u001b[0;32m2\u001b[0m\n\u001b[0;31m    2moje_jmeno = \"Michal\"\u001b[0m\n\u001b[0m    ^\u001b[0m\n\u001b[0;31mSyntaxError\u001b[0m\u001b[0;31m:\u001b[0m invalid decimal literal\n"
          ]
        }
      ],
      "source": [
        "#numbers in variable name\n",
        "2moje_jmeno = \"Michal\""
      ]
    },
    {
      "cell_type": "code",
      "execution_count": null,
      "metadata": {
        "id": "O6SJSzjXoRYb",
        "colab": {
          "base_uri": "https://localhost:8080/"
        },
        "outputId": "5145f3cc-067e-4cae-c15d-a99ec30fe2cf"
      },
      "outputs": [
        {
          "output_type": "stream",
          "name": "stdout",
          "text": [
            "Michal\n"
          ]
        }
      ],
      "source": [
        "#descriptive naming\n",
        "typek_co_rad_pise_svoje_jmeno_v_pythonu = \"Michal\"\n",
        "print(typek_co_rad_pise_svoje_jmeno_v_pythonu)"
      ]
    },
    {
      "cell_type": "code",
      "execution_count": null,
      "metadata": {
        "id": "nOLmohMooc82",
        "colab": {
          "base_uri": "https://localhost:8080/"
        },
        "outputId": "faaa2bbd-1e23-4fe5-e133-f4ae97b6809c"
      },
      "outputs": [
        {
          "output_type": "stream",
          "name": "stdout",
          "text": [
            "Type your name: Michal\n",
            "Michal\n"
          ]
        }
      ],
      "source": [
        "#Input function for user input from the console\n",
        "moje_jmeno = input(\"Type your name: \")\n",
        "print(moje_jmeno)"
      ]
    },
    {
      "cell_type": "markdown",
      "metadata": {
        "id": "lueoVS2EozdA"
      },
      "source": [
        "Reserved names:\n",
        "\n",
        "<div align = \"left\">\n",
        "<table>\n",
        "<tr><td>and</td><td>False</td><td>not</td></tr>\n",
        "<tr><td>as</td><td>finally</td><td>or</td></tr>\n",
        "<tr><td>assert</td><td>for</td><td>pass</td></tr>\n",
        "<tr><td>break</td><td>from</td><td>print</td></tr>\n",
        "<tr><td>class</td><td>global</td><td>raise</td></tr>\n",
        "<tr><td>continue</td><td>if</td><td>return</td></tr>\n",
        "<tr><td>def</td><td>import</td><td>True</td></tr>\n",
        "<tr><td>del</td><td>in</td><td>try</td></tr>\n",
        "<tr><td>elif</td><td>is</td><td>while</td></tr>\n",
        "<tr><td>else</td><td>lambda</td><td>with</td></tr>\n",
        "<tr><td>except</td><td>None</td><td>yield</td></tr>\n",
        "<tr><td></td><td>nonlocal</td><td></td></tr>\n",
        "</table>\n",
        "</div>"
      ]
    },
    {
      "cell_type": "markdown",
      "metadata": {
        "id": "SgLuvNuJoz39"
      },
      "source": [
        "##Data types"
      ]
    },
    {
      "cell_type": "markdown",
      "metadata": {
        "id": "StsRfYWLplTo"
      },
      "source": [
        "There are a large number of data types (types determine the amount of memory a variable\n",
        "takes):\n",
        "* Numbers (int - integers, float - rational (floating point) numbers)\n",
        "  * 1, -44, 100, 0, 5.5, 3.1415\n",
        "* Text (called string(s) in computer science)\n",
        "  * \"Hello world\"\n",
        "* Boolean values (true/false)\n",
        "  * True, False\n",
        "* Lists and tuples (a collection of variables of different types)\n",
        "  * [55, ‘string’, True] -> list, (55, ‘string’, True) -> tuple\n",
        "* Dictionary (map of key -> value)\n",
        "  * {‘Chris’: 4, ‘Haley’: 4.5, ‘Willie’: 5}\n",
        "* Sets (collection of unique data)\n",
        "  * {1,2,3,4} – values cannot be repeated\n",
        "* Representation of nothing\n",
        "  * None"
      ]
    },
    {
      "cell_type": "code",
      "execution_count": null,
      "metadata": {
        "id": "hbDt52Uoo6fv",
        "colab": {
          "base_uri": "https://localhost:8080/"
        },
        "outputId": "53f0821f-0051-4283-fd55-9936d6a0f506"
      },
      "outputs": [
        {
          "output_type": "stream",
          "name": "stdout",
          "text": [
            "25 <class 'int'>\n",
            "0.5 <class 'float'>\n",
            "Michal <class 'str'>\n"
          ]
        }
      ],
      "source": [
        "#Dynamic typing even for already defined variables\n",
        "number = 25\n",
        "print(number, type(number))\n",
        "number = 0.5\n",
        "print(number, type(number))\n",
        "number = \"Michal\"\n",
        "print(number, type(number))"
      ]
    },
    {
      "cell_type": "code",
      "execution_count": null,
      "metadata": {
        "id": "OeoeTW12pgCj",
        "colab": {
          "base_uri": "https://localhost:8080/",
          "height": 211
        },
        "outputId": "6d576873-bc4f-46dd-e0d8-13567f474567"
      },
      "outputs": [
        {
          "name": "stdout",
          "output_type": "stream",
          "text": [
            "Type your income: 50000\n"
          ]
        },
        {
          "output_type": "error",
          "ename": "TypeError",
          "evalue": "unsupported operand type(s) for +: 'int' and 'str'",
          "traceback": [
            "\u001b[0;31m---------------------------------------------------------------------------\u001b[0m",
            "\u001b[0;31mTypeError\u001b[0m                                 Traceback (most recent call last)",
            "\u001b[0;32m<ipython-input-65-8c65e398580a>\u001b[0m in \u001b[0;36m<cell line: 3>\u001b[0;34m()\u001b[0m\n\u001b[1;32m      1\u001b[0m \u001b[0;31m#Beware - data type matters!\u001b[0m\u001b[0;34m\u001b[0m\u001b[0;34m\u001b[0m\u001b[0m\n\u001b[1;32m      2\u001b[0m \u001b[0mmy_income\u001b[0m \u001b[0;34m=\u001b[0m \u001b[0minput\u001b[0m\u001b[0;34m(\u001b[0m\u001b[0;34m\"Type your income: \"\u001b[0m\u001b[0;34m)\u001b[0m\u001b[0;34m\u001b[0m\u001b[0;34m\u001b[0m\u001b[0m\n\u001b[0;32m----> 3\u001b[0;31m \u001b[0mmy_income\u001b[0m \u001b[0;34m=\u001b[0m \u001b[0;36m100000\u001b[0m \u001b[0;34m+\u001b[0m \u001b[0mmy_income\u001b[0m\u001b[0;34m\u001b[0m\u001b[0;34m\u001b[0m\u001b[0m\n\u001b[0m\u001b[1;32m      4\u001b[0m \u001b[0mprint\u001b[0m\u001b[0;34m(\u001b[0m\u001b[0mmy_income\u001b[0m\u001b[0;34m)\u001b[0m\u001b[0;34m\u001b[0m\u001b[0;34m\u001b[0m\u001b[0m\n",
            "\u001b[0;31mTypeError\u001b[0m: unsupported operand type(s) for +: 'int' and 'str'"
          ]
        }
      ],
      "source": [
        "#Beware - data type matters!\n",
        "my_income = input(\"Type your income: \")\n",
        "my_income = 100000 + my_income\n",
        "print(my_income)"
      ]
    },
    {
      "cell_type": "code",
      "execution_count": null,
      "metadata": {
        "id": "_yOx8ZiTqeaU",
        "colab": {
          "base_uri": "https://localhost:8080/"
        },
        "outputId": "63315e32-4d50-497a-d67b-beea7b48eda6"
      },
      "outputs": [
        {
          "output_type": "stream",
          "name": "stdout",
          "text": [
            "Type your income: 100\n",
            "100100\n"
          ]
        }
      ],
      "source": [
        "my_income = int(input(\"Type your income: \"))\n",
        "my_income = 100000 + my_income\n",
        "print(my_income)"
      ]
    },
    {
      "cell_type": "code",
      "execution_count": null,
      "metadata": {
        "id": "wNmTTFDwqvps",
        "colab": {
          "base_uri": "https://localhost:8080/"
        },
        "outputId": "016f6bd8-1868-4813-aef7-9e7301444d2e"
      },
      "outputs": [
        {
          "output_type": "stream",
          "name": "stdout",
          "text": [
            "Michal vydělává 1000 Kč.\n",
            "Michal vydělává 1000 Kč.\n",
            "Michal vydělává 1000 Kč.\n"
          ]
        }
      ],
      "source": [
        "#string formatting for print function\n",
        "my_income = 1000\n",
        "my_name = \"Michal\"\n",
        "\n",
        "print(my_name,\"vydělává\", my_income, \"Kč.\")\n",
        "print(str(my_name) + \" vydělává \" + str(my_income) + \" Kč.\")\n",
        "print(f\"{my_name} vydělává {my_income} Kč.\")"
      ]
    },
    {
      "cell_type": "markdown",
      "metadata": {
        "id": "zRnI_NgzstZw"
      },
      "source": [
        "###Numeric"
      ]
    },
    {
      "cell_type": "markdown",
      "metadata": {
        "id": "_v8mIUzys9Rh"
      },
      "source": [
        "* Integer (whole number)\n",
        "* Float (decimal number)"
      ]
    },
    {
      "cell_type": "code",
      "execution_count": null,
      "metadata": {
        "id": "u-dc7O0lrSBR",
        "colab": {
          "base_uri": "https://localhost:8080/"
        },
        "outputId": "3090ef1c-4581-4467-c9cd-522a2ec6d97d"
      },
      "outputs": [
        {
          "output_type": "stream",
          "name": "stdout",
          "text": [
            "4.5\n",
            "-18\n",
            "16\n",
            "3.3333333333333335\n",
            "3\n",
            "2\n"
          ]
        }
      ],
      "source": [
        "#plus\n",
        "print(2 + 2.5)\n",
        "#minus\n",
        "print(2 - 20)\n",
        "#power\n",
        "print(2 ** 4)\n",
        "#divide\n",
        "print(20 / 6)\n",
        "#integer division - whole numbers\n",
        "print(20 // 6)\n",
        "#remainder after integer division\n",
        "print(20 % 6)"
      ]
    },
    {
      "cell_type": "code",
      "source": [
        "b = 5\n",
        "b += 10\n",
        "print(b)"
      ],
      "metadata": {
        "id": "sskj9bpfOtMh",
        "colab": {
          "base_uri": "https://localhost:8080/"
        },
        "outputId": "e584eeed-22b4-4274-cb1c-fc03370abdb4"
      },
      "execution_count": null,
      "outputs": [
        {
          "output_type": "stream",
          "name": "stdout",
          "text": [
            "15\n"
          ]
        }
      ]
    },
    {
      "cell_type": "code",
      "execution_count": null,
      "metadata": {
        "id": "V2_mKFplreez",
        "colab": {
          "base_uri": "https://localhost:8080/"
        },
        "outputId": "82db3da1-a5d3-4355-f4a2-0a6f2d3b5235"
      },
      "outputs": [
        {
          "output_type": "stream",
          "name": "stdout",
          "text": [
            "32\n",
            "10\n",
            "36\n",
            "2.0\n",
            "1\n",
            "4\n"
          ]
        }
      ],
      "source": [
        "a = 12\n",
        "a += 20\n",
        "print(a)\n",
        "\n",
        "a = 12\n",
        "a -= 2\n",
        "print(a)\n",
        "\n",
        "a = 12\n",
        "a *= 3\n",
        "print(a)\n",
        "\n",
        "a = 12\n",
        "a /= 6\n",
        "print(a)\n",
        "\n",
        "a = 12\n",
        "a //= 8\n",
        "print(a)\n",
        "\n",
        "a = 12\n",
        "a %= 8\n",
        "print(a)"
      ]
    },
    {
      "cell_type": "markdown",
      "metadata": {
        "id": "uR7xra-qsyBA"
      },
      "source": [
        "###Boolean"
      ]
    },
    {
      "cell_type": "markdown",
      "metadata": {
        "id": "hkpKKMFGtIIy"
      },
      "source": [
        "* True\n",
        "* False"
      ]
    },
    {
      "cell_type": "code",
      "execution_count": null,
      "metadata": {
        "id": "mX1wtyO5sKi6",
        "colab": {
          "base_uri": "https://localhost:8080/"
        },
        "outputId": "485dab12-1a42-43e4-8c3b-508bfea14633"
      },
      "outputs": [
        {
          "output_type": "stream",
          "name": "stdout",
          "text": [
            "True\n",
            "False\n"
          ]
        }
      ],
      "source": [
        "print(5>3)\n",
        "print(3>5)"
      ]
    },
    {
      "cell_type": "code",
      "execution_count": null,
      "metadata": {
        "id": "Hhgd2U8esT71",
        "colab": {
          "base_uri": "https://localhost:8080/"
        },
        "outputId": "ae550420-c301-4d15-e3b9-305900aea5a3"
      },
      "outputs": [
        {
          "output_type": "stream",
          "name": "stdout",
          "text": [
            "True\n",
            "False\n"
          ]
        }
      ],
      "source": [
        "a = True\n",
        "print(a)\n",
        "print(not(a))"
      ]
    },
    {
      "cell_type": "markdown",
      "metadata": {
        "id": "7kFZ1Cjtsz7s"
      },
      "source": [
        "###String"
      ]
    },
    {
      "cell_type": "code",
      "execution_count": null,
      "metadata": {
        "id": "UAZupw9XsV4x",
        "colab": {
          "base_uri": "https://localhost:8080/"
        },
        "outputId": "2335e88b-27ea-4fed-d0f3-f4f48d50f579"
      },
      "outputs": [
        {
          "output_type": "stream",
          "name": "stdout",
          "text": [
            "Hello\n",
            "World\n",
            "HelloWorld\n",
            "Hello World\n",
            "Hello World!\n"
          ]
        }
      ],
      "source": [
        "a = \"Hello\"\n",
        "b = 'World'\n",
        "print(a)\n",
        "print(b)\n",
        "print(a + b)\n",
        "print(a + \" \" + b)\n",
        "print(a + \" \" + b + \"!\")"
      ]
    },
    {
      "cell_type": "code",
      "source": [
        "print(f\"{a} {b}!\")"
      ],
      "metadata": {
        "colab": {
          "base_uri": "https://localhost:8080/"
        },
        "id": "GS__s1gSnX01",
        "outputId": "b0b3a208-5cff-4cf8-89d1-1c2d951cc351"
      },
      "execution_count": null,
      "outputs": [
        {
          "output_type": "stream",
          "name": "stdout",
          "text": [
            "Hello World!\n"
          ]
        }
      ]
    },
    {
      "cell_type": "code",
      "execution_count": null,
      "metadata": {
        "id": "Hme2h9UYtUsN",
        "colab": {
          "base_uri": "https://localhost:8080/"
        },
        "outputId": "3555602a-525b-4afb-f635-ee5ba154b291"
      },
      "outputs": [
        {
          "output_type": "stream",
          "name": "stdout",
          "text": [
            "2 + 3 equals 4\n"
          ]
        }
      ],
      "source": [
        "print(\"2 + 3 equals \" + \"4\")"
      ]
    },
    {
      "cell_type": "code",
      "execution_count": null,
      "metadata": {
        "id": "gtomSNr4t_9V",
        "colab": {
          "base_uri": "https://localhost:8080/"
        },
        "outputId": "0c968bbd-be61-47ed-a6c1-e7c8f0e1bca1"
      },
      "outputs": [
        {
          "output_type": "stream",
          "name": "stdout",
          "text": [
            "2 + 5 = párek\n"
          ]
        }
      ],
      "source": [
        "x = \"párek\"\n",
        "print(\"2 + 5 = \" + str(x))"
      ]
    },
    {
      "cell_type": "code",
      "execution_count": null,
      "metadata": {
        "id": "ZnAj4apZtnxM",
        "colab": {
          "base_uri": "https://localhost:8080/"
        },
        "outputId": "5134f9bd-6394-47e4-f52a-d7d01dd2a5e7"
      },
      "outputs": [
        {
          "output_type": "stream",
          "name": "stdout",
          "text": [
            "15 * 30 = 450\n"
          ]
        }
      ],
      "source": [
        "a = 15\n",
        "b = 30\n",
        "result = a * b\n",
        "print(f\"{a} * {b} = {result}\")"
      ]
    },
    {
      "cell_type": "code",
      "execution_count": null,
      "metadata": {
        "id": "avOlgPvRt47e",
        "colab": {
          "base_uri": "https://localhost:8080/"
        },
        "outputId": "1d649b98-6da6-4519-b301-f8cbf262bd11"
      },
      "outputs": [
        {
          "output_type": "stream",
          "name": "stdout",
          "text": [
            "first line\n",
            "second line\n",
            "third line\n"
          ]
        }
      ],
      "source": [
        "#special characters\n",
        "print(\"first line\\nsecond line\\nthird line\")"
      ]
    },
    {
      "cell_type": "code",
      "execution_count": null,
      "metadata": {
        "id": "9ngMvpsyuLtB",
        "colab": {
          "base_uri": "https://localhost:8080/"
        },
        "outputId": "2dc093b5-c21a-44ee-9996-ea0938c3b667"
      },
      "outputs": [
        {
          "output_type": "stream",
          "name": "stdout",
          "text": [
            "It was 'funny'\n",
            "It was \"funny\"\n",
            "It was \"funny\"\n"
          ]
        }
      ],
      "source": [
        "#escape characters\n",
        "print(\"It was 'funny'\")\n",
        "print('It was \"funny\"')\n",
        "print(\"It was \\\"funny\\\"\")"
      ]
    },
    {
      "cell_type": "code",
      "execution_count": null,
      "metadata": {
        "id": "5De4fLTc7oDx",
        "colab": {
          "base_uri": "https://localhost:8080/"
        },
        "outputId": "c5a66672-b523-4102-ddf3-50d6ebd6128d"
      },
      "outputs": [
        {
          "output_type": "execute_result",
          "data": {
            "text/plain": [
              "['__add__',\n",
              " '__class__',\n",
              " '__contains__',\n",
              " '__delattr__',\n",
              " '__dir__',\n",
              " '__doc__',\n",
              " '__eq__',\n",
              " '__format__',\n",
              " '__ge__',\n",
              " '__getattribute__',\n",
              " '__getitem__',\n",
              " '__getnewargs__',\n",
              " '__gt__',\n",
              " '__hash__',\n",
              " '__init__',\n",
              " '__init_subclass__',\n",
              " '__iter__',\n",
              " '__le__',\n",
              " '__len__',\n",
              " '__lt__',\n",
              " '__mod__',\n",
              " '__mul__',\n",
              " '__ne__',\n",
              " '__new__',\n",
              " '__reduce__',\n",
              " '__reduce_ex__',\n",
              " '__repr__',\n",
              " '__rmod__',\n",
              " '__rmul__',\n",
              " '__setattr__',\n",
              " '__sizeof__',\n",
              " '__str__',\n",
              " '__subclasshook__',\n",
              " 'capitalize',\n",
              " 'casefold',\n",
              " 'center',\n",
              " 'count',\n",
              " 'encode',\n",
              " 'endswith',\n",
              " 'expandtabs',\n",
              " 'find',\n",
              " 'format',\n",
              " 'format_map',\n",
              " 'index',\n",
              " 'isalnum',\n",
              " 'isalpha',\n",
              " 'isascii',\n",
              " 'isdecimal',\n",
              " 'isdigit',\n",
              " 'isidentifier',\n",
              " 'islower',\n",
              " 'isnumeric',\n",
              " 'isprintable',\n",
              " 'isspace',\n",
              " 'istitle',\n",
              " 'isupper',\n",
              " 'join',\n",
              " 'ljust',\n",
              " 'lower',\n",
              " 'lstrip',\n",
              " 'maketrans',\n",
              " 'partition',\n",
              " 'removeprefix',\n",
              " 'removesuffix',\n",
              " 'replace',\n",
              " 'rfind',\n",
              " 'rindex',\n",
              " 'rjust',\n",
              " 'rpartition',\n",
              " 'rsplit',\n",
              " 'rstrip',\n",
              " 'split',\n",
              " 'splitlines',\n",
              " 'startswith',\n",
              " 'strip',\n",
              " 'swapcase',\n",
              " 'title',\n",
              " 'translate',\n",
              " 'upper',\n",
              " 'zfill']"
            ]
          },
          "metadata": {},
          "execution_count": 110
        }
      ],
      "source": [
        "#string methods\n",
        "dir(\"a\")"
      ]
    },
    {
      "cell_type": "code",
      "execution_count": null,
      "metadata": {
        "id": "1ZnLZXiN7zwZ",
        "colab": {
          "base_uri": "https://localhost:8080/"
        },
        "outputId": "f8ac7032-ebd3-4670-cb30-7d1685cc93c2"
      },
      "outputs": [
        {
          "output_type": "stream",
          "name": "stdout",
          "text": [
            "oo\n",
            "GOOD MORNING, MY DARLING.\n",
            "['good', 'morning,', 'my', 'darling.']\n",
            "good Morning, My darling.\n"
          ]
        }
      ],
      "source": [
        "text = \"good morning, my darling.\"\n",
        "#slicing\n",
        "print(text[1:3])\n",
        "#converts all letters to uppercase\n",
        "print(text.upper())\n",
        "#split the object into arrays by a separator (default sep \" \")\n",
        "print(text.split(\" \"))\n",
        "#replace characters\n",
        "print(text.replace(\"m\", \"M\"))"
      ]
    },
    {
      "cell_type": "markdown",
      "metadata": {
        "id": "W2IFby3Zuw7g"
      },
      "source": [
        "Useful built-in functions\n",
        "on each object:\n",
        "* dir - lists the available methods and attributes\n",
        "* type - will print the type of the object\n",
        "* help - writes out the documentation"
      ]
    },
    {
      "cell_type": "code",
      "execution_count": null,
      "metadata": {
        "id": "CkC7RDA7u265",
        "colab": {
          "base_uri": "https://localhost:8080/"
        },
        "outputId": "0fc82c12-cbf4-45b0-c038-7a146cbdaece"
      },
      "outputs": [
        {
          "output_type": "stream",
          "name": "stdout",
          "text": [
            "Help on int object:\n",
            "\n",
            "class int(object)\n",
            " |  int([x]) -> integer\n",
            " |  int(x, base=10) -> integer\n",
            " |  \n",
            " |  Convert a number or string to an integer, or return 0 if no arguments\n",
            " |  are given.  If x is a number, return x.__int__().  For floating point\n",
            " |  numbers, this truncates towards zero.\n",
            " |  \n",
            " |  If x is not a number or if base is given, then x must be a string,\n",
            " |  bytes, or bytearray instance representing an integer literal in the\n",
            " |  given base.  The literal can be preceded by '+' or '-' and be surrounded\n",
            " |  by whitespace.  The base defaults to 10.  Valid bases are 0 and 2-36.\n",
            " |  Base 0 means to interpret the base from the string as an integer literal.\n",
            " |  >>> int('0b100', base=0)\n",
            " |  4\n",
            " |  \n",
            " |  Built-in subclasses:\n",
            " |      bool\n",
            " |  \n",
            " |  Methods defined here:\n",
            " |  \n",
            " |  __abs__(self, /)\n",
            " |      abs(self)\n",
            " |  \n",
            " |  __add__(self, value, /)\n",
            " |      Return self+value.\n",
            " |  \n",
            " |  __and__(self, value, /)\n",
            " |      Return self&value.\n",
            " |  \n",
            " |  __bool__(self, /)\n",
            " |      True if self else False\n",
            " |  \n",
            " |  __ceil__(...)\n",
            " |      Ceiling of an Integral returns itself.\n",
            " |  \n",
            " |  __divmod__(self, value, /)\n",
            " |      Return divmod(self, value).\n",
            " |  \n",
            " |  __eq__(self, value, /)\n",
            " |      Return self==value.\n",
            " |  \n",
            " |  __float__(self, /)\n",
            " |      float(self)\n",
            " |  \n",
            " |  __floor__(...)\n",
            " |      Flooring an Integral returns itself.\n",
            " |  \n",
            " |  __floordiv__(self, value, /)\n",
            " |      Return self//value.\n",
            " |  \n",
            " |  __format__(self, format_spec, /)\n",
            " |      Default object formatter.\n",
            " |  \n",
            " |  __ge__(self, value, /)\n",
            " |      Return self>=value.\n",
            " |  \n",
            " |  __getattribute__(self, name, /)\n",
            " |      Return getattr(self, name).\n",
            " |  \n",
            " |  __getnewargs__(self, /)\n",
            " |  \n",
            " |  __gt__(self, value, /)\n",
            " |      Return self>value.\n",
            " |  \n",
            " |  __hash__(self, /)\n",
            " |      Return hash(self).\n",
            " |  \n",
            " |  __index__(self, /)\n",
            " |      Return self converted to an integer, if self is suitable for use as an index into a list.\n",
            " |  \n",
            " |  __int__(self, /)\n",
            " |      int(self)\n",
            " |  \n",
            " |  __invert__(self, /)\n",
            " |      ~self\n",
            " |  \n",
            " |  __le__(self, value, /)\n",
            " |      Return self<=value.\n",
            " |  \n",
            " |  __lshift__(self, value, /)\n",
            " |      Return self<<value.\n",
            " |  \n",
            " |  __lt__(self, value, /)\n",
            " |      Return self<value.\n",
            " |  \n",
            " |  __mod__(self, value, /)\n",
            " |      Return self%value.\n",
            " |  \n",
            " |  __mul__(self, value, /)\n",
            " |      Return self*value.\n",
            " |  \n",
            " |  __ne__(self, value, /)\n",
            " |      Return self!=value.\n",
            " |  \n",
            " |  __neg__(self, /)\n",
            " |      -self\n",
            " |  \n",
            " |  __or__(self, value, /)\n",
            " |      Return self|value.\n",
            " |  \n",
            " |  __pos__(self, /)\n",
            " |      +self\n",
            " |  \n",
            " |  __pow__(self, value, mod=None, /)\n",
            " |      Return pow(self, value, mod).\n",
            " |  \n",
            " |  __radd__(self, value, /)\n",
            " |      Return value+self.\n",
            " |  \n",
            " |  __rand__(self, value, /)\n",
            " |      Return value&self.\n",
            " |  \n",
            " |  __rdivmod__(self, value, /)\n",
            " |      Return divmod(value, self).\n",
            " |  \n",
            " |  __repr__(self, /)\n",
            " |      Return repr(self).\n",
            " |  \n",
            " |  __rfloordiv__(self, value, /)\n",
            " |      Return value//self.\n",
            " |  \n",
            " |  __rlshift__(self, value, /)\n",
            " |      Return value<<self.\n",
            " |  \n",
            " |  __rmod__(self, value, /)\n",
            " |      Return value%self.\n",
            " |  \n",
            " |  __rmul__(self, value, /)\n",
            " |      Return value*self.\n",
            " |  \n",
            " |  __ror__(self, value, /)\n",
            " |      Return value|self.\n",
            " |  \n",
            " |  __round__(...)\n",
            " |      Rounding an Integral returns itself.\n",
            " |      \n",
            " |      Rounding with an ndigits argument also returns an integer.\n",
            " |  \n",
            " |  __rpow__(self, value, mod=None, /)\n",
            " |      Return pow(value, self, mod).\n",
            " |  \n",
            " |  __rrshift__(self, value, /)\n",
            " |      Return value>>self.\n",
            " |  \n",
            " |  __rshift__(self, value, /)\n",
            " |      Return self>>value.\n",
            " |  \n",
            " |  __rsub__(self, value, /)\n",
            " |      Return value-self.\n",
            " |  \n",
            " |  __rtruediv__(self, value, /)\n",
            " |      Return value/self.\n",
            " |  \n",
            " |  __rxor__(self, value, /)\n",
            " |      Return value^self.\n",
            " |  \n",
            " |  __sizeof__(self, /)\n",
            " |      Returns size in memory, in bytes.\n",
            " |  \n",
            " |  __sub__(self, value, /)\n",
            " |      Return self-value.\n",
            " |  \n",
            " |  __truediv__(self, value, /)\n",
            " |      Return self/value.\n",
            " |  \n",
            " |  __trunc__(...)\n",
            " |      Truncating an Integral returns itself.\n",
            " |  \n",
            " |  __xor__(self, value, /)\n",
            " |      Return self^value.\n",
            " |  \n",
            " |  as_integer_ratio(self, /)\n",
            " |      Return integer ratio.\n",
            " |      \n",
            " |      Return a pair of integers, whose ratio is exactly equal to the original int\n",
            " |      and with a positive denominator.\n",
            " |      \n",
            " |      >>> (10).as_integer_ratio()\n",
            " |      (10, 1)\n",
            " |      >>> (-10).as_integer_ratio()\n",
            " |      (-10, 1)\n",
            " |      >>> (0).as_integer_ratio()\n",
            " |      (0, 1)\n",
            " |  \n",
            " |  bit_count(self, /)\n",
            " |      Number of ones in the binary representation of the absolute value of self.\n",
            " |      \n",
            " |      Also known as the population count.\n",
            " |      \n",
            " |      >>> bin(13)\n",
            " |      '0b1101'\n",
            " |      >>> (13).bit_count()\n",
            " |      3\n",
            " |  \n",
            " |  bit_length(self, /)\n",
            " |      Number of bits necessary to represent self in binary.\n",
            " |      \n",
            " |      >>> bin(37)\n",
            " |      '0b100101'\n",
            " |      >>> (37).bit_length()\n",
            " |      6\n",
            " |  \n",
            " |  conjugate(...)\n",
            " |      Returns self, the complex conjugate of any int.\n",
            " |  \n",
            " |  to_bytes(self, /, length, byteorder, *, signed=False)\n",
            " |      Return an array of bytes representing an integer.\n",
            " |      \n",
            " |      length\n",
            " |        Length of bytes object to use.  An OverflowError is raised if the\n",
            " |        integer is not representable with the given number of bytes.\n",
            " |      byteorder\n",
            " |        The byte order used to represent the integer.  If byteorder is 'big',\n",
            " |        the most significant byte is at the beginning of the byte array.  If\n",
            " |        byteorder is 'little', the most significant byte is at the end of the\n",
            " |        byte array.  To request the native byte order of the host system, use\n",
            " |        `sys.byteorder' as the byte order value.\n",
            " |      signed\n",
            " |        Determines whether two's complement is used to represent the integer.\n",
            " |        If signed is False and a negative integer is given, an OverflowError\n",
            " |        is raised.\n",
            " |  \n",
            " |  ----------------------------------------------------------------------\n",
            " |  Class methods defined here:\n",
            " |  \n",
            " |  from_bytes(bytes, byteorder, *, signed=False) from builtins.type\n",
            " |      Return the integer represented by the given array of bytes.\n",
            " |      \n",
            " |      bytes\n",
            " |        Holds the array of bytes to convert.  The argument must either\n",
            " |        support the buffer protocol or be an iterable object producing bytes.\n",
            " |        Bytes and bytearray are examples of built-in objects that support the\n",
            " |        buffer protocol.\n",
            " |      byteorder\n",
            " |        The byte order used to represent the integer.  If byteorder is 'big',\n",
            " |        the most significant byte is at the beginning of the byte array.  If\n",
            " |        byteorder is 'little', the most significant byte is at the end of the\n",
            " |        byte array.  To request the native byte order of the host system, use\n",
            " |        `sys.byteorder' as the byte order value.\n",
            " |      signed\n",
            " |        Indicates whether two's complement is used to represent the integer.\n",
            " |  \n",
            " |  ----------------------------------------------------------------------\n",
            " |  Static methods defined here:\n",
            " |  \n",
            " |  __new__(*args, **kwargs) from builtins.type\n",
            " |      Create and return a new object.  See help(type) for accurate signature.\n",
            " |  \n",
            " |  ----------------------------------------------------------------------\n",
            " |  Data descriptors defined here:\n",
            " |  \n",
            " |  denominator\n",
            " |      the denominator of a rational number in lowest terms\n",
            " |  \n",
            " |  imag\n",
            " |      the imaginary part of a complex number\n",
            " |  \n",
            " |  numerator\n",
            " |      the numerator of a rational number in lowest terms\n",
            " |  \n",
            " |  real\n",
            " |      the real part of a complex number\n",
            "\n",
            "None\n",
            "\n",
            "-----------------------\n",
            "\n",
            "<class 'int'>\n",
            "\n",
            "-----------------------\n",
            "\n"
          ]
        },
        {
          "output_type": "execute_result",
          "data": {
            "text/plain": [
              "['__abs__',\n",
              " '__add__',\n",
              " '__and__',\n",
              " '__bool__',\n",
              " '__ceil__',\n",
              " '__class__',\n",
              " '__delattr__',\n",
              " '__dir__',\n",
              " '__divmod__',\n",
              " '__doc__',\n",
              " '__eq__',\n",
              " '__float__',\n",
              " '__floor__',\n",
              " '__floordiv__',\n",
              " '__format__',\n",
              " '__ge__',\n",
              " '__getattribute__',\n",
              " '__getnewargs__',\n",
              " '__gt__',\n",
              " '__hash__',\n",
              " '__index__',\n",
              " '__init__',\n",
              " '__init_subclass__',\n",
              " '__int__',\n",
              " '__invert__',\n",
              " '__le__',\n",
              " '__lshift__',\n",
              " '__lt__',\n",
              " '__mod__',\n",
              " '__mul__',\n",
              " '__ne__',\n",
              " '__neg__',\n",
              " '__new__',\n",
              " '__or__',\n",
              " '__pos__',\n",
              " '__pow__',\n",
              " '__radd__',\n",
              " '__rand__',\n",
              " '__rdivmod__',\n",
              " '__reduce__',\n",
              " '__reduce_ex__',\n",
              " '__repr__',\n",
              " '__rfloordiv__',\n",
              " '__rlshift__',\n",
              " '__rmod__',\n",
              " '__rmul__',\n",
              " '__ror__',\n",
              " '__round__',\n",
              " '__rpow__',\n",
              " '__rrshift__',\n",
              " '__rshift__',\n",
              " '__rsub__',\n",
              " '__rtruediv__',\n",
              " '__rxor__',\n",
              " '__setattr__',\n",
              " '__sizeof__',\n",
              " '__str__',\n",
              " '__sub__',\n",
              " '__subclasshook__',\n",
              " '__truediv__',\n",
              " '__trunc__',\n",
              " '__xor__',\n",
              " 'as_integer_ratio',\n",
              " 'bit_count',\n",
              " 'bit_length',\n",
              " 'conjugate',\n",
              " 'denominator',\n",
              " 'from_bytes',\n",
              " 'imag',\n",
              " 'numerator',\n",
              " 'real',\n",
              " 'to_bytes']"
            ]
          },
          "metadata": {},
          "execution_count": 115
        }
      ],
      "source": [
        "#Get help from the documentation\n",
        "print(help(2))\n",
        "print(\"\\n-----------------------\\n\")\n",
        "#Get data type\n",
        "print(type(2))\n",
        "print(\"\\n-----------------------\\n\")\n",
        "#Get all methods and attributes\n",
        "dir(2)"
      ]
    },
    {
      "cell_type": "markdown",
      "metadata": {
        "id": "Bl1XCVgX21bK"
      },
      "source": [
        "###Data retyping"
      ]
    },
    {
      "cell_type": "code",
      "execution_count": null,
      "metadata": {
        "id": "ivI2Y26a27vi",
        "colab": {
          "base_uri": "https://localhost:8080/"
        },
        "outputId": "a0b65b8e-7760-428f-9f26-2939647eb2ba"
      },
      "outputs": [
        {
          "output_type": "stream",
          "name": "stdout",
          "text": [
            "10 <class 'str'>\n",
            "10 <class 'int'>\n",
            "10.0 <class 'float'>\n",
            "True <class 'bool'>\n"
          ]
        }
      ],
      "source": [
        "a = \"10\"\n",
        "print(a, type(a))\n",
        "a = int(a)\n",
        "print(a, type(a))\n",
        "a = float(a)\n",
        "print(a, type(a))\n",
        "a = bool(a)\n",
        "print(a, type(a))"
      ]
    },
    {
      "cell_type": "markdown",
      "metadata": {
        "id": "_Vop_9B8vn42"
      },
      "source": [
        "###Tasks 1 and 2\n",
        "* Importing libraries\n",
        "* Variables and data types"
      ]
    },
    {
      "cell_type": "markdown",
      "metadata": {
        "id": "WP_bP5q-yB4r"
      },
      "source": [
        "##If-Else"
      ]
    },
    {
      "cell_type": "code",
      "execution_count": null,
      "metadata": {
        "id": "qaXgQ8CZyFlg",
        "colab": {
          "base_uri": "https://localhost:8080/"
        },
        "outputId": "a8b6c311-0b80-4d54-f8fd-145ba8bc6f3e"
      },
      "outputs": [
        {
          "output_type": "stream",
          "name": "stdout",
          "text": [
            "True\n"
          ]
        }
      ],
      "source": [
        "#Basic\n",
        "if 4==4:\n",
        "  print(True)"
      ]
    },
    {
      "cell_type": "code",
      "execution_count": null,
      "metadata": {
        "id": "lOdFpz2NyLnU"
      },
      "outputs": [],
      "source": [
        "animal = \"cow\"\n",
        "\n",
        "if animal == \"cat\":\n",
        "  print(\"Animal is cat.\")"
      ]
    },
    {
      "cell_type": "code",
      "execution_count": null,
      "metadata": {
        "id": "AjabRY0EyUH7",
        "colab": {
          "base_uri": "https://localhost:8080/"
        },
        "outputId": "5cf87137-45bc-4531-fc7d-8690bc4db564"
      },
      "outputs": [
        {
          "output_type": "stream",
          "name": "stdout",
          "text": [
            "Animal is not cat\n"
          ]
        }
      ],
      "source": [
        "#Else statement\n",
        "animal = \"dog\"\n",
        "\n",
        "if animal == \"cat\":\n",
        "  print(\"Animal is cat.\")\n",
        "else:\n",
        "  print(\"Animal is not cat\")"
      ]
    },
    {
      "cell_type": "code",
      "execution_count": null,
      "metadata": {
        "id": "rh_nI8mVydYz",
        "colab": {
          "base_uri": "https://localhost:8080/"
        },
        "outputId": "3d3a4367-8ee1-4fbb-9e59-a820b13bd4ed"
      },
      "outputs": [
        {
          "output_type": "stream",
          "name": "stdout",
          "text": [
            "False\n"
          ]
        }
      ],
      "source": [
        "if 5==4:\n",
        "  print(True)\n",
        "else:\n",
        "  print(False)"
      ]
    },
    {
      "cell_type": "code",
      "execution_count": null,
      "metadata": {
        "id": "9SIDlqiVyf3j"
      },
      "outputs": [],
      "source": [
        "#More complex structures\n",
        "x = 0\n",
        "y = 10\n",
        "if x == 0:\n",
        "  if y != 10:\n",
        "    print(\"Yes\")\n",
        "else:\n",
        "  print(\"condition False\")"
      ]
    },
    {
      "cell_type": "code",
      "execution_count": null,
      "metadata": {
        "id": "zgFVx3E9ypn9",
        "colab": {
          "base_uri": "https://localhost:8080/"
        },
        "outputId": "880c9354-483e-45e5-d69c-fe0c8a5dd78f"
      },
      "outputs": [
        {
          "output_type": "stream",
          "name": "stdout",
          "text": [
            "Yes\n"
          ]
        }
      ],
      "source": [
        "#and in condition\n",
        "x = 0\n",
        "y = 10\n",
        "if 0 == x and y == 10:\n",
        "  print(\"Yes\")\n",
        "else:\n",
        "  print(\"condition False\")"
      ]
    },
    {
      "cell_type": "code",
      "execution_count": null,
      "metadata": {
        "id": "jofVzV8DzFWr",
        "colab": {
          "base_uri": "https://localhost:8080/"
        },
        "outputId": "ac1bf08d-e39d-4dc2-a5f6-1739188df1f6"
      },
      "outputs": [
        {
          "output_type": "stream",
          "name": "stdout",
          "text": [
            "Yes\n"
          ]
        }
      ],
      "source": [
        "#or in condition\n",
        "x = 1\n",
        "y = 10.0\n",
        "if 0 == x or y == 10:\n",
        "    print(\"Yes\")"
      ]
    },
    {
      "cell_type": "code",
      "execution_count": null,
      "metadata": {
        "id": "wQmYgvNozi0e",
        "colab": {
          "base_uri": "https://localhost:8080/"
        },
        "outputId": "79f86189-f8b5-4d48-9131-4828797ca13b"
      },
      "outputs": [
        {
          "output_type": "stream",
          "name": "stdout",
          "text": [
            "positive\n"
          ]
        }
      ],
      "source": [
        "#one line if-else\n",
        "b = 0\n",
        "a = \"positive\" if b >= 0 else \"negative\"\n",
        "print(a)"
      ]
    },
    {
      "cell_type": "code",
      "execution_count": null,
      "metadata": {
        "id": "V2Cc0kD26UiS",
        "colab": {
          "base_uri": "https://localhost:8080/"
        },
        "outputId": "e5b17649-fa70-4325-bf38-081f362341f0"
      },
      "outputs": [
        {
          "output_type": "stream",
          "name": "stdout",
          "text": [
            "Still small number\n"
          ]
        }
      ],
      "source": [
        "#Elif statement - more conditions in one if-else\n",
        "number = 2\n",
        "if number == 1:\n",
        "  print(\"Small number\")\n",
        "elif number == 2:\n",
        "  print(\"Still small number\")\n",
        "elif number < 10:\n",
        "  print(\"Growing, but still small number\")\n",
        "else:\n",
        "  print(\"Big number\")"
      ]
    },
    {
      "cell_type": "markdown",
      "metadata": {
        "id": "qLOU_-C0zKZg"
      },
      "source": [
        "###Data types behaviour when retyped to boolean"
      ]
    },
    {
      "cell_type": "code",
      "execution_count": null,
      "metadata": {
        "id": "YcUZUBfvzTsi",
        "colab": {
          "base_uri": "https://localhost:8080/"
        },
        "outputId": "31d6a080-43d0-4728-d2e3-4bb1123bdff4"
      },
      "outputs": [
        {
          "output_type": "stream",
          "name": "stdout",
          "text": [
            "Same\n"
          ]
        }
      ],
      "source": [
        "#data type overflow - rounding problem\n",
        "if 5 == 4.999999999999999:\n",
        "  print(\"Same\")\n",
        "else:\n",
        "  print(\"Different\")"
      ]
    },
    {
      "cell_type": "code",
      "execution_count": null,
      "metadata": {
        "id": "pf9Wz0XHzXJa",
        "colab": {
          "base_uri": "https://localhost:8080/"
        },
        "outputId": "4fb07a29-d05e-474c-b1cb-d27f4b5b152c"
      },
      "outputs": [
        {
          "output_type": "stream",
          "name": "stdout",
          "text": [
            "<class 'float'>\n"
          ]
        },
        {
          "output_type": "execute_result",
          "data": {
            "text/plain": [
              "True"
            ]
          },
          "metadata": {},
          "execution_count": 145
        }
      ],
      "source": [
        "x = 4.9999999999999999\n",
        "x_datovy_typ = type(x)\n",
        "print(x_datovy_typ) # jakého datového typu je proměnná x?\n",
        "x.is_integer() # je hodnota v x převeditelná na integer?"
      ]
    },
    {
      "cell_type": "code",
      "execution_count": null,
      "metadata": {
        "id": "kvFXlc6mzZL7",
        "colab": {
          "base_uri": "https://localhost:8080/"
        },
        "outputId": "c68a143b-63e2-4b3b-9ddf-b1bbbfe5d4ae"
      },
      "outputs": [
        {
          "output_type": "stream",
          "name": "stdout",
          "text": [
            "False\n"
          ]
        }
      ],
      "source": [
        "#empty string -> False\n",
        "slovo = \"\"\n",
        "\n",
        "if slovo:\n",
        "  print(True)\n",
        "else:\n",
        "  print(False)"
      ]
    },
    {
      "cell_type": "code",
      "execution_count": null,
      "metadata": {
        "id": "bTgK3Jqbzecx",
        "colab": {
          "base_uri": "https://localhost:8080/"
        },
        "outputId": "f3a5a2fe-5bf2-45fe-8d17-a96fb7243aad"
      },
      "outputs": [
        {
          "output_type": "stream",
          "name": "stdout",
          "text": [
            "True\n"
          ]
        }
      ],
      "source": [
        "#numeric zero -> False\n",
        "cislo = 1\n",
        "\n",
        "if cislo:\n",
        "  print(True)\n",
        "else:\n",
        "  print(False)"
      ]
    },
    {
      "cell_type": "code",
      "execution_count": null,
      "metadata": {
        "id": "QZ2y8LiGze0j",
        "colab": {
          "base_uri": "https://localhost:8080/"
        },
        "outputId": "4d2e2f86-5572-416b-9bd7-8e762fb82219"
      },
      "outputs": [
        {
          "output_type": "stream",
          "name": "stdout",
          "text": [
            "True\n"
          ]
        }
      ],
      "source": [
        "nula = \"0\"\n",
        "if nula:\n",
        "  print(True)\n",
        "else:\n",
        "  print(False)"
      ]
    },
    {
      "cell_type": "markdown",
      "metadata": {
        "id": "4W7vRt7Qzg1T"
      },
      "source": [
        "###Task 3 If-else"
      ]
    },
    {
      "cell_type": "markdown",
      "metadata": {
        "id": "FejTR-JN1iTb"
      },
      "source": [
        "##Functions"
      ]
    },
    {
      "cell_type": "markdown",
      "metadata": {
        "id": "d5C-uneo3l1W"
      },
      "source": [
        "* A function is a clearly separated piece of code that has one specific task.\n",
        "* The function declaration begins with the def keyword.\n",
        "* It is followed by the name of the function\n",
        "* In parentheses we give the arguments of the function, separated by commas\n",
        "* Function does not need to have arguments"
      ]
    },
    {
      "cell_type": "code",
      "execution_count": null,
      "metadata": {
        "id": "iy5Hj8uC3SvZ",
        "colab": {
          "base_uri": "https://localhost:8080/"
        },
        "outputId": "bf42c832-613b-47a9-8e0f-924134d169ac"
      },
      "outputs": [
        {
          "output_type": "stream",
          "name": "stdout",
          "text": [
            "5\n"
          ]
        }
      ],
      "source": [
        "#Function call\n",
        "a = 1\n",
        "b = 4\n",
        "soucet = a + b\n",
        "print(soucet)"
      ]
    },
    {
      "cell_type": "code",
      "execution_count": null,
      "metadata": {
        "id": "fAscTMHD4FX6"
      },
      "outputs": [],
      "source": [
        "#Function with no arguments\n",
        "def sum_numbers():\n",
        "  abc = 1\n",
        "  result = abc + 5\n",
        "  print(result)"
      ]
    },
    {
      "cell_type": "code",
      "execution_count": null,
      "metadata": {
        "id": "w3phb71A4n54",
        "colab": {
          "base_uri": "https://localhost:8080/",
          "height": 158
        },
        "outputId": "a0b4ae44-81f2-45f6-a311-af2ea8c26450"
      },
      "outputs": [
        {
          "output_type": "error",
          "ename": "NameError",
          "evalue": "name 'result' is not defined",
          "traceback": [
            "\u001b[0;31m---------------------------------------------------------------------------\u001b[0m",
            "\u001b[0;31mNameError\u001b[0m                                 Traceback (most recent call last)",
            "\u001b[0;32m<ipython-input-4-b0c211b3aef2>\u001b[0m in \u001b[0;36m<cell line: 2>\u001b[0;34m()\u001b[0m\n\u001b[1;32m      1\u001b[0m \u001b[0;31m#Interface between program and function - arguments and return\u001b[0m\u001b[0;34m\u001b[0m\u001b[0;34m\u001b[0m\u001b[0m\n\u001b[0;32m----> 2\u001b[0;31m \u001b[0mprint\u001b[0m\u001b[0;34m(\u001b[0m\u001b[0mresult\u001b[0m\u001b[0;34m)\u001b[0m\u001b[0;34m\u001b[0m\u001b[0;34m\u001b[0m\u001b[0m\n\u001b[0m",
            "\u001b[0;31mNameError\u001b[0m: name 'result' is not defined"
          ]
        }
      ],
      "source": [
        "#Interface between program and function - arguments and return\n",
        "print(result)"
      ]
    },
    {
      "cell_type": "code",
      "execution_count": null,
      "metadata": {
        "id": "ZBKad3Ub5GaD"
      },
      "outputs": [],
      "source": [
        "def sum_numbers_2():\n",
        "  abc = 1\n",
        "  result = abc + 5\n",
        "  return result"
      ]
    },
    {
      "cell_type": "code",
      "execution_count": null,
      "metadata": {
        "id": "q1jR52525LuE",
        "colab": {
          "base_uri": "https://localhost:8080/"
        },
        "outputId": "d7c14ef2-47be-4116-fe7c-338f8eea6ec2"
      },
      "outputs": [
        {
          "output_type": "stream",
          "name": "stdout",
          "text": [
            "6 <class 'int'>\n"
          ]
        }
      ],
      "source": [
        "sum = sum_numbers_2()\n",
        "print(sum, type(sum))"
      ]
    },
    {
      "cell_type": "code",
      "execution_count": null,
      "metadata": {
        "id": "JXdWIzYC4QkR",
        "colab": {
          "base_uri": "https://localhost:8080/"
        },
        "outputId": "8b577fc6-fc97-496f-d796-af055f42dd21"
      },
      "outputs": [
        {
          "output_type": "stream",
          "name": "stdout",
          "text": [
            "5\n",
            "9.2\n",
            "ouyee\n"
          ]
        }
      ],
      "source": [
        "#Function with required positional arguments\n",
        "def secti_2_cisla(a, b):\n",
        "  result = a + b\n",
        "  print(result)\n",
        "\n",
        "secti_2_cisla(1, 4)\n",
        "secti_2_cisla(3.4, 5.8)\n",
        "secti_2_cisla(\"ou\", \"yee\")"
      ]
    },
    {
      "cell_type": "code",
      "execution_count": null,
      "metadata": {
        "id": "wfBdfHm24X7s"
      },
      "outputs": [],
      "source": [
        "#Argument with default values\n",
        "def sum_numbers_4(a=5, b=10, c=2, d=20):\n",
        "  result = a + b + c + d\n",
        "  return result"
      ]
    },
    {
      "cell_type": "code",
      "source": [
        "sum_1 = sum_numbers_4(4, 6, 2, 0)\n",
        "print(sum_1)\n",
        "\n",
        "sum_2 = sum_numbers_4(12, 5)\n",
        "print(sum_2)\n",
        "\n",
        "sum_3 = sum_numbers_4(3)\n",
        "print(sum_3)\n",
        "\n",
        "sum_4 = sum_numbers_4()\n",
        "print(sum_4)"
      ],
      "metadata": {
        "colab": {
          "base_uri": "https://localhost:8080/"
        },
        "id": "RVTtYsrChtj6",
        "outputId": "f25d15ff-e733-46fa-f908-de4824b9d0a1"
      },
      "execution_count": null,
      "outputs": [
        {
          "output_type": "stream",
          "name": "stdout",
          "text": [
            "12\n",
            "39\n",
            "35\n",
            "37\n"
          ]
        }
      ]
    },
    {
      "cell_type": "code",
      "source": [
        "sum_numbers_4(5, 2)"
      ],
      "metadata": {
        "colab": {
          "base_uri": "https://localhost:8080/"
        },
        "id": "1zZSIg1hDhXx",
        "outputId": "4f63f0dc-15b7-4e07-a3e5-d9d0dbaa2918"
      },
      "execution_count": null,
      "outputs": [
        {
          "output_type": "execute_result",
          "data": {
            "text/plain": [
              "29"
            ]
          },
          "metadata": {},
          "execution_count": 25
        }
      ]
    },
    {
      "cell_type": "code",
      "execution_count": null,
      "metadata": {
        "id": "aoMFSSb55hSD"
      },
      "outputs": [],
      "source": [
        "#If-else in function\n",
        "def evaluate(a, b):\n",
        "  if a < 0:\n",
        "    return \"a < 0\"\n",
        "  elif b < 0:\n",
        "    return \"b < 0\"\n",
        "  else:\n",
        "    return \"both positive\""
      ]
    },
    {
      "cell_type": "code",
      "source": [
        "result = evaluate(1, -5)"
      ],
      "metadata": {
        "id": "Am-P7wzhi_MA"
      },
      "execution_count": null,
      "outputs": []
    },
    {
      "cell_type": "code",
      "source": [
        "print(result)"
      ],
      "metadata": {
        "id": "Xkvg9Bo77JIH",
        "colab": {
          "base_uri": "https://localhost:8080/"
        },
        "outputId": "37176376-7eba-4a41-e8d0-abd4aba51e2d"
      },
      "execution_count": null,
      "outputs": [
        {
          "output_type": "stream",
          "name": "stdout",
          "text": [
            "b < 0\n"
          ]
        }
      ]
    },
    {
      "cell_type": "code",
      "execution_count": null,
      "metadata": {
        "id": "hL2MEFy_8B4c"
      },
      "outputs": [],
      "source": [
        "#More returned values\n",
        "def divide_and_sum(cislo_1, cislo_2):\n",
        "  div = cislo_1 / cislo_2\n",
        "  sum = cislo_1 + cislo_2\n",
        "  return div, sum"
      ]
    },
    {
      "cell_type": "code",
      "source": [
        "podil, soucet = divide_and_sum(5, 1)\n",
        "\n",
        "print(podil)\n",
        "print(soucet)"
      ],
      "metadata": {
        "colab": {
          "base_uri": "https://localhost:8080/"
        },
        "id": "Qbl3vX_h0G7N",
        "outputId": "a0594e61-00e6-4199-8a66-aa9f1162bf8f"
      },
      "execution_count": null,
      "outputs": [
        {
          "output_type": "stream",
          "name": "stdout",
          "text": [
            "5.0\n",
            "6\n"
          ]
        }
      ]
    },
    {
      "cell_type": "markdown",
      "metadata": {
        "id": "V0FgCOT_6AYH"
      },
      "source": [
        "###Task 4 - Functions"
      ]
    },
    {
      "cell_type": "markdown",
      "metadata": {
        "id": "cSETH2LS640W"
      },
      "source": [
        "##Complex data types"
      ]
    },
    {
      "cell_type": "markdown",
      "metadata": {
        "id": "hNkRBd8j8h7T"
      },
      "source": [
        "###Lists"
      ]
    },
    {
      "cell_type": "code",
      "execution_count": null,
      "metadata": {
        "id": "aQFVTeY_8iw7",
        "colab": {
          "base_uri": "https://localhost:8080/"
        },
        "outputId": "07d3ba69-b0ce-4a7c-b058-26b6587f432a"
      },
      "outputs": [
        {
          "output_type": "stream",
          "name": "stdout",
          "text": [
            "Welcome to Brno\n"
          ]
        }
      ],
      "source": [
        "#Not convenient\n",
        "city_0 = \"Praha\"\n",
        "city_1 = \"Ostrava\"\n",
        "city_2 = \"Brno\"\n",
        "city_3 = \"Plzen\"\n",
        "city_4 = \"Liberec\"\n",
        "city_5 = \"Opava\"\n",
        "\n",
        "print(\"Welcome to \" + city_2)"
      ]
    },
    {
      "cell_type": "code",
      "execution_count": null,
      "metadata": {
        "id": "aOiKuWnn8wyF",
        "colab": {
          "base_uri": "https://localhost:8080/"
        },
        "outputId": "b3f67a3c-7c8b-4192-9103-e63e23d80507"
      },
      "outputs": [
        {
          "output_type": "stream",
          "name": "stdout",
          "text": [
            "Welcome to Brno\n"
          ]
        }
      ],
      "source": [
        "#Brackets [], ordered indexed array\n",
        "cities = [\"Praha\", \"Ostrava\", \"Brno\", \"Plzen\", \"Liberec\"]\n",
        "print(\"Welcome to \" + cities[2])"
      ]
    },
    {
      "cell_type": "code",
      "source": [
        "def create_cities():\n",
        "  return [\"Praha\", \"Ostrava\", \"Brno\", \"Plzen\", \"Liberec\", \"Terlicko\", \"Ceske Budejovice\"]"
      ],
      "metadata": {
        "id": "OJW8csZ0GmVb"
      },
      "execution_count": null,
      "outputs": []
    },
    {
      "cell_type": "markdown",
      "metadata": {
        "id": "8MD-J_wN9YaR"
      },
      "source": [
        "Indexing starts from 0 and [] are required"
      ]
    },
    {
      "cell_type": "code",
      "execution_count": null,
      "metadata": {
        "id": "-t9rEVMn876-",
        "colab": {
          "base_uri": "https://localhost:8080/"
        },
        "outputId": "5a1e8741-3dd5-4416-ec27-7dd15a32402e"
      },
      "outputs": [
        {
          "output_type": "stream",
          "name": "stdout",
          "text": [
            "['Plzen', 'Liberec', 'Opava']\n"
          ]
        }
      ],
      "source": [
        "#Mixed data types possible\n",
        "mixed = [\"Praha\", 5, True, [\"Plzen\", \"Liberec\", \"Opava\"]]\n",
        "print(mixed[3])"
      ]
    },
    {
      "cell_type": "code",
      "execution_count": null,
      "metadata": {
        "id": "6G1fwpuUt-Nn",
        "colab": {
          "base_uri": "https://localhost:8080/"
        },
        "outputId": "baa10809-eaf5-43e3-f122-6ce2d966b712"
      },
      "outputs": [
        {
          "output_type": "stream",
          "name": "stdout",
          "text": [
            "['Plzen', 'Liberec', 'Opava'] Plzen l\n"
          ]
        }
      ],
      "source": [
        "print(mixed[3], mixed[3][0], mixed[3][0][1])"
      ]
    },
    {
      "cell_type": "code",
      "execution_count": null,
      "metadata": {
        "id": "ZB1XM5U5BZPH",
        "colab": {
          "base_uri": "https://localhost:8080/"
        },
        "outputId": "80a96e24-0d4c-474a-b1e2-dbde01c980cf"
      },
      "outputs": [
        {
          "output_type": "stream",
          "name": "stdout",
          "text": [
            "['Praha', 'Ostrava', 'Brno', 'Plzen', 'Liberec', 'Ceske Budejovice', 'Jihlava']\n"
          ]
        }
      ],
      "source": [
        "#list +\n",
        "another_cities = [\"Ceske Budejovice\", \"Jihlava\"]\n",
        "#cities = cities + another_cities\n",
        "cities += another_cities\n",
        "print(cities)"
      ]
    },
    {
      "cell_type": "code",
      "execution_count": null,
      "metadata": {
        "id": "9nYoxoktAoxh",
        "colab": {
          "base_uri": "https://localhost:8080/"
        },
        "outputId": "0343938b-b9e4-488c-c8e1-4db1c5976fe8"
      },
      "outputs": [
        {
          "output_type": "stream",
          "name": "stdout",
          "text": [
            "Ostrava\n",
            "['Ostrava', 'Brno']\n",
            "['Plzen', 'Liberec', 'Ceske Budejovice']\n"
          ]
        }
      ],
      "source": [
        "#Indexing [from:to:step], defaults [start, end, 1]\n",
        "muj_index = 3\n",
        "print(cities[1])\n",
        "print(cities[1:muj_index])\n",
        "print(cities[muj_index:6])"
      ]
    },
    {
      "cell_type": "code",
      "execution_count": null,
      "metadata": {
        "id": "P1gsn81WCrnL",
        "colab": {
          "base_uri": "https://localhost:8080/"
        },
        "outputId": "77bb749d-d550-49df-9bb9-56efcbc177c5"
      },
      "outputs": [
        {
          "output_type": "stream",
          "name": "stdout",
          "text": [
            "Jihlava\n"
          ]
        }
      ],
      "source": [
        "#Negative index - going backwards\n",
        "print(cities[-1])"
      ]
    },
    {
      "cell_type": "code",
      "execution_count": null,
      "metadata": {
        "id": "Re0lG2PuAz-p",
        "colab": {
          "base_uri": "https://localhost:8080/"
        },
        "outputId": "10612830-af19-4114-8b69-1be2267e7fb6"
      },
      "outputs": [
        {
          "output_type": "stream",
          "name": "stdout",
          "text": [
            "['Praha', 'Ostrava', 'Brno']\n",
            "['Plzen', 'Liberec', 'Ceske Budejovice', 'Jihlava']\n"
          ]
        }
      ],
      "source": [
        "print(cities[:muj_index])\n",
        "print(cities[muj_index:])"
      ]
    },
    {
      "cell_type": "code",
      "execution_count": null,
      "metadata": {
        "id": "bOh5hRnTA3AL",
        "colab": {
          "base_uri": "https://localhost:8080/"
        },
        "outputId": "62126693-c285-4c18-c9bf-732cbdeb2dd6"
      },
      "outputs": [
        {
          "output_type": "stream",
          "name": "stdout",
          "text": [
            "['Jihlava', 'Ceske Budejovice', 'Liberec', 'Plzen', 'Brno', 'Ostrava', 'Praha']\n"
          ]
        }
      ],
      "source": [
        "#Reverse by index\n",
        "print(cities[::-1])"
      ]
    },
    {
      "cell_type": "code",
      "execution_count": null,
      "metadata": {
        "id": "EEV6zpIZBJAU",
        "colab": {
          "base_uri": "https://localhost:8080/"
        },
        "outputId": "ead80128-f3dc-482c-9f24-cc2a6323db56"
      },
      "outputs": [
        {
          "output_type": "stream",
          "name": "stdout",
          "text": [
            "['Praha', 'Brno', 'Liberec', 'Jihlava']\n"
          ]
        }
      ],
      "source": [
        "#every second\n",
        "print(cities[::2])"
      ]
    },
    {
      "cell_type": "code",
      "source": [
        "cities"
      ],
      "metadata": {
        "id": "ZA8HES0rIu98",
        "colab": {
          "base_uri": "https://localhost:8080/"
        },
        "outputId": "cbd1f59f-81dd-4090-f39e-a5d2923c7756"
      },
      "execution_count": null,
      "outputs": [
        {
          "output_type": "execute_result",
          "data": {
            "text/plain": [
              "['Praha', 'Ostrava', 'Brno', 'Plzen', 'Liberec', 'Ceske Budejovice', 'Jihlava']"
            ]
          },
          "metadata": {},
          "execution_count": 90
        }
      ]
    },
    {
      "cell_type": "code",
      "source": [
        "print(cities[-2:1:-3])"
      ],
      "metadata": {
        "id": "jfFSIGVcIrog",
        "colab": {
          "base_uri": "https://localhost:8080/"
        },
        "outputId": "ae86b7af-e92f-45d5-8845-dadef503cdf8"
      },
      "execution_count": null,
      "outputs": [
        {
          "output_type": "stream",
          "name": "stdout",
          "text": [
            "['Plzen']\n"
          ]
        }
      ]
    },
    {
      "cell_type": "code",
      "execution_count": null,
      "metadata": {
        "id": "7hlKEWxr9SzB",
        "colab": {
          "base_uri": "https://localhost:8080/"
        },
        "outputId": "2136b2dd-b26d-4f8d-de9f-47e97b49b25e"
      },
      "outputs": [
        {
          "output_type": "execute_result",
          "data": {
            "text/plain": [
              "['__add__',\n",
              " '__class__',\n",
              " '__class_getitem__',\n",
              " '__contains__',\n",
              " '__delattr__',\n",
              " '__delitem__',\n",
              " '__dir__',\n",
              " '__doc__',\n",
              " '__eq__',\n",
              " '__format__',\n",
              " '__ge__',\n",
              " '__getattribute__',\n",
              " '__getitem__',\n",
              " '__gt__',\n",
              " '__hash__',\n",
              " '__iadd__',\n",
              " '__imul__',\n",
              " '__init__',\n",
              " '__init_subclass__',\n",
              " '__iter__',\n",
              " '__le__',\n",
              " '__len__',\n",
              " '__lt__',\n",
              " '__mul__',\n",
              " '__ne__',\n",
              " '__new__',\n",
              " '__reduce__',\n",
              " '__reduce_ex__',\n",
              " '__repr__',\n",
              " '__reversed__',\n",
              " '__rmul__',\n",
              " '__setattr__',\n",
              " '__setitem__',\n",
              " '__sizeof__',\n",
              " '__str__',\n",
              " '__subclasshook__',\n",
              " 'append',\n",
              " 'clear',\n",
              " 'copy',\n",
              " 'count',\n",
              " 'extend',\n",
              " 'index',\n",
              " 'insert',\n",
              " 'pop',\n",
              " 'remove',\n",
              " 'reverse',\n",
              " 'sort']"
            ]
          },
          "metadata": {},
          "execution_count": 94
        }
      ],
      "source": [
        "#Lot of methods and attributes -> list is editable and flexible\n",
        "dir(cities)"
      ]
    },
    {
      "cell_type": "code",
      "source": [
        "vybrana = cities[:3]\n",
        "vybrana"
      ],
      "metadata": {
        "colab": {
          "base_uri": "https://localhost:8080/"
        },
        "id": "LIAiHqpgKahc",
        "outputId": "4aa438c3-8de9-4144-f5cd-b59aaf2d7d4e"
      },
      "execution_count": null,
      "outputs": [
        {
          "output_type": "execute_result",
          "data": {
            "text/plain": [
              "['Praha', 'Ostrava', 'Brno']"
            ]
          },
          "metadata": {},
          "execution_count": 130
        }
      ]
    },
    {
      "cell_type": "code",
      "execution_count": null,
      "metadata": {
        "id": "YmZ_InV39mdD",
        "colab": {
          "base_uri": "https://localhost:8080/"
        },
        "outputId": "8f493e60-0766-4c92-d377-92be72029aef"
      },
      "outputs": [
        {
          "output_type": "stream",
          "name": "stdout",
          "text": [
            "['Brno', 'Ceske Budejovice', 'Jihlava', 'Liberec', 'Ostrava', 'Plzen', 'Praha']\n",
            "['Praha', 'Plzen', 'Ostrava', 'Liberec', 'Jihlava', 'Ceske Budejovice', 'Brno']\n"
          ]
        }
      ],
      "source": [
        "#Method examples\n",
        "cities.sort()\n",
        "print(cities)\n",
        "cities.reverse()\n",
        "print(cities)"
      ]
    },
    {
      "cell_type": "code",
      "execution_count": null,
      "metadata": {
        "id": "1B9r_gRP9sJt",
        "colab": {
          "base_uri": "https://localhost:8080/"
        },
        "outputId": "fcc222c6-a68e-4016-9b02-214605ed6b20"
      },
      "outputs": [
        {
          "output_type": "stream",
          "name": "stdout",
          "text": [
            "['Praha', 'Plzen', 'Ostrava', 'Liberec', 'Jihlava', 'Ceske Budejovice', 'Brno', 'Terlicko']\n"
          ]
        }
      ],
      "source": [
        "#append - add element at the end\n",
        "cities.append(\"Terlicko\")\n",
        "print(cities)"
      ]
    },
    {
      "cell_type": "code",
      "execution_count": null,
      "metadata": {
        "id": "3DL-_MTj-kEI",
        "colab": {
          "base_uri": "https://localhost:8080/"
        },
        "outputId": "e8fc7b06-9f5e-4756-d1a4-34a45636471a"
      },
      "outputs": [
        {
          "output_type": "stream",
          "name": "stdout",
          "text": [
            "['Praha', 'Plzen', 'Ostrava', 'Liberec', 'Jihlava', 'Karviná', 'Ceske Budejovice', 'Brno', 'Terlicko']\n"
          ]
        }
      ],
      "source": [
        "#insert - add at desired index\n",
        "cities.insert(5, \"Karviná\")\n",
        "print(cities)"
      ]
    },
    {
      "cell_type": "code",
      "execution_count": null,
      "metadata": {
        "id": "DeLOsLyCBmcy",
        "colab": {
          "base_uri": "https://localhost:8080/"
        },
        "outputId": "3ec0b343-6f71-42ef-8d41-ca120528fa83"
      },
      "outputs": [
        {
          "output_type": "stream",
          "name": "stdout",
          "text": [
            "[1, 3, 4]\n",
            "[1, 4]\n"
          ]
        }
      ],
      "source": [
        "#deleting elements\n",
        "tasks = [1, 2, 3, 4]\n",
        "tasks.remove(2)\n",
        "print(tasks)\n",
        "del tasks[1]\n",
        "print(tasks)"
      ]
    },
    {
      "cell_type": "code",
      "execution_count": null,
      "metadata": {
        "id": "qnCaTQEo_1kb"
      },
      "outputs": [],
      "source": [
        "visited = []"
      ]
    },
    {
      "cell_type": "code",
      "source": [
        "visited = list()"
      ],
      "metadata": {
        "id": "y8m8D5fWLfAF"
      },
      "execution_count": null,
      "outputs": []
    },
    {
      "cell_type": "code",
      "source": [
        "cities"
      ],
      "metadata": {
        "id": "2IgjcSjgKNPm",
        "colab": {
          "base_uri": "https://localhost:8080/"
        },
        "outputId": "c90b6e03-5845-4103-dea0-d7623e49da91"
      },
      "execution_count": null,
      "outputs": [
        {
          "output_type": "execute_result",
          "data": {
            "text/plain": [
              "['Praha',\n",
              " 'Plzen',\n",
              " 'Ostrava',\n",
              " 'Liberec',\n",
              " 'Jihlava',\n",
              " 'Karviná',\n",
              " 'Ceske Budejovice',\n",
              " 'Brno']"
            ]
          },
          "metadata": {},
          "execution_count": 117
        }
      ]
    },
    {
      "cell_type": "code",
      "source": [
        "smazano = cities.pop(2)"
      ],
      "metadata": {
        "id": "LrkDLxwpD4H2"
      },
      "execution_count": null,
      "outputs": []
    },
    {
      "cell_type": "code",
      "source": [
        "cities"
      ],
      "metadata": {
        "colab": {
          "base_uri": "https://localhost:8080/"
        },
        "id": "05YbErnUD8ub",
        "outputId": "ed23078d-6e77-4775-a09e-21c94664b620"
      },
      "execution_count": null,
      "outputs": [
        {
          "output_type": "execute_result",
          "data": {
            "text/plain": [
              "['Praha', 'Plzen', 'Liberec', 'Jihlava', 'Karviná', 'Ceske Budejovice', 'Brno']"
            ]
          },
          "metadata": {},
          "execution_count": 119
        }
      ]
    },
    {
      "cell_type": "code",
      "source": [
        "smazano"
      ],
      "metadata": {
        "colab": {
          "base_uri": "https://localhost:8080/",
          "height": 36
        },
        "id": "ibXVLJStcnR4",
        "outputId": "4979554e-7f2d-4cd5-f85c-f342a062da03"
      },
      "execution_count": null,
      "outputs": [
        {
          "output_type": "execute_result",
          "data": {
            "text/plain": [
              "'Terlicko'"
            ],
            "application/vnd.google.colaboratory.intrinsic+json": {
              "type": "string"
            }
          },
          "metadata": {},
          "execution_count": 104
        }
      ]
    },
    {
      "cell_type": "code",
      "source": [
        "visited"
      ],
      "metadata": {
        "colab": {
          "base_uri": "https://localhost:8080/"
        },
        "id": "8eYf5XCnL80h",
        "outputId": "5949b506-380c-480d-d777-584b3577fa38"
      },
      "execution_count": null,
      "outputs": [
        {
          "output_type": "execute_result",
          "data": {
            "text/plain": [
              "[]"
            ]
          },
          "metadata": {},
          "execution_count": 106
        }
      ]
    },
    {
      "cell_type": "code",
      "source": [
        "wishlist = create_cities()"
      ],
      "metadata": {
        "id": "yjnlTQazMoF3"
      },
      "execution_count": null,
      "outputs": []
    },
    {
      "cell_type": "code",
      "execution_count": null,
      "metadata": {
        "id": "OI9Gay-M_G7l",
        "colab": {
          "base_uri": "https://localhost:8080/",
          "height": 211
        },
        "outputId": "d893827a-c9f6-44f5-a71c-268e1d31685b"
      },
      "outputs": [
        {
          "output_type": "error",
          "ename": "IndexError",
          "evalue": "pop from empty list",
          "traceback": [
            "\u001b[0;31m---------------------------------------------------------------------------\u001b[0m",
            "\u001b[0;31mIndexError\u001b[0m                                Traceback (most recent call last)",
            "\u001b[0;32m<ipython-input-116-c3b35b7b633e>\u001b[0m in \u001b[0;36m<cell line: 3>\u001b[0;34m()\u001b[0m\n\u001b[1;32m      1\u001b[0m \u001b[0;31m#pop - remove from list and return removed\u001b[0m\u001b[0;34m\u001b[0m\u001b[0;34m\u001b[0m\u001b[0m\n\u001b[1;32m      2\u001b[0m \u001b[0;31m#no argument - remove the last, otherwise index\u001b[0m\u001b[0;34m\u001b[0m\u001b[0;34m\u001b[0m\u001b[0m\n\u001b[0;32m----> 3\u001b[0;31m \u001b[0mvisited\u001b[0m\u001b[0;34m.\u001b[0m\u001b[0mappend\u001b[0m\u001b[0;34m(\u001b[0m\u001b[0mwishlist\u001b[0m\u001b[0;34m.\u001b[0m\u001b[0mpop\u001b[0m\u001b[0;34m(\u001b[0m\u001b[0;34m)\u001b[0m\u001b[0;34m)\u001b[0m\u001b[0;34m\u001b[0m\u001b[0;34m\u001b[0m\u001b[0m\n\u001b[0m\u001b[1;32m      4\u001b[0m \u001b[0mprint\u001b[0m\u001b[0;34m(\u001b[0m\u001b[0mvisited\u001b[0m\u001b[0;34m)\u001b[0m\u001b[0;34m\u001b[0m\u001b[0;34m\u001b[0m\u001b[0m\n\u001b[1;32m      5\u001b[0m \u001b[0mprint\u001b[0m\u001b[0;34m(\u001b[0m\u001b[0mwishlist\u001b[0m\u001b[0;34m)\u001b[0m\u001b[0;34m\u001b[0m\u001b[0;34m\u001b[0m\u001b[0m\n",
            "\u001b[0;31mIndexError\u001b[0m: pop from empty list"
          ]
        }
      ],
      "source": [
        "#pop - remove from list and return removed\n",
        "#no argument - remove the last, otherwise index\n",
        "visited.append(wishlist.pop())\n",
        "print(visited)\n",
        "print(wishlist)"
      ]
    },
    {
      "cell_type": "code",
      "source": [
        "#chci smazat poslední město -> pop(index=-1) return smazany\n",
        "smazany = cities.pop()"
      ],
      "metadata": {
        "id": "pTiAh52Ra4Fv",
        "colab": {
          "base_uri": "https://localhost:8080/",
          "height": 159
        },
        "outputId": "b2f3d776-ea5a-489d-a2f6-b519a13afe59"
      },
      "execution_count": null,
      "outputs": [
        {
          "output_type": "error",
          "ename": "IndexError",
          "evalue": "pop from empty list",
          "traceback": [
            "\u001b[0;31m---------------------------------------------------------------------------\u001b[0m",
            "\u001b[0;31mIndexError\u001b[0m                                Traceback (most recent call last)",
            "\u001b[0;32m<ipython-input-162-17f4fb4fdf12>\u001b[0m in \u001b[0;36m<cell line: 2>\u001b[0;34m()\u001b[0m\n\u001b[1;32m      1\u001b[0m \u001b[0;31m#chci smazat poslední město -> pop(index=-1) return smazany\u001b[0m\u001b[0;34m\u001b[0m\u001b[0;34m\u001b[0m\u001b[0m\n\u001b[0;32m----> 2\u001b[0;31m \u001b[0msmazany\u001b[0m \u001b[0;34m=\u001b[0m \u001b[0mcities\u001b[0m\u001b[0;34m.\u001b[0m\u001b[0mpop\u001b[0m\u001b[0;34m(\u001b[0m\u001b[0;34m)\u001b[0m\u001b[0;34m\u001b[0m\u001b[0;34m\u001b[0m\u001b[0m\n\u001b[0m",
            "\u001b[0;31mIndexError\u001b[0m: pop from empty list"
          ]
        }
      ]
    },
    {
      "cell_type": "code",
      "source": [
        "list_1 = [\"pes\", \"kocka\"]"
      ],
      "metadata": {
        "id": "IPUzqlDAOu-8"
      },
      "execution_count": null,
      "outputs": []
    },
    {
      "cell_type": "code",
      "source": [
        "list_2 = list_1\n",
        "list_2.append(\"papousek\")\n",
        "list_2.remove(\"pes\")"
      ],
      "metadata": {
        "id": "1UYQk6_eO0T6"
      },
      "execution_count": null,
      "outputs": []
    },
    {
      "cell_type": "code",
      "source": [
        "list_1"
      ],
      "metadata": {
        "colab": {
          "base_uri": "https://localhost:8080/"
        },
        "id": "EUCk2nIdeTMs",
        "outputId": "62d6cea5-1aa6-4033-f133-134c7eac2c1a"
      },
      "execution_count": null,
      "outputs": [
        {
          "output_type": "execute_result",
          "data": {
            "text/plain": [
              "['kocka', 'papousek']"
            ]
          },
          "metadata": {},
          "execution_count": 127
        }
      ]
    },
    {
      "cell_type": "code",
      "execution_count": null,
      "metadata": {
        "id": "S_cdGPnl_9cZ",
        "colab": {
          "base_uri": "https://localhost:8080/"
        },
        "outputId": "5859500c-b899-469a-b79f-a71310fc9734"
      },
      "outputs": [
        {
          "output_type": "stream",
          "name": "stdout",
          "text": [
            "['Praha', 'Ostrava', 'Brno', 'Plzen', 'Liberec', 'Terlicko', 'Ceske Budejovice']\n"
          ]
        }
      ],
      "source": [
        "#Look for element and find remove it\n",
        "cities_index = cities.copy()\n",
        "print(cities_index)"
      ]
    },
    {
      "cell_type": "code",
      "source": [
        "#first check whether Brno is present\n",
        "if \"Brno\" in cities_index:\n",
        "  #find Brno position\n",
        "  index = cities_index.index(\"Brno\")\n",
        "  #delete Brno by position\n",
        "  cities_index.pop(index)\n",
        "print(cities_index)"
      ],
      "metadata": {
        "colab": {
          "base_uri": "https://localhost:8080/"
        },
        "id": "-jC90T13QCti",
        "outputId": "07376ca6-169b-4579-c660-e08afc7754ae"
      },
      "execution_count": null,
      "outputs": [
        {
          "output_type": "stream",
          "name": "stdout",
          "text": [
            "['Praha', 'Ostrava', 'Plzen', 'Liberec', 'Terlicko', 'Ceske Budejovice']\n"
          ]
        }
      ]
    },
    {
      "cell_type": "code",
      "source": [
        "cities.remove(\"Plzen\")"
      ],
      "metadata": {
        "id": "CEhCm_x8gmO9"
      },
      "execution_count": null,
      "outputs": []
    },
    {
      "cell_type": "code",
      "source": [
        "cities"
      ],
      "metadata": {
        "colab": {
          "base_uri": "https://localhost:8080/"
        },
        "id": "62HYMpk1gtAa",
        "outputId": "3e912a72-d9db-493c-8834-386f00a377e3"
      },
      "execution_count": null,
      "outputs": [
        {
          "output_type": "execute_result",
          "data": {
            "text/plain": [
              "['Praha', 'Ostrava', 'Brno', 'Liberec', 'Terlicko', 'Ceske Budejovice']"
            ]
          },
          "metadata": {},
          "execution_count": 134
        }
      ]
    },
    {
      "cell_type": "markdown",
      "metadata": {
        "id": "Dh4PR9H8CGPD"
      },
      "source": [
        "###Task 5 - Lists"
      ]
    },
    {
      "cell_type": "markdown",
      "metadata": {
        "id": "OS15_iDpCHY2"
      },
      "source": [
        "###Tuples"
      ]
    },
    {
      "cell_type": "code",
      "execution_count": null,
      "metadata": {
        "id": "EHrLK4cQC9R-",
        "colab": {
          "base_uri": "https://localhost:8080/"
        },
        "outputId": "122779ff-5caa-4d24-a791-71bfa8c93027"
      },
      "outputs": [
        {
          "output_type": "stream",
          "name": "stdout",
          "text": [
            "('Praha', 'Ostrava', 'Brno', 'Plzen', 'Liberec')\n",
            "Welcome to Plzen\n",
            "<class 'list'> <class 'tuple'>\n"
          ]
        }
      ],
      "source": [
        "#Brackets (), ordered indexed array\n",
        "cities_tuple = (\"Praha\", \"Ostrava\", \"Brno\", \"Plzen\", \"Liberec\")\n",
        "print(cities_tuple)\n",
        "print(\"Welcome to \" + cities_tuple[3])\n",
        "print(type(cities), type(cities_tuple))"
      ]
    },
    {
      "cell_type": "code",
      "execution_count": null,
      "metadata": {
        "id": "FfG7BKR1DbNJ",
        "colab": {
          "base_uri": "https://localhost:8080/"
        },
        "outputId": "76987391-b3d9-46b9-ae00-94b0b9ee88b0"
      },
      "outputs": [
        {
          "output_type": "stream",
          "name": "stdout",
          "text": [
            "('Praha', 5, True, ['Plzen', 'Liberec'])\n",
            "['Plzen', 'Liberec']\n"
          ]
        }
      ],
      "source": [
        "#Mixed data types possible\n",
        "mixed_tuple = (\"Praha\", 5, True, [\"Plzen\", \"Liberec\"])\n",
        "print(mixed_tuple)\n",
        "print(mixed_tuple[3])"
      ]
    },
    {
      "cell_type": "code",
      "execution_count": null,
      "metadata": {
        "id": "7wvXW8R3DG4w",
        "colab": {
          "base_uri": "https://localhost:8080/"
        },
        "outputId": "74be7047-b98b-4380-d43c-11eb7de9bc4f"
      },
      "outputs": [
        {
          "output_type": "execute_result",
          "data": {
            "text/plain": [
              "['__add__',\n",
              " '__class__',\n",
              " '__class_getitem__',\n",
              " '__contains__',\n",
              " '__delattr__',\n",
              " '__dir__',\n",
              " '__doc__',\n",
              " '__eq__',\n",
              " '__format__',\n",
              " '__ge__',\n",
              " '__getattribute__',\n",
              " '__getitem__',\n",
              " '__getnewargs__',\n",
              " '__gt__',\n",
              " '__hash__',\n",
              " '__init__',\n",
              " '__init_subclass__',\n",
              " '__iter__',\n",
              " '__le__',\n",
              " '__len__',\n",
              " '__lt__',\n",
              " '__mul__',\n",
              " '__ne__',\n",
              " '__new__',\n",
              " '__reduce__',\n",
              " '__reduce_ex__',\n",
              " '__repr__',\n",
              " '__rmul__',\n",
              " '__setattr__',\n",
              " '__sizeof__',\n",
              " '__str__',\n",
              " '__subclasshook__',\n",
              " 'count',\n",
              " 'index']"
            ]
          },
          "metadata": {},
          "execution_count": 137
        }
      ],
      "source": [
        "#No methods and attributes -> tuple is not editable nor flexible\n",
        "dir(cities_tuple)"
      ]
    },
    {
      "cell_type": "code",
      "execution_count": null,
      "metadata": {
        "id": "6xuWrsny-aHU",
        "colab": {
          "base_uri": "https://localhost:8080/"
        },
        "outputId": "0531dca1-7e53-487f-dd3d-ee1020ec0ec0"
      },
      "outputs": [
        {
          "output_type": "execute_result",
          "data": {
            "text/plain": [
              "tuple"
            ]
          },
          "metadata": {},
          "execution_count": 153
        }
      ],
      "source": [
        "a = 1, \"ahoj\", 3\n",
        "type(a)"
      ]
    },
    {
      "cell_type": "code",
      "source": [
        "a1, a2, a3 = a\n",
        "print(a1, a2, a3)"
      ],
      "metadata": {
        "colab": {
          "base_uri": "https://localhost:8080/"
        },
        "id": "bPIytZjLlvr2",
        "outputId": "3336bdc1-3273-4595-da96-fe02ab32e432"
      },
      "execution_count": null,
      "outputs": [
        {
          "output_type": "stream",
          "name": "stdout",
          "text": [
            "1 ahoj 3\n"
          ]
        }
      ]
    },
    {
      "cell_type": "code",
      "source": [
        "a_list = list(a)"
      ],
      "metadata": {
        "id": "gS5OUgpwUtf7"
      },
      "execution_count": null,
      "outputs": []
    },
    {
      "cell_type": "code",
      "source": [
        "a_list.append(3)\n",
        "a_list"
      ],
      "metadata": {
        "id": "LskcRDLIUwUx",
        "colab": {
          "base_uri": "https://localhost:8080/"
        },
        "outputId": "95d34ac1-e574-49e8-bc92-8663960444bd"
      },
      "execution_count": null,
      "outputs": [
        {
          "output_type": "execute_result",
          "data": {
            "text/plain": [
              "[1, 2, 3, 3]"
            ]
          },
          "metadata": {},
          "execution_count": 146
        }
      ]
    },
    {
      "cell_type": "code",
      "execution_count": null,
      "metadata": {
        "id": "dvKRaWC9DVuh",
        "colab": {
          "base_uri": "https://localhost:8080/"
        },
        "outputId": "35439d1c-653d-4eec-f6e1-29020308f858"
      },
      "outputs": [
        {
          "output_type": "stream",
          "name": "stdout",
          "text": [
            "abc <class 'str'>\n",
            "bcd <class 'str'>\n",
            "('abc', 'bcd') <class 'tuple'>\n"
          ]
        }
      ],
      "source": [
        "#usage - results handover\n",
        "def more_results():\n",
        "  A = \"abc\"\n",
        "  B = \"bcd\"\n",
        "  return A, B\n",
        "\n",
        "x, y = more_results()\n",
        "print(x, type(x))\n",
        "print(y, type(y))\n",
        "print(more_results(), type(more_results()))"
      ]
    },
    {
      "cell_type": "markdown",
      "metadata": {
        "id": "YXK_KewsD3P0"
      },
      "source": [
        "###Set"
      ]
    },
    {
      "cell_type": "code",
      "execution_count": null,
      "metadata": {
        "id": "iCY7lNiJENzX",
        "colab": {
          "base_uri": "https://localhost:8080/"
        },
        "outputId": "613b81e3-aa8f-4a6a-9b77-957ed2acd536"
      },
      "outputs": [
        {
          "output_type": "stream",
          "name": "stdout",
          "text": [
            "{'Brno', 'Praha', 'Liberec', 'Ostrava', 'Plzen'}\n",
            "<class 'set'>\n"
          ]
        }
      ],
      "source": [
        "#Brackets {}, collection which is unordered, unchangeable*, and unindexed.\n",
        "cities_set = {\"Praha\", \"Ostrava\", \"Brno\", \"Plzen\", \"Liberec\"}\n",
        "print(cities_set)\n",
        "#print(\"Welcome to \" + cities_set[3])\n",
        "print(type(cities_set))"
      ]
    },
    {
      "cell_type": "code",
      "execution_count": null,
      "metadata": {
        "id": "z-trBDEKElqr",
        "colab": {
          "base_uri": "https://localhost:8080/"
        },
        "outputId": "a09ab456-f031-4c82-8f8f-239e545592fc"
      },
      "outputs": [
        {
          "output_type": "stream",
          "name": "stdout",
          "text": [
            "['a', 'a', 'a', 'b', 'b']\n",
            "{'b', 'a'}\n"
          ]
        }
      ],
      "source": [
        "#usage - get unique values\n",
        "list_duplicity = [\"a\", \"a\", \"a\", \"b\", \"b\"]\n",
        "print(list_duplicity)\n",
        "print(set(list_duplicity))"
      ]
    },
    {
      "cell_type": "code",
      "execution_count": null,
      "metadata": {
        "id": "eY4AHNgWFM-R",
        "colab": {
          "base_uri": "https://localhost:8080/"
        },
        "outputId": "9013417a-feab-4639-add7-69dec6d54a28"
      },
      "outputs": [
        {
          "output_type": "stream",
          "name": "stdout",
          "text": [
            "{'b', 'c', 'a'}\n",
            "{'g', 'f'}\n"
          ]
        }
      ],
      "source": [
        "#usage - mathematical set operations like union, intersection, symmetric difference, etc.\n",
        "list_1 = [\"a\", \"b\", \"c\", \"d\", \"e\"]\n",
        "list_2 = [\"d\", \"e\", \"f\", \"g\"]\n",
        "print(set(list_1) - set(list_2))\n",
        "print(set(list_2) - set(list_1))"
      ]
    },
    {
      "cell_type": "markdown",
      "metadata": {
        "id": "otKn7W1JFoUT"
      },
      "source": [
        "\n",
        "###Dictionary"
      ]
    },
    {
      "cell_type": "code",
      "execution_count": null,
      "metadata": {
        "id": "1QHycu2IGK99",
        "colab": {
          "base_uri": "https://localhost:8080/"
        },
        "outputId": "23530451-3686-4f2e-9203-7b57a2ccffda"
      },
      "outputs": [
        {
          "output_type": "stream",
          "name": "stdout",
          "text": [
            "{'Praha': 1000000, 'Ostrava': 350000, 'Brno': 450000}\n",
            "Population of Praha is 1000000\n",
            "<class 'dict'>\n"
          ]
        }
      ],
      "source": [
        "#Brackets {}, store data values in key:value pairs.\n",
        "cities_population = {\"Praha\": 1000000, \"Ostrava\": 350000, \"Brno\": 450000}\n",
        "print(cities_population)\n",
        "print(f'Population of Praha is {cities_population[\"Praha\"]}')\n",
        "print(type(cities_population))"
      ]
    },
    {
      "cell_type": "code",
      "execution_count": null,
      "metadata": {
        "id": "NOL93IoNHYGM",
        "colab": {
          "base_uri": "https://localhost:8080/"
        },
        "outputId": "031b9c9d-6611-4248-d877-9abfc33c6156"
      },
      "outputs": [
        {
          "output_type": "stream",
          "name": "stdout",
          "text": [
            "{'Praha': 100, 5: 'Ostrava', True: ['5', 1]}\n",
            "1\n"
          ]
        }
      ],
      "source": [
        "#Mixed data types possible\n",
        "mixed_dict = {\"Praha\": 100, 5: \"Ostrava\", True:[\"5\", 1]}\n",
        "print(mixed_dict)\n",
        "print(mixed_dict[True][1])"
      ]
    },
    {
      "cell_type": "code",
      "execution_count": null,
      "metadata": {
        "id": "iHPOkhh1HyXd",
        "colab": {
          "base_uri": "https://localhost:8080/"
        },
        "outputId": "11dc17c2-1464-4661-cc84-86459b46646d"
      },
      "outputs": [
        {
          "output_type": "stream",
          "name": "stdout",
          "text": [
            "Michal\n"
          ]
        },
        {
          "output_type": "execute_result",
          "data": {
            "text/plain": [
              "{'jmeno': 'Michal', 'prijmeni': 'Maliszewski', 'bydliste': 'ČR'}"
            ]
          },
          "metadata": {},
          "execution_count": 162
        }
      ],
      "source": [
        "moje_vizitka = {\"jmeno\": \"Michal\", \"prijmeni\": \"Maliszewski\", \"bydliste\": \"ČR\"}\n",
        "print(moje_vizitka[\"jmeno\"])\n",
        "moje_vizitka"
      ]
    },
    {
      "cell_type": "code",
      "source": [
        "moje_vizitka_list = [\"Michal\", \"Maliszewski\", \"ČR\"]\n",
        "print(moje_vizitka_list[0])\n",
        "moje_vizitka_list"
      ],
      "metadata": {
        "colab": {
          "base_uri": "https://localhost:8080/"
        },
        "id": "S9xP4nL2v_Py",
        "outputId": "bd537cf4-0805-4a01-8389-ac36f5077a7f"
      },
      "execution_count": null,
      "outputs": [
        {
          "output_type": "stream",
          "name": "stdout",
          "text": [
            "Michal\n"
          ]
        },
        {
          "output_type": "execute_result",
          "data": {
            "text/plain": [
              "['Michal', 'Maliszewski', 'ČR']"
            ]
          },
          "metadata": {},
          "execution_count": 164
        }
      ]
    },
    {
      "cell_type": "code",
      "execution_count": null,
      "metadata": {
        "id": "uPd7ZQFOH40g",
        "colab": {
          "base_uri": "https://localhost:8080/"
        },
        "outputId": "1e1fffda-2f74-421e-b565-f8727f9b4e6b"
      },
      "outputs": [
        {
          "output_type": "stream",
          "name": "stdout",
          "text": [
            "{'jmeno': 'Michal', 'prijmeni': 'Maliszewski', 'bydliste': 'Karibik'}\n"
          ]
        }
      ],
      "source": [
        "#editable\n",
        "moje_vizitka[\"bydliste\"] = \"Karibik\"\n",
        "print(moje_vizitka)"
      ]
    },
    {
      "cell_type": "code",
      "execution_count": null,
      "metadata": {
        "id": "wijHDjfUCPnX",
        "colab": {
          "base_uri": "https://localhost:8080/"
        },
        "outputId": "0119760e-f4ed-4686-f49f-5cca82acda21"
      },
      "outputs": [
        {
          "output_type": "stream",
          "name": "stdout",
          "text": [
            "{'jmeno': 'Michal', 'prijmeni': 'Maliszewski', 'bydliste': 'ČR'}\n"
          ]
        }
      ],
      "source": [
        "moje_vizitka[\"bydliste\"] = \"ČR\"\n",
        "print(moje_vizitka)"
      ]
    },
    {
      "cell_type": "markdown",
      "metadata": {
        "id": "8ZQTlFTpIUFr"
      },
      "source": [
        "###Task 6 - slovníky"
      ]
    },
    {
      "cell_type": "markdown",
      "metadata": {
        "id": "P4LALFsqIWkx"
      },
      "source": [
        "##Loops"
      ]
    },
    {
      "cell_type": "markdown",
      "metadata": {
        "id": "eLOlaMSVJQBh"
      },
      "source": [
        "###For loop"
      ]
    },
    {
      "cell_type": "code",
      "source": [
        "visited = [\"Terlicko\", \"Ceske Budejovice\", \"Brno\", \"Krnov\", \"Praha\"]"
      ],
      "metadata": {
        "id": "RbmL6bxpt7qb"
      },
      "execution_count": null,
      "outputs": []
    },
    {
      "cell_type": "code",
      "source": [
        "print(visited[0])\n",
        "print(visited[1])\n",
        "print(visited[2])\n",
        "print(visited[3])\n",
        "print(visited[4])"
      ],
      "metadata": {
        "id": "ZyzA2pVut_aI",
        "colab": {
          "base_uri": "https://localhost:8080/"
        },
        "outputId": "5852aad3-38ca-434e-a102-535f557644f2"
      },
      "execution_count": null,
      "outputs": [
        {
          "output_type": "stream",
          "name": "stdout",
          "text": [
            "Terlicko\n",
            "Ceske Budejovice\n",
            "Brno\n",
            "Krnov\n",
            "Praha\n"
          ]
        }
      ]
    },
    {
      "cell_type": "code",
      "execution_count": null,
      "metadata": {
        "id": "fdvqlZoZJA13",
        "colab": {
          "base_uri": "https://localhost:8080/"
        },
        "outputId": "78f03777-f619-44e3-bbfb-5519689b9098"
      },
      "outputs": [
        {
          "output_type": "stream",
          "name": "stdout",
          "text": [
            "I visited TERLICKO.\n",
            "I visited CESKE BUDEJOVICE.\n",
            "I visited BRNO.\n",
            "I visited KRNOV.\n",
            "I visited PRAHA.\n"
          ]
        }
      ],
      "source": [
        "#iterate over list elements\n",
        "for mesto in visited:\n",
        "  print(f\"I visited {mesto.upper()}.\")"
      ]
    },
    {
      "cell_type": "code",
      "execution_count": null,
      "metadata": {
        "id": "Jbhxb6GmJN94",
        "colab": {
          "base_uri": "https://localhost:8080/"
        },
        "outputId": "cb8a4350-3445-4b17-fe57-3ae28c4b3ec7"
      },
      "outputs": [
        {
          "output_type": "stream",
          "name": "stdout",
          "text": [
            "T\n",
            "e\n",
            "r\n",
            "l\n",
            "i\n",
            "c\n",
            "k\n",
            "o\n"
          ]
        }
      ],
      "source": [
        "#iterate over string -> letters\n",
        "for pismeno in \"Terlicko\":\n",
        "  print(pismeno)"
      ]
    },
    {
      "cell_type": "code",
      "execution_count": null,
      "metadata": {
        "id": "T1009uzzJX5B",
        "colab": {
          "base_uri": "https://localhost:8080/"
        },
        "outputId": "73aefc25-bb87-4943-fc08-a4ff7e35b20b"
      },
      "outputs": [
        {
          "output_type": "stream",
          "name": "stdout",
          "text": [
            "1\n",
            "ouch\n",
            "True\n"
          ]
        }
      ],
      "source": [
        "#iterate over tuple elements\n",
        "for element in (1, \"ouch\", True):\n",
        "  print(element)"
      ]
    },
    {
      "cell_type": "code",
      "execution_count": null,
      "metadata": {
        "id": "MagHjQfkBzFj",
        "colab": {
          "base_uri": "https://localhost:8080/"
        },
        "outputId": "30881b38-d499-4d46-dda8-e4902c227a52"
      },
      "outputs": [
        {
          "output_type": "stream",
          "name": "stdout",
          "text": [
            "Pod klíčem: jmeno je hodnota: Michal\n",
            "Pod klíčem: prijmeni je hodnota: Maliszewski\n",
            "Pod klíčem: bydliste je hodnota: ČR\n"
          ]
        }
      ],
      "source": [
        "#iterate over dictionary - need key: value structure\n",
        "moje_vizitka = {\"jmeno\": \"Michal\", \"prijmeni\": \"Maliszewski\", \"bydliste\": \"ČR\"}\n",
        "for key, value in moje_vizitka.items():\n",
        "  print(f\"Pod klíčem: {key} je hodnota: {value}\")"
      ]
    },
    {
      "cell_type": "code",
      "execution_count": null,
      "metadata": {
        "id": "yK-DbHZYCEIv",
        "colab": {
          "base_uri": "https://localhost:8080/"
        },
        "outputId": "126772b7-e8bb-4d53-cdb4-56856af9896e"
      },
      "outputs": [
        {
          "output_type": "stream",
          "name": "stdout",
          "text": [
            "Pod klíčem: jmeno je hodnota: Michal\n",
            "Pod klíčem: prijmeni je hodnota: Maliszewski\n",
            "Pod klíčem: bydliste je hodnota: ČR\n"
          ]
        }
      ],
      "source": [
        "for klic in moje_vizitka.keys():\n",
        "  print(f\"Pod klíčem: {klic} je hodnota: {moje_vizitka[klic]}\")"
      ]
    },
    {
      "cell_type": "code",
      "source": [
        "for klic in moje_vizitka:\n",
        "  print(f\"Pod klíčem: {klic} je hodnota: {moje_vizitka[klic]}\")"
      ],
      "metadata": {
        "colab": {
          "base_uri": "https://localhost:8080/"
        },
        "id": "uptu2hqSBnx2",
        "outputId": "cf376443-51c6-4e33-e9e1-fd221465563c"
      },
      "execution_count": null,
      "outputs": [
        {
          "output_type": "stream",
          "name": "stdout",
          "text": [
            "Pod klíčem: jmeno je hodnota: Michal\n",
            "Pod klíčem: prijmeni je hodnota: Maliszewski\n",
            "Pod klíčem: bydliste je hodnota: ČR\n"
          ]
        }
      ]
    },
    {
      "cell_type": "code",
      "execution_count": null,
      "metadata": {
        "id": "vEfpmZe2J3he",
        "colab": {
          "base_uri": "https://localhost:8080/"
        },
        "outputId": "a5acf58f-86d4-4197-ce9a-73a70b10e40b"
      },
      "outputs": [
        {
          "output_type": "stream",
          "name": "stdout",
          "text": [
            "T\n",
            "e\n",
            "r\n",
            "l\n",
            "i\n"
          ]
        }
      ],
      "source": [
        "#break keyword\n",
        "for letter in \"Terlicko\":\n",
        "  print(letter)\n",
        "  if letter == \"i\":\n",
        "    break"
      ]
    },
    {
      "cell_type": "code",
      "execution_count": null,
      "metadata": {
        "id": "iWFqWvCAKEYO",
        "colab": {
          "base_uri": "https://localhost:8080/"
        },
        "outputId": "1826f413-7032-4c1e-c1ba-3195c8048cd9"
      },
      "outputs": [
        {
          "output_type": "stream",
          "name": "stdout",
          "text": [
            "0\n",
            "Hurry!\n",
            "1\n",
            "Waiting\n",
            "2\n",
            "Hurry!\n",
            "3\n",
            "Waiting\n",
            "4\n",
            "Hurry!\n",
            "5\n",
            "Waiting\n",
            "6\n",
            "Hurry!\n",
            "7\n",
            "Waiting\n",
            "8\n",
            "Hurry!\n"
          ]
        }
      ],
      "source": [
        "#continue keyword\n",
        "import time\n",
        "\n",
        "for number in [0, 1, 2, 3, 4, 5, 6, 7, 8]:\n",
        "  print(number)\n",
        "\n",
        "  if number % 2 == 0:\n",
        "    print(\"Hurry!\")\n",
        "    continue\n",
        "\n",
        "  print(\"Waiting\")\n",
        "  time.sleep(5)"
      ]
    },
    {
      "cell_type": "code",
      "execution_count": null,
      "metadata": {
        "id": "7ve028USERRG",
        "colab": {
          "base_uri": "https://localhost:8080/"
        },
        "outputId": "d5df7956-8bc9-4da8-d466-526f136f1db9"
      },
      "outputs": [
        {
          "output_type": "stream",
          "name": "stdout",
          "text": [
            "IL\n",
            "Lo\n",
            "ov\n",
            "ve\n",
            "eP\n",
            "Py\n",
            "yt\n",
            "th\n",
            "ho\n",
            "on\n"
          ]
        }
      ],
      "source": [
        "#Enumerate() function - include index\n",
        "text = \"ILovePython\"\n",
        "for index, letter in enumerate(text):\n",
        "  if index < len(text) - 1:\n",
        "    print(letter + text[index + 1])"
      ]
    },
    {
      "cell_type": "code",
      "execution_count": null,
      "metadata": {
        "id": "VU2nWy8aKkED",
        "colab": {
          "base_uri": "https://localhost:8080/"
        },
        "outputId": "5bf19ded-ab77-4ca0-f60e-02c1caa5e252"
      },
      "outputs": [
        {
          "output_type": "stream",
          "name": "stdout",
          "text": [
            "Praha CZ\n",
            "Warsaw PL\n",
            "Bratislava SK\n"
          ]
        }
      ],
      "source": [
        "#zip() function - combine iterators into one iterater with tupled elements\n",
        "cities = [\"Praha\", \"Warsaw\", \"Bratislava\"]\n",
        "countries = [\"CZ\", \"PL\", \"SK\"]\n",
        "for mesto, zeme in zip(cities, countries):\n",
        "  print(mesto, zeme)"
      ]
    },
    {
      "cell_type": "code",
      "execution_count": null,
      "metadata": {
        "id": "Aqftq3PMLRkq",
        "colab": {
          "base_uri": "https://localhost:8080/"
        },
        "outputId": "5502a7bf-5306-438c-e5be-8a04a694d01f"
      },
      "outputs": [
        {
          "output_type": "stream",
          "name": "stdout",
          "text": [
            "0\n",
            "1\n",
            "2\n",
            "3\n",
            "4\n"
          ]
        }
      ],
      "source": [
        "#range() function - create sequence of numbers\n",
        "for cislo in range(5):\n",
        "  print(cislo)"
      ]
    },
    {
      "cell_type": "code",
      "execution_count": null,
      "metadata": {
        "id": "e8G7mIdbLd8c",
        "colab": {
          "base_uri": "https://localhost:8080/"
        },
        "outputId": "2f643512-928d-4754-f138-e08ea48f831a"
      },
      "outputs": [
        {
          "output_type": "stream",
          "name": "stdout",
          "text": [
            "10\n",
            "30\n",
            "50\n",
            "70\n",
            "90\n",
            "110\n"
          ]
        }
      ],
      "source": [
        "#range(start=0, end, step=1)\n",
        "for i in range(10, 111, 20):\n",
        "  print(i)"
      ]
    },
    {
      "cell_type": "code",
      "execution_count": null,
      "metadata": {
        "id": "ykF_9cMdLnty",
        "colab": {
          "base_uri": "https://localhost:8080/"
        },
        "outputId": "3937548e-96a7-4585-a616-2be4268c3943"
      },
      "outputs": [
        {
          "output_type": "stream",
          "name": "stdout",
          "text": [
            "100\n",
            "51\n",
            "2\n",
            "-47\n",
            "-96\n"
          ]
        }
      ],
      "source": [
        "#range(start=0, end, step=1)\n",
        "for i in range(100, -100, -49):\n",
        "  print(i)"
      ]
    },
    {
      "cell_type": "code",
      "execution_count": null,
      "metadata": {
        "id": "-loxYS_ALtJb",
        "colab": {
          "base_uri": "https://localhost:8080/"
        },
        "outputId": "cd585c9c-42cb-4a05-c2e9-d9e2950c254b"
      },
      "outputs": [
        {
          "output_type": "execute_result",
          "data": {
            "text/plain": [
              "['Michal Maliszewski',\n",
              " 'Michal Zeman',\n",
              " 'Michal Fiala',\n",
              " 'Milos Maliszewski',\n",
              " 'Milos Zeman',\n",
              " 'Milos Fiala',\n",
              " 'Petr Maliszewski',\n",
              " 'Petr Zeman',\n",
              " 'Petr Fiala']"
            ]
          },
          "metadata": {},
          "execution_count": 218
        }
      ],
      "source": [
        "#loop in loop\n",
        "names = [\"Michal\", \"Milos\", \"Petr\"]\n",
        "surnames = [\"Maliszewski\", \"Zeman\", \"Fiala\"]\n",
        "\n",
        "whole_names = []\n",
        "for name in names:\n",
        "  for surname in surnames:\n",
        "    whole_names.append(name + \" \" + surname)\n",
        "whole_names"
      ]
    },
    {
      "cell_type": "markdown",
      "metadata": {
        "id": "cL89poOSMPrQ"
      },
      "source": [
        "###While loop"
      ]
    },
    {
      "cell_type": "code",
      "execution_count": null,
      "metadata": {
        "id": "0OcK06hOM30m",
        "colab": {
          "base_uri": "https://localhost:8080/"
        },
        "outputId": "1ad1248f-e3ab-4eb7-f9a9-93bf0b89b574"
      },
      "outputs": [
        {
          "output_type": "stream",
          "name": "stdout",
          "text": [
            "0\n",
            "1\n",
            "2\n",
            "3\n",
            "4\n",
            "5\n"
          ]
        }
      ],
      "source": [
        "#do while conditions changes\n",
        "i = 0\n",
        "while i <= 5:\n",
        "  print(i)\n",
        "  i += 1"
      ]
    },
    {
      "cell_type": "code",
      "execution_count": null,
      "metadata": {
        "id": "pRn7YzpDMhLi",
        "colab": {
          "base_uri": "https://localhost:8080/"
        },
        "outputId": "6ffe351c-9f18-47ca-c970-d85a89d305e4"
      },
      "outputs": [
        {
          "output_type": "stream",
          "name": "stdout",
          "text": [
            "5\n",
            "4\n",
            "3\n",
            "2\n",
            "1\n",
            "0\n"
          ]
        }
      ],
      "source": [
        "#do while flag changes\n",
        "positive = True\n",
        "i = 5\n",
        "while positive:\n",
        "  if i < 1:\n",
        "    positive = False\n",
        "  else:\n",
        "    print(i)\n",
        "    i -= 1\n",
        "print(i)"
      ]
    },
    {
      "cell_type": "code",
      "execution_count": null,
      "metadata": {
        "id": "p0yQZFbTMUMQ",
        "colab": {
          "base_uri": "https://localhost:8080/"
        },
        "outputId": "c647bf20-3f78-4463-8847-999288158aeb"
      },
      "outputs": [
        {
          "output_type": "stream",
          "name": "stdout",
          "text": [
            "2\n",
            "3\n",
            "4\n",
            "5\n",
            "6\n"
          ]
        }
      ],
      "source": [
        "#do while break applies\n",
        "i = 1\n",
        "while True:\n",
        "  i += 1\n",
        "  print(i)\n",
        "  if i > 5:\n",
        "    break"
      ]
    },
    {
      "cell_type": "code",
      "execution_count": null,
      "metadata": {
        "id": "M0AR3hqWNNlw",
        "colab": {
          "base_uri": "https://localhost:8080/"
        },
        "outputId": "205b0aa4-8b35-4693-d825-7f4fa2b5787f"
      },
      "outputs": [
        {
          "output_type": "stream",
          "name": "stdout",
          "text": [
            "!\n",
            "!!\n",
            "!!!\n",
            "!!!!\n",
            "!!!!!\n",
            "!!!!!!\n"
          ]
        }
      ],
      "source": [
        "#shout\n",
        "text = \"\"\n",
        "while True:\n",
        "  text += \"!\"\n",
        "  print(text)\n",
        "  if len(text) > 5:\n",
        "    break"
      ]
    },
    {
      "cell_type": "markdown",
      "metadata": {
        "id": "5oXvZQmENcai"
      },
      "source": [
        "###Task 7 - looping"
      ]
    },
    {
      "cell_type": "markdown",
      "metadata": {
        "id": "a7dl5-1QNmWi"
      },
      "source": [
        "##Functions - args, kwargs"
      ]
    },
    {
      "cell_type": "code",
      "execution_count": null,
      "metadata": {
        "id": "76XoE00R_i2F"
      },
      "outputs": [],
      "source": [
        "#ordered arguments -> tuple-like approach\n",
        "def sum_all(*args):\n",
        "\n",
        "  print(args, type(args))\n",
        "  # dostal jsem aspoň jeden argument?\n",
        "  if len(args) > 0:\n",
        "    result = 0\n",
        "    for cislo in args:\n",
        "      result += cislo\n",
        "    return result\n",
        "  else:\n",
        "    print(\"I need more arguments\")\n",
        "    return None"
      ]
    },
    {
      "cell_type": "code",
      "execution_count": null,
      "metadata": {
        "id": "NHtPVTN4AKFM",
        "colab": {
          "base_uri": "https://localhost:8080/"
        },
        "outputId": "fc0be92b-d84e-4c8c-eff0-067b7e726645"
      },
      "outputs": [
        {
          "output_type": "stream",
          "name": "stdout",
          "text": [
            "(1000, 500, 300, 40) <class 'tuple'>\n"
          ]
        },
        {
          "output_type": "execute_result",
          "data": {
            "text/plain": [
              "1840"
            ]
          },
          "metadata": {},
          "execution_count": 73
        }
      ],
      "source": [
        "sum_all(1000, 500, 300, 40)"
      ]
    },
    {
      "cell_type": "code",
      "execution_count": null,
      "metadata": {
        "id": "tVqpsnOoBjyX"
      },
      "outputs": [],
      "source": [
        "def posli_email(*args):\n",
        "  for email in args:\n",
        "    jmeno = email.split(\".\")[0]\n",
        "    prijmeni = email.split(\".\")[1].split(\"@\")[0]\n",
        "    print(f\"Ahoj {jmeno} {prijmeni}!\")\n",
        "    print(f\"Poslat na {email}\")"
      ]
    },
    {
      "cell_type": "code",
      "execution_count": null,
      "metadata": {
        "id": "VekEc-j5ByAq",
        "colab": {
          "base_uri": "https://localhost:8080/"
        },
        "outputId": "08eb6425-6456-48c8-ca38-45cf59e476ce"
      },
      "outputs": [
        {
          "output_type": "stream",
          "name": "stdout",
          "text": [
            "Ahoj Michal Maliszewski!\n",
            "Poslat na Michal.Maliszewski@email.cz\n",
            "Ahoj Lucie Maliszewski!\n",
            "Poslat na Lucie.Maliszewski@email.cz\n",
            "Ahoj Martin Maliszewski!\n",
            "Poslat na Martin.Maliszewski@email.cz\n"
          ]
        }
      ],
      "source": [
        "posli_email(\"Michal.Maliszewski@email.cz\", \"Lucie.Maliszewski@email.cz\", \"Martin.Maliszewski@email.cz\")"
      ]
    },
    {
      "cell_type": "code",
      "execution_count": null,
      "metadata": {
        "id": "kjTdnc0SAwM8"
      },
      "outputs": [],
      "source": [
        "#named arguments -> dictionary-like approach\n",
        "def print_named_arguments(**kwargs):\n",
        "  for key, value in kwargs.items():\n",
        "    print(key, value)"
      ]
    },
    {
      "cell_type": "code",
      "execution_count": null,
      "metadata": {
        "id": "nwVJOkCtBS_-",
        "colab": {
          "base_uri": "https://localhost:8080/"
        },
        "outputId": "07b96d51-ec91-4012-959a-ab9c494b8b85"
      },
      "outputs": [
        {
          "output_type": "stream",
          "name": "stdout",
          "text": [
            "email Marw\n",
            "dite Vilém\n"
          ]
        }
      ],
      "source": [
        "print_named_arguments(email=\"Marw\", dite=\"Vilém\")"
      ]
    },
    {
      "cell_type": "code",
      "source": [
        "def print_all(jmeno, gender=\"\", *args, **kwargs):\n",
        "\n",
        "  print(jmeno, gender)\n",
        "\n",
        "  for jmeno in args:\n",
        "    print(f\"Ahoj {jmeno}!\")\n",
        "\n",
        "  for key, value in kwargs.items():\n",
        "    print(key, value)"
      ],
      "metadata": {
        "id": "ubGkqRzZpaj0"
      },
      "execution_count": null,
      "outputs": []
    },
    {
      "cell_type": "code",
      "source": [
        "print_all(\"Michal\", \"muž\", 8, 7, True, pes=\"Marw\", dite=\"Vilém\", zena=\"zena\")"
      ],
      "metadata": {
        "id": "iUYEusXtpnAi",
        "colab": {
          "base_uri": "https://localhost:8080/"
        },
        "outputId": "b1f1332c-07af-4a82-dd75-3fe1ad6a2ad0"
      },
      "execution_count": null,
      "outputs": [
        {
          "output_type": "stream",
          "name": "stdout",
          "text": [
            "Michal muž\n",
            "Ahoj 8!\n",
            "Ahoj 7!\n",
            "Ahoj True!\n",
            "pes Marw\n",
            "dite Vilém\n",
            "zena zena\n"
          ]
        }
      ]
    },
    {
      "cell_type": "markdown",
      "metadata": {
        "id": "Le1sX_srDubr"
      },
      "source": [
        "##List comprehensions"
      ]
    },
    {
      "cell_type": "code",
      "execution_count": null,
      "metadata": {
        "id": "cFLJqrBsDxBh"
      },
      "outputs": [],
      "source": [
        "#Create new list with some logic\n",
        "list_1 = [7, 2, 6, 2, 5, 4, 3]"
      ]
    },
    {
      "cell_type": "code",
      "execution_count": null,
      "metadata": {
        "id": "x6HdCofn5tk4",
        "colab": {
          "base_uri": "https://localhost:8080/"
        },
        "outputId": "2f5fa15f-1ac9-442e-ea0a-88fcc3a18239"
      },
      "outputs": [
        {
          "output_type": "stream",
          "name": "stdout",
          "text": [
            "[7, 6]\n"
          ]
        }
      ],
      "source": [
        "#Numbers greater than 5\n",
        "#co chci zapsat for .... in ... if .....\n",
        "list_big_numbers = [element for element in list_1 if element > 5]\n",
        "print(list_big_numbers)"
      ]
    },
    {
      "cell_type": "code",
      "source": [
        "novy_list = list()\n",
        "for prvek in list_1:\n",
        "  if prvek > 5:\n",
        "    novy_list.append(prvek)\n",
        "novy_list"
      ],
      "metadata": {
        "id": "Z094bdE0K1aj",
        "colab": {
          "base_uri": "https://localhost:8080/"
        },
        "outputId": "28852cf2-be09-46ec-f493-ed0736c01657"
      },
      "execution_count": null,
      "outputs": [
        {
          "output_type": "execute_result",
          "data": {
            "text/plain": [
              "[7, 6]"
            ]
          },
          "metadata": {},
          "execution_count": 147
        }
      ]
    },
    {
      "cell_type": "code",
      "execution_count": null,
      "metadata": {
        "id": "lcuAZN_W5r0Q",
        "colab": {
          "base_uri": "https://localhost:8080/"
        },
        "outputId": "2bae0431-8b20-4039-920f-cc5f5bbede68"
      },
      "outputs": [
        {
          "output_type": "stream",
          "name": "stdout",
          "text": [
            "[4, 36, 4, 16]\n"
          ]
        }
      ],
      "source": [
        "#Power of two of even numbers\n",
        "list_2 = [element**2 for element in list_1 if (element % 2 == 0)]\n",
        "print(list_2)"
      ]
    },
    {
      "cell_type": "code",
      "execution_count": null,
      "metadata": {
        "id": "uUxKNKXRHGT1"
      },
      "outputs": [],
      "source": [
        "nactene_sloupce = [\"ab\", \"a_sys\", \"c d\", \"b_sys\", \"a c\", \"c_sys\", \"system\"]"
      ]
    },
    {
      "cell_type": "code",
      "execution_count": null,
      "metadata": {
        "id": "-G7gfZrwHQIN",
        "colab": {
          "base_uri": "https://localhost:8080/"
        },
        "outputId": "f3bc3f7e-f76d-4b64-b3b4-66cca186f74d"
      },
      "outputs": [
        {
          "output_type": "execute_result",
          "data": {
            "text/plain": [
              "['ab_chci', 'c d_chci', 'a c_chci', 'system_chci']"
            ]
          },
          "metadata": {},
          "execution_count": 104
        }
      ],
      "source": [
        "nesystem_sloupce = [sloupec + \"_chci\" for sloupec in nactene_sloupce if \"_sys\" not in sloupec]\n",
        "nesystem_sloupce"
      ]
    },
    {
      "cell_type": "code",
      "source": [
        "novy_list = list()\n",
        "for sloupec in nactene_sloupce:\n",
        "  if \"_sys\" not in sloupec:\n",
        "    novy_list.append(sloupec)\n",
        "novy_list"
      ],
      "metadata": {
        "id": "rf-umX7gjb3g"
      },
      "execution_count": null,
      "outputs": []
    },
    {
      "cell_type": "code",
      "source": [
        "mesta = [\"Brno\", \"Krnov\", \"Ostrava\", \"Břeclav\"]"
      ],
      "metadata": {
        "id": "7aeWYSfTRw9O"
      },
      "execution_count": null,
      "outputs": []
    },
    {
      "cell_type": "code",
      "source": [
        "# víc jak 4 znaky a \"o\"\n",
        "[mesto for mesto in mesta if len(mesto)>4 and (\"O\" in mesto or \"o\" in mesto)]"
      ],
      "metadata": {
        "colab": {
          "base_uri": "https://localhost:8080/"
        },
        "id": "BPsE7BeXR36O",
        "outputId": "dd8d165a-ddf9-4647-d049-a7c1afe8d8ef"
      },
      "execution_count": null,
      "outputs": [
        {
          "output_type": "execute_result",
          "data": {
            "text/plain": [
              "['Krnov', 'Ostrava']"
            ]
          },
          "metadata": {},
          "execution_count": 106
        }
      ]
    },
    {
      "cell_type": "code",
      "source": [
        "old_dict = {'Police': 911, 'Pizza': 303, 'Mom': 593}\n",
        "\n",
        "new_dict = {value: key for key, value in old_dict.items() if value < 500}\n",
        "new_dict"
      ],
      "metadata": {
        "colab": {
          "base_uri": "https://localhost:8080/"
        },
        "id": "5l5OuuaaQYf6",
        "outputId": "3b2e0cd6-7a7b-4273-f3df-1dad9f84513b"
      },
      "execution_count": null,
      "outputs": [
        {
          "output_type": "execute_result",
          "data": {
            "text/plain": [
              "{303: 'Pizza'}"
            ]
          },
          "metadata": {},
          "execution_count": 108
        }
      ]
    },
    {
      "cell_type": "markdown",
      "metadata": {
        "id": "48gE7vLVnOk_"
      },
      "source": [
        "##Decorator"
      ]
    },
    {
      "cell_type": "markdown",
      "metadata": {
        "id": "QTyehi1Eoh3Z"
      },
      "source": [
        "* In Python, functions are first-class objects. This means that a function (not just its result) can be assigned to a variable.\n",
        "* It can be passed as an argument to another function."
      ]
    },
    {
      "cell_type": "code",
      "execution_count": null,
      "metadata": {
        "id": "3K77kypbodGz"
      },
      "outputs": [],
      "source": [
        "def say_hello(name):\n",
        "  print(f\"Hello {name}!\")\n",
        "\n",
        "def say_bye(name):\n",
        "  print(f\"Take care {name}!\")"
      ]
    },
    {
      "cell_type": "code",
      "execution_count": null,
      "metadata": {
        "id": "6ZK8fDIMo1DF"
      },
      "outputs": [],
      "source": [
        "def greet(funkce):\n",
        "  if callable(funkce):\n",
        "    return funkce(\"Michal\")\n",
        "  else:\n",
        "    print(funkce, \"není funkce\")"
      ]
    },
    {
      "cell_type": "code",
      "execution_count": null,
      "metadata": {
        "id": "GA_rFT4TpBQu",
        "colab": {
          "base_uri": "https://localhost:8080/"
        },
        "outputId": "3792b38e-8a79-4acd-ad16-dc4176b8ccc4"
      },
      "outputs": [
        {
          "output_type": "execute_result",
          "data": {
            "text/plain": [
              "str"
            ]
          },
          "metadata": {},
          "execution_count": 9
        }
      ],
      "source": [
        "greet(type)"
      ]
    },
    {
      "cell_type": "markdown",
      "metadata": {
        "id": "HbbR94jApUL4"
      },
      "source": [
        "* You can also create functions inside other functions.\n",
        "* Such an internal function works for the sole use of the function within which it is defined. It cannot be accessed from the outside in any way."
      ]
    },
    {
      "cell_type": "code",
      "execution_count": null,
      "metadata": {
        "id": "miNphI1JpaDF"
      },
      "outputs": [],
      "source": [
        "def outer(text):\n",
        "  print(\"out\")\n",
        "\n",
        "  def upper(txt):\n",
        "    print(\"inner\")\n",
        "    return txt.upper()\n",
        "\n",
        "  vysledek_vnitrni = upper(text)\n",
        "\n",
        "  return vysledek_vnitrni"
      ]
    },
    {
      "cell_type": "code",
      "execution_count": null,
      "metadata": {
        "id": "87RwAt12pqHT",
        "colab": {
          "base_uri": "https://localhost:8080/",
          "height": 70
        },
        "outputId": "64b7f4e3-6b2f-449f-d7bd-d4eee48f266a"
      },
      "outputs": [
        {
          "output_type": "stream",
          "name": "stdout",
          "text": [
            "out\n",
            "inner\n"
          ]
        },
        {
          "output_type": "execute_result",
          "data": {
            "text/plain": [
              "'I HAVE TWO DOGS'"
            ],
            "application/vnd.google.colaboratory.intrinsic+json": {
              "type": "string"
            }
          },
          "metadata": {},
          "execution_count": 11
        }
      ],
      "source": [
        "outer(\"I have two dogs\")"
      ]
    },
    {
      "cell_type": "markdown",
      "metadata": {
        "id": "iFsjifi6pwNF"
      },
      "source": [
        "* One function may return another function as a result of its operation.\n",
        "* We call this function a factory."
      ]
    },
    {
      "cell_type": "code",
      "execution_count": null,
      "metadata": {
        "id": "hf3jFG-Ep30m"
      },
      "outputs": [],
      "source": [
        "def greeting(time):\n",
        "\n",
        "  def morning_greeting(name):\n",
        "    return \"Good morning \" + name + \"!\"\n",
        "\n",
        "  def night_greeting(name):\n",
        "    '''\n",
        "    Noční pozdrav.\n",
        "    '''\n",
        "    return f\"Good night {name}!\"\n",
        "\n",
        "  if time == \"morning\":\n",
        "    return morning_greeting\n",
        "  else:\n",
        "    return night_greeting"
      ]
    },
    {
      "cell_type": "code",
      "execution_count": null,
      "metadata": {
        "id": "2ldpSyR7qU5o"
      },
      "outputs": [],
      "source": [
        "moje_funkce = greeting(\"\")"
      ]
    },
    {
      "cell_type": "code",
      "execution_count": null,
      "metadata": {
        "id": "gSovyyyPqb3Z",
        "colab": {
          "base_uri": "https://localhost:8080/",
          "height": 36
        },
        "outputId": "a4f35555-cebc-49af-a001-3b4326a97757"
      },
      "outputs": [
        {
          "output_type": "execute_result",
          "data": {
            "text/plain": [
              "'Good night Michal!'"
            ],
            "application/vnd.google.colaboratory.intrinsic+json": {
              "type": "string"
            }
          },
          "metadata": {},
          "execution_count": 18
        }
      ],
      "source": [
        "moje_funkce(\"Michal\")"
      ]
    },
    {
      "cell_type": "markdown",
      "metadata": {
        "id": "_nzISQ20qiVT"
      },
      "source": [
        "* Even the simplest decorator uses all three just mentioned techniques:\n",
        "  * takes a function as its argument\n",
        "  * defines an internal function\n",
        "  * returns the function as the result of its operation"
      ]
    },
    {
      "cell_type": "code",
      "execution_count": null,
      "metadata": {
        "id": "br0ddLVvqnsz"
      },
      "outputs": [],
      "source": [
        "def my_decorator(func):\n",
        "\n",
        "  def wrapper(*args, **kwargs):\n",
        "    soucin = 1\n",
        "    for cislo in args:\n",
        "      soucin *= cislo\n",
        "    return func(*args, **kwargs), soucin\n",
        "\n",
        "  return wrapper"
      ]
    },
    {
      "cell_type": "code",
      "execution_count": null,
      "metadata": {
        "id": "KyhrcIN9riAL"
      },
      "outputs": [],
      "source": [
        "def hello_world(*args, **kwargs):\n",
        "  return \"hello world\""
      ]
    },
    {
      "cell_type": "code",
      "source": [
        "def secti_cisla(a, b, c):\n",
        "  return a + b + c"
      ],
      "metadata": {
        "id": "o_YhV49er_dK"
      },
      "execution_count": null,
      "outputs": []
    },
    {
      "cell_type": "code",
      "execution_count": null,
      "metadata": {
        "id": "tadzBZJDrpmr",
        "colab": {
          "base_uri": "https://localhost:8080/"
        },
        "outputId": "17d48a8a-f481-49d4-b163-cc63c7442b6e"
      },
      "outputs": [
        {
          "output_type": "stream",
          "name": "stdout",
          "text": [
            "hello world\n",
            "('hello world', 200)\n"
          ]
        }
      ],
      "source": [
        "print(hello_world())\n",
        "print(my_decorator(hello_world)(10, 20))"
      ]
    },
    {
      "cell_type": "code",
      "source": [
        "print(secti_cisla(1, 2, 3))\n",
        "print(my_decorator(secti_cisla)(1, 2, 3))"
      ],
      "metadata": {
        "id": "8PhcYjEssG5A",
        "colab": {
          "base_uri": "https://localhost:8080/"
        },
        "outputId": "6dc2b3d3-8cfc-4dd1-8d13-fb6c0c6ee0ad"
      },
      "execution_count": null,
      "outputs": [
        {
          "output_type": "stream",
          "name": "stdout",
          "text": [
            "6\n",
            "(6, 6)\n"
          ]
        }
      ]
    },
    {
      "cell_type": "markdown",
      "metadata": {
        "id": "enMK7Npjr4tv"
      },
      "source": [
        "* The decorator as the only argument takes the function to be decorated.\n",
        "* In the middle, it defines a function traditionally called wrapper, which performs\n",
        "the function we decorate, but also performs some additional action (in our\n",
        "example it adds extra strings before and after the function result).\n",
        "* It returns a wrapper as its result."
      ]
    },
    {
      "cell_type": "code",
      "execution_count": null,
      "metadata": {
        "id": "r8wQ0a3-sPhL"
      },
      "outputs": [],
      "source": [
        "def sum(a, b, c):\n",
        "  return a + b + c"
      ]
    },
    {
      "cell_type": "code",
      "execution_count": null,
      "metadata": {
        "id": "21ZD0BH5sVK-",
        "colab": {
          "base_uri": "https://localhost:8080/",
          "height": 263
        },
        "outputId": "2e9a34cc-a8ef-43c7-b937-01c76154723d"
      },
      "outputs": [
        {
          "output_type": "error",
          "ename": "TypeError",
          "evalue": "can't multiply sequence by non-int of type 'str'",
          "traceback": [
            "\u001b[0;31m---------------------------------------------------------------------------\u001b[0m",
            "\u001b[0;31mTypeError\u001b[0m                                 Traceback (most recent call last)",
            "\u001b[0;32m<ipython-input-204-bc74ca04fae3>\u001b[0m in \u001b[0;36m<cell line: 1>\u001b[0;34m()\u001b[0m\n\u001b[0;32m----> 1\u001b[0;31m \u001b[0mprint\u001b[0m\u001b[0;34m(\u001b[0m\u001b[0mmy_decorator\u001b[0m\u001b[0;34m(\u001b[0m\u001b[0msum\u001b[0m\u001b[0;34m)\u001b[0m\u001b[0;34m(\u001b[0m\u001b[0;34m\"5\"\u001b[0m\u001b[0;34m,\u001b[0m \u001b[0;34m\"4\"\u001b[0m\u001b[0;34m,\u001b[0m \u001b[0;34m\"2\"\u001b[0m\u001b[0;34m)\u001b[0m\u001b[0;34m)\u001b[0m\u001b[0;34m\u001b[0m\u001b[0;34m\u001b[0m\u001b[0m\n\u001b[0m",
            "\u001b[0;32m<ipython-input-194-3ad262bd58a9>\u001b[0m in \u001b[0;36mwrapper\u001b[0;34m(*args, **kwargs)\u001b[0m\n\u001b[1;32m      4\u001b[0m     \u001b[0msoucin\u001b[0m \u001b[0;34m=\u001b[0m \u001b[0;36m1\u001b[0m\u001b[0;34m\u001b[0m\u001b[0;34m\u001b[0m\u001b[0m\n\u001b[1;32m      5\u001b[0m     \u001b[0;32mfor\u001b[0m \u001b[0mcislo\u001b[0m \u001b[0;32min\u001b[0m \u001b[0margs\u001b[0m\u001b[0;34m:\u001b[0m\u001b[0;34m\u001b[0m\u001b[0;34m\u001b[0m\u001b[0m\n\u001b[0;32m----> 6\u001b[0;31m       \u001b[0msoucin\u001b[0m \u001b[0;34m*=\u001b[0m \u001b[0mcislo\u001b[0m\u001b[0;34m\u001b[0m\u001b[0;34m\u001b[0m\u001b[0m\n\u001b[0m\u001b[1;32m      7\u001b[0m     \u001b[0;32mreturn\u001b[0m \u001b[0mfunc\u001b[0m\u001b[0;34m(\u001b[0m\u001b[0;34m*\u001b[0m\u001b[0margs\u001b[0m\u001b[0;34m,\u001b[0m \u001b[0;34m**\u001b[0m\u001b[0mkwargs\u001b[0m\u001b[0;34m)\u001b[0m\u001b[0;34m,\u001b[0m \u001b[0msoucin\u001b[0m\u001b[0;34m\u001b[0m\u001b[0;34m\u001b[0m\u001b[0m\n\u001b[1;32m      8\u001b[0m \u001b[0;34m\u001b[0m\u001b[0m\n",
            "\u001b[0;31mTypeError\u001b[0m: can't multiply sequence by non-int of type 'str'"
          ]
        }
      ],
      "source": [
        "print(my_decorator(sum)(\"5\", \"4\", \"2\"))"
      ]
    },
    {
      "cell_type": "markdown",
      "metadata": {
        "id": "YiQJcvgMr-1Y"
      },
      "source": [
        "* Note that after applying the decorator, it returns the original function wrapped in\n",
        "a wrapper. So the end user is now not touching the original function, but the\n",
        "wrapper.\n",
        "* This means that the wrapper must take exactly the same arguments as the\n",
        "wrapped function in order to pass them to that wrapped function.\n",
        "* The problem is that it's hard to predict in advance what function someone will\n",
        "wrap in the decorator we're writing and what arguments it will have.\n",
        "* Therefore, the wrapper signature should always look like this:\n",
        "def wrapper(*args, **kwargs), so we are able to wrap any function."
      ]
    },
    {
      "cell_type": "code",
      "execution_count": null,
      "metadata": {
        "id": "8a-p-tG2scDP"
      },
      "outputs": [],
      "source": [
        "def rozsirit_tisk(func):\n",
        "\n",
        "  def wrapper(*args, **kwargs):\n",
        "    return f\"DECORATED-> {func(*args, **kwargs)} <-DECORATED\"\n",
        "\n",
        "  return wrapper"
      ]
    },
    {
      "cell_type": "code",
      "execution_count": null,
      "metadata": {
        "id": "i49124_xskPM",
        "colab": {
          "base_uri": "https://localhost:8080/"
        },
        "outputId": "8aa61117-fae7-48bf-a81a-fd996167dd5a"
      },
      "outputs": [
        {
          "output_type": "stream",
          "name": "stdout",
          "text": [
            "DECORATED-> hello world <-DECORATED\n"
          ]
        }
      ],
      "source": [
        "print(rozsirit_tisk(hello_world)())"
      ]
    },
    {
      "cell_type": "markdown",
      "metadata": {
        "id": "dKFqDVG0szHN"
      },
      "source": [
        "* In the two previous slides of the decorator, we used this way:\n",
        "\n",
        "  * decorator(decorated_function)(arguments)\n",
        "* This use of a decorator is not very readable, but Python gives us a completely different way.\n",
        "* Once we have the decorator declared, we can use it literally decorating the function by\n",
        "writing @decorator_name over it."
      ]
    },
    {
      "cell_type": "code",
      "execution_count": null,
      "metadata": {
        "id": "leJgqQj0s7G7"
      },
      "outputs": [],
      "source": [
        "@rozsirit_tisk\n",
        "def get_text_len(text):\n",
        "  return len(text)\n",
        "\n",
        "@rozsirit_tisk\n",
        "def print_text(neco):\n",
        "  return \"a\""
      ]
    },
    {
      "cell_type": "code",
      "execution_count": null,
      "metadata": {
        "id": "IWNOAVfwtakJ",
        "colab": {
          "base_uri": "https://localhost:8080/",
          "height": 36
        },
        "outputId": "5965e7a4-31a9-419e-d779-4586c96a0331"
      },
      "outputs": [
        {
          "output_type": "execute_result",
          "data": {
            "text/plain": [
              "'DECORATED-> 6 <-DECORATED'"
            ],
            "application/vnd.google.colaboratory.intrinsic+json": {
              "type": "string"
            }
          },
          "metadata": {},
          "execution_count": 25
        }
      ],
      "source": [
        "get_text_len(\"Michal\")"
      ]
    },
    {
      "cell_type": "code",
      "execution_count": null,
      "metadata": {
        "id": "t1taB_xAyD57",
        "colab": {
          "base_uri": "https://localhost:8080/",
          "height": 36
        },
        "outputId": "98ad6337-c044-4da1-b04a-15b5f42505bb"
      },
      "outputs": [
        {
          "output_type": "execute_result",
          "data": {
            "text/plain": [
              "'DECORATED-> a <-DECORATED'"
            ],
            "application/vnd.google.colaboratory.intrinsic+json": {
              "type": "string"
            }
          },
          "metadata": {},
          "execution_count": 26
        }
      ],
      "source": [
        "print_text(\"Michal\")"
      ]
    },
    {
      "cell_type": "code",
      "execution_count": null,
      "metadata": {
        "id": "KI0yTZPftt2s"
      },
      "outputs": [],
      "source": [
        "import time\n",
        "\n",
        "def time_measure(func):\n",
        "\n",
        "  def wrapper(*arg, **kwargs):\n",
        "      t0 = time.time()\n",
        "      result = func(*arg, **kwargs)\n",
        "      t1 = time.time()\n",
        "      print(\"Function execution took: \" + str(t1 - t0) + \" sec\")\n",
        "      return result\n",
        "\n",
        "  return wrapper"
      ]
    },
    {
      "cell_type": "code",
      "execution_count": null,
      "metadata": {
        "id": "s7NsiR7TyfWV"
      },
      "outputs": [],
      "source": [
        "import random\n",
        "\n",
        "@time_measure\n",
        "def any_function(a, b, n):\n",
        "  time.sleep(n)\n",
        "  return a + b\n",
        "\n",
        "@time_measure\n",
        "def hod_minci():\n",
        "  res = random.randint(0, 1)\n",
        "  return bool(res)"
      ]
    },
    {
      "cell_type": "code",
      "execution_count": null,
      "metadata": {
        "id": "M-ZlbZA9zITK",
        "colab": {
          "base_uri": "https://localhost:8080/"
        },
        "outputId": "4e829bad-68c7-4faf-c7f7-4cd548e25289"
      },
      "outputs": [
        {
          "output_type": "stream",
          "name": "stdout",
          "text": [
            "Function execution took: 1.7881393432617188e-05 sec\n"
          ]
        },
        {
          "output_type": "execute_result",
          "data": {
            "text/plain": [
              "False"
            ]
          },
          "metadata": {},
          "execution_count": 31
        }
      ],
      "source": [
        "hod_minci()"
      ]
    },
    {
      "cell_type": "markdown",
      "source": [
        "###Task 8 - decorator"
      ],
      "metadata": {
        "id": "R8gr6lp5Jdf-"
      }
    },
    {
      "cell_type": "markdown",
      "metadata": {
        "id": "ubqdm2uW_QpA"
      },
      "source": [
        "##File operations"
      ]
    },
    {
      "cell_type": "markdown",
      "metadata": {
        "id": "QOzLnwgwHhRJ"
      },
      "source": [
        "The open function has the following modes:\n",
        "* r - read only (default)\n",
        "* w - for writing, if the file does not exist it will be created, if it does exist the old contents will be deleted\n",
        "* x - for creating, the operation will fail if the file already exists\n",
        "* a - appending, if the file does not exist, it will be created, if it exists, new content will be appended\n",
        "* t - text mode (default)\n",
        "* b - binary mode"
      ]
    },
    {
      "cell_type": "code",
      "execution_count": null,
      "metadata": {
        "id": "8yP0VASZF_Uc"
      },
      "outputs": [],
      "source": [
        "import os"
      ]
    },
    {
      "cell_type": "code",
      "execution_count": null,
      "metadata": {
        "id": "11d1U_zeGA_l",
        "colab": {
          "base_uri": "https://localhost:8080/"
        },
        "outputId": "85f7b48c-271f-4f55-8455-805d6af65f52"
      },
      "outputs": [
        {
          "output_type": "execute_result",
          "data": {
            "text/plain": [
              "['.config', 'sample_data']"
            ]
          },
          "metadata": {},
          "execution_count": 46
        }
      ],
      "source": [
        "os.listdir()"
      ]
    },
    {
      "cell_type": "code",
      "execution_count": null,
      "metadata": {
        "id": "V2r65qi-C67q"
      },
      "outputs": [],
      "source": [
        "#We have to close syntax\n",
        "file_I_work_on_too = open(\"my_second_file.txt\", \"w\")\n",
        "#do something\n",
        "pass\n",
        "file_I_work_on_too.close()"
      ]
    },
    {
      "cell_type": "code",
      "execution_count": null,
      "metadata": {
        "id": "0bgrx-loJF3T"
      },
      "outputs": [],
      "source": [
        "#Python closes automaticaly syntax\n",
        "with open(\"my_first_file.txt\", \"w\") as file_I_work_on:\n",
        "  #do something\n",
        "  pass"
      ]
    },
    {
      "cell_type": "code",
      "execution_count": null,
      "metadata": {
        "id": "p4oMmA4iGHnb"
      },
      "outputs": [],
      "source": [
        "#Write content, mode w -> write\n",
        "with open(\"my_first_file.txt\", \"w\") as file_I_work_on:\n",
        "  file_I_work_on.write(\"Ahoj Michale\")"
      ]
    },
    {
      "cell_type": "code",
      "execution_count": null,
      "metadata": {
        "id": "SzvL4S_SGR3I",
        "colab": {
          "base_uri": "https://localhost:8080/"
        },
        "outputId": "1cb4dedd-4f85-48a3-fc01-4833715047d8"
      },
      "outputs": [
        {
          "output_type": "stream",
          "name": "stdout",
          "text": [
            "Ahoj Michale\n"
          ]
        }
      ],
      "source": [
        "#Read content, mode r -> read\n",
        "with open(\"my_first_file.txt\", \"r\") as file_I_work_on:\n",
        "  text_v_souboru = file_I_work_on.read()\n",
        "print(text_v_souboru)"
      ]
    },
    {
      "cell_type": "code",
      "execution_count": null,
      "metadata": {
        "id": "-j-TdnDeGdMp"
      },
      "outputs": [],
      "source": [
        "#Append content, mode a -> append\n",
        "with open(\"my_first_file.txt\", \"a\") as file_I_work_on:\n",
        "  file_I_work_on.write(\"\\nHave a nice day!\")"
      ]
    },
    {
      "cell_type": "code",
      "execution_count": null,
      "metadata": {
        "id": "HOFL28zVGlIx",
        "colab": {
          "base_uri": "https://localhost:8080/"
        },
        "outputId": "191154cc-b653-49ef-9748-22c0d1d03762"
      },
      "outputs": [
        {
          "output_type": "stream",
          "name": "stdout",
          "text": [
            "Ahoj Michale\n",
            "Have a nice day!\n"
          ]
        }
      ],
      "source": [
        "#Read content again\n",
        "with open(\"my_first_file.txt\", \"r\") as file_I_work_on:\n",
        "  text_v_souboru = file_I_work_on.read()\n",
        "print(text_v_souboru)"
      ]
    },
    {
      "cell_type": "code",
      "execution_count": null,
      "metadata": {
        "id": "EA5HF5HOGq3y"
      },
      "outputs": [],
      "source": [
        "#Beware - paths\n",
        "os.mkdir(\"data\")"
      ]
    },
    {
      "cell_type": "code",
      "source": [
        "os.sep"
      ],
      "metadata": {
        "colab": {
          "base_uri": "https://localhost:8080/",
          "height": 36
        },
        "id": "xBNaAdlwj11u",
        "outputId": "3002a204-dd11-4f01-f733-00446844e0b8"
      },
      "execution_count": null,
      "outputs": [
        {
          "output_type": "execute_result",
          "data": {
            "text/plain": [
              "'/'"
            ],
            "application/vnd.google.colaboratory.intrinsic+json": {
              "type": "string"
            }
          },
          "metadata": {},
          "execution_count": 61
        }
      ]
    },
    {
      "cell_type": "code",
      "source": [
        "# windows\n",
        "with open(f\"data{os.sep}win_file.txt\", \"w\") as f:\n",
        "  pass\n",
        "\n",
        "# OS X a Linux\n",
        "with open(f\"data{os.sep}unix_file.txt\", \"w\") as f:\n",
        "  pass"
      ],
      "metadata": {
        "id": "TNOqo8CUjhag"
      },
      "execution_count": null,
      "outputs": []
    },
    {
      "cell_type": "code",
      "execution_count": null,
      "metadata": {
        "id": "vtG_D7ACHu0b"
      },
      "outputs": [],
      "source": [
        "#Binary files\n",
        "import pickle"
      ]
    },
    {
      "cell_type": "code",
      "execution_count": null,
      "metadata": {
        "id": "KpFPsQTcH1Lq"
      },
      "outputs": [],
      "source": [
        "#Define dictionary\n",
        "people = {\n",
        "    \"MM\": {\n",
        "        'bydliste': 'ČR',\n",
        "        'jmeno': 'Michal',\n",
        "        'prijmeni': 'Maliszewski'},\n",
        "    \"MZ\": {\n",
        "        'bydliste': 'ČR',\n",
        "        'jmeno': 'Miloš',\n",
        "        'prijmeni': 'Zeman'},\n",
        "  }\n",
        "#Mode - w -> write, b -> binary\n",
        "f = open('data.pkl', 'wb')\n",
        "pickle.dump(people, f)\n",
        "f.close()"
      ]
    },
    {
      "cell_type": "code",
      "source": [
        "del people"
      ],
      "metadata": {
        "id": "GIVJAbDrG1cz"
      },
      "execution_count": null,
      "outputs": []
    },
    {
      "cell_type": "code",
      "source": [
        "people"
      ],
      "metadata": {
        "colab": {
          "base_uri": "https://localhost:8080/",
          "height": 141
        },
        "id": "fhOZjjZ-G3gv",
        "outputId": "b89d0e6f-2ccf-4fa8-8118-1da6c7297f52"
      },
      "execution_count": null,
      "outputs": [
        {
          "output_type": "error",
          "ename": "NameError",
          "evalue": "name 'people' is not defined",
          "traceback": [
            "\u001b[0;31m---------------------------------------------------------------------------\u001b[0m",
            "\u001b[0;31mNameError\u001b[0m                                 Traceback (most recent call last)",
            "\u001b[0;32m<ipython-input-66-54a661d1f5da>\u001b[0m in \u001b[0;36m<cell line: 1>\u001b[0;34m()\u001b[0m\n\u001b[0;32m----> 1\u001b[0;31m \u001b[0mpeople\u001b[0m\u001b[0;34m\u001b[0m\u001b[0;34m\u001b[0m\u001b[0m\n\u001b[0m",
            "\u001b[0;31mNameError\u001b[0m: name 'people' is not defined"
          ]
        }
      ]
    },
    {
      "cell_type": "code",
      "execution_count": null,
      "metadata": {
        "id": "ywxy7D6pIjrI",
        "colab": {
          "base_uri": "https://localhost:8080/"
        },
        "outputId": "6370b642-d1af-41c6-e4ee-fe35fef5a956"
      },
      "outputs": [
        {
          "output_type": "stream",
          "name": "stdout",
          "text": [
            "{'MM': {'bydliste': 'ČR', 'jmeno': 'Michal', 'prijmeni': 'Maliszewski'}, 'MZ': {'bydliste': 'ČR', 'jmeno': 'Miloš', 'prijmeni': 'Zeman'}}\n"
          ]
        }
      ],
      "source": [
        "#Mode - r -> read, b -> binary\n",
        "f = open('data.pkl', 'rb')\n",
        "is_it_people = pickle.load(f)\n",
        "f.close()\n",
        "print(is_it_people)"
      ]
    },
    {
      "cell_type": "markdown",
      "metadata": {
        "id": "PG_51AGcJH2F"
      },
      "source": [
        "###Task 9 - files"
      ]
    },
    {
      "cell_type": "markdown",
      "metadata": {
        "id": "hBy_snA6_NtR"
      },
      "source": [
        "##Exceptions handling"
      ]
    },
    {
      "cell_type": "markdown",
      "metadata": {
        "id": "p-vg-mJ2LJwf"
      },
      "source": [
        "* Any special situation must be handled somehow.\n",
        "* Any exception that is not handled will terminate the program."
      ]
    },
    {
      "cell_type": "code",
      "source": [
        "def poledni_prestavka():\n",
        "    1 / 0"
      ],
      "metadata": {
        "id": "9rMijWuI4OtH"
      },
      "execution_count": null,
      "outputs": []
    },
    {
      "cell_type": "code",
      "execution_count": null,
      "metadata": {
        "id": "at6eIQvbIi4b",
        "colab": {
          "base_uri": "https://localhost:8080/",
          "height": 280
        },
        "outputId": "563a03cd-8181-4852-bb89-45ce17cdd82d"
      },
      "outputs": [
        {
          "output_type": "error",
          "ename": "ZeroDivisionError",
          "evalue": "division by zero",
          "traceback": [
            "\u001b[0;31m---------------------------------------------------------------------------\u001b[0m",
            "\u001b[0;31mZeroDivisionError\u001b[0m                         Traceback (most recent call last)",
            "\u001b[0;32m<ipython-input-34-37f72cdda44c>\u001b[0m in \u001b[0;36m<cell line: 3>\u001b[0;34m()\u001b[0m\n\u001b[1;32m      1\u001b[0m \u001b[0;31m#Control over exceptions\u001b[0m\u001b[0;34m\u001b[0m\u001b[0;34m\u001b[0m\u001b[0m\n\u001b[1;32m      2\u001b[0m \u001b[0;34m\u001b[0m\u001b[0m\n\u001b[0;32m----> 3\u001b[0;31m \u001b[0mpoledni_prestavka\u001b[0m\u001b[0;34m(\u001b[0m\u001b[0;34m)\u001b[0m\u001b[0;34m\u001b[0m\u001b[0;34m\u001b[0m\u001b[0m\n\u001b[0m\u001b[1;32m      4\u001b[0m \u001b[0;34m\u001b[0m\u001b[0m\n\u001b[1;32m      5\u001b[0m \u001b[0;32mwhile\u001b[0m \u001b[0;32mTrue\u001b[0m\u001b[0;34m:\u001b[0m\u001b[0;34m\u001b[0m\u001b[0;34m\u001b[0m\u001b[0m\n",
            "\u001b[0;32m<ipython-input-33-ab17f3c2b0d7>\u001b[0m in \u001b[0;36mpoledni_prestavka\u001b[0;34m()\u001b[0m\n\u001b[1;32m      1\u001b[0m \u001b[0;32mdef\u001b[0m \u001b[0mpoledni_prestavka\u001b[0m\u001b[0;34m(\u001b[0m\u001b[0;34m)\u001b[0m\u001b[0;34m:\u001b[0m\u001b[0;34m\u001b[0m\u001b[0;34m\u001b[0m\u001b[0m\n\u001b[0;32m----> 2\u001b[0;31m     \u001b[0;36m1\u001b[0m \u001b[0;34m/\u001b[0m \u001b[0;36m0\u001b[0m\u001b[0;34m\u001b[0m\u001b[0;34m\u001b[0m\u001b[0m\n\u001b[0m",
            "\u001b[0;31mZeroDivisionError\u001b[0m: division by zero"
          ]
        }
      ],
      "source": [
        "#Control over exceptions\n",
        "\n",
        "poledni_prestavka()\n",
        "\n",
        "while True:\n",
        "  extremely_important = True\n",
        "  print(extremely_important)"
      ]
    },
    {
      "cell_type": "code",
      "execution_count": null,
      "metadata": {
        "id": "sm0Lnqx8LUIW",
        "colab": {
          "base_uri": "https://localhost:8080/"
        },
        "outputId": "369b8b19-2f30-421b-b72d-c893ab3586a9"
      },
      "outputs": [
        {
          "output_type": "stream",
          "name": "stdout",
          "text": [
            "Error happened\n",
            "Program continues\n"
          ]
        }
      ],
      "source": [
        "#Try - except structure\n",
        "try:\n",
        "    poledni_prestavka()\n",
        "except:\n",
        "    print('Error happened')\n",
        "\n",
        "print('Program continues')"
      ]
    },
    {
      "cell_type": "markdown",
      "metadata": {
        "id": "zkDLeSsAMKUb"
      },
      "source": [
        "* Try: This block will test the excepted error to occur\n",
        "* Except:  Here you can handle the error\n",
        "* Else: If there is no exception then this block will be executed\n",
        "* Finally: Finally block always gets executed either exception is generated or not"
      ]
    },
    {
      "cell_type": "code",
      "execution_count": null,
      "metadata": {
        "id": "rKwDgPP0_Sa5"
      },
      "outputs": [],
      "source": [
        "try:\n",
        "    f = open(\"data.obj\")\n",
        "except:\n",
        "    print(\"Can't open the file!\")\n",
        "else:\n",
        "    f.close()\n",
        "    print(\"File closed.\")\n",
        "finally:\n",
        "    print(\"I will always do that\")\n",
        "\n",
        "print('Program continues')"
      ]
    },
    {
      "cell_type": "markdown",
      "metadata": {
        "id": "8nufTQeyMWnY"
      },
      "source": [
        "* TypeError – operation/function performed with wrong type of object\n",
        "(e.g. '2' + 2)\n",
        "* KeyError – the key (eg in a dictionary) could not be found\n",
        "* IndexError – an attempt to get to a non-existent element (e.g. in a list)\n",
        "* ModuleNotFoundError –imported (entire) module could not be found\n",
        "* AssertionError – the assertion (used e.g. in tests) fails\n",
        "* NameError – object cannot be found (e.g. variable before declaration)\n",
        "* SyntaxError – invalid syntax (e.g. expression: a (=): 1 + 2))\n",
        "* ZeroDivisionError – division by zero"
      ]
    },
    {
      "cell_type": "code",
      "execution_count": null,
      "metadata": {
        "id": "CvJFYsdJL2Ho",
        "colab": {
          "base_uri": "https://localhost:8080/"
        },
        "outputId": "85b21a79-7f68-4418-946c-c5e604b2fc47"
      },
      "outputs": [
        {
          "output_type": "stream",
          "name": "stdout",
          "text": [
            "Atribute or method does not exist!\n",
            "Ok then\n"
          ]
        }
      ],
      "source": [
        "try:\n",
        "  \"a\".uper()\n",
        "except SyntaxError:\n",
        "  print('Fix your syntax')\n",
        "except TypeError:\n",
        "  print('Oh no! A TypeError has occured')\n",
        "except ValueError:\n",
        "  print('A ValueError occured!')\n",
        "except ZeroDivisionError:\n",
        "  print('Div by zero?')\n",
        "except FileNotFoundError:\n",
        "  print(\"Soubor neexistuje!\")\n",
        "except AttributeError:\n",
        "  print(\"Atribute or method does not exist!\")\n",
        "else:\n",
        "  print('No exception')\n",
        "finally:\n",
        "  print('Ok then')"
      ]
    },
    {
      "cell_type": "markdown",
      "metadata": {
        "id": "FkgM-8vLNRoH"
      },
      "source": [
        "###Task 10 - exceptions"
      ]
    },
    {
      "cell_type": "markdown",
      "metadata": {
        "id": "6wGUjMggOlOS"
      },
      "source": [
        "##Clean Code and PEP8"
      ]
    },
    {
      "cell_type": "markdown",
      "metadata": {
        "id": "f09A1c-gWVor"
      },
      "source": [
        "![image.png](data:image/png;base64,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)"
      ]
    },
    {
      "cell_type": "markdown",
      "metadata": {
        "id": "7O64kp1nWrsM"
      },
      "source": [
        "Correct names that clearly define what the functions should be used for,\n",
        "* Documentation (docstrings),\n",
        "* Type annotation (* that's a nice addition)."
      ]
    },
    {
      "cell_type": "code",
      "execution_count": null,
      "metadata": {
        "id": "9navStwpWdZz"
      },
      "outputs": [],
      "source": [
        "def x(a):\n",
        "  return (a - 32) * 5 / 9\n",
        "\n",
        "def y(b):\n",
        "  return (b * 9 / 5) + 32"
      ]
    },
    {
      "cell_type": "code",
      "execution_count": null,
      "metadata": {
        "id": "uK8aDipnWy7l"
      },
      "outputs": [],
      "source": [
        "def convert_fahrenheit_to_celsius(fahrenheit_degrees):\n",
        "  return (fahrenheit_degrees - 32) * 5 / 9\n",
        "\n",
        "def convert_celsius_to_fahrenheit(celsius_degrees):\n",
        "  return (celsius_degrees * 9 / 5) + 32"
      ]
    },
    {
      "cell_type": "markdown",
      "metadata": {
        "id": "p4_qkDjGXDUI"
      },
      "source": [
        "What's wrong with these names?\n",
        "1. d = 10\n",
        "2. x = person_data[3]\n",
        "3. get_active_account()\n",
        "get_active_accounts()\n",
        "get_active_account_info()\n",
        "4. nasuagwest = (\"John\", \"Smith\", 50, 95, \"unemployed\")\n",
        "5. for element in list:\n",
        "if element == 5:"
      ]
    },
    {
      "cell_type": "markdown",
      "metadata": {
        "id": "1cZ_11V_XLNO"
      },
      "source": [
        "1. The variable d says nothing about the\n",
        "stored value.\n",
        "2. The variable x says nothing about the\n",
        "stored value plus it is unknown what we\n",
        "get from the variable person_data; the\n",
        "number 3 should be a constant named\n",
        "appropriately, e.g. AGE = 3.\n",
        "3. Too similar function names, it's hard to\n",
        "guess what they differ without looking at\n",
        "their code.\n",
        "4. Difficult to pronounce and remember the\n",
        "name of a variable (first name, first\n",
        "name, age, weight, job).\n",
        "5. It is not known what 5 is, why we are\n",
        "matching an item to it, the item names\n",
        "and the list are not the best either."
      ]
    },
    {
      "cell_type": "markdown",
      "metadata": {
        "id": "W7P5vjPGXhOr"
      },
      "source": [
        "Function should work and meet the set requirements\n",
        "* a good function is a simple function, i.e. one that does only one thing and nothing\n",
        "else (solves one problem)\n",
        "* a simple function is also one that has as few arguments as possible (preferably:\n",
        "zero)\n",
        "  * such a function should not have output arguments (only input)\n",
        "* it should be quite short: aim for a few or a dozen lines\n",
        "* the function should be easy to test\n",
        "* function with proper name and arguments"
      ]
    },
    {
      "cell_type": "code",
      "execution_count": null,
      "metadata": {
        "id": "ASO03aJSXnfM"
      },
      "outputs": [],
      "source": [
        "#example\n",
        "def join_strings(*args):\n",
        "  '''\n",
        "  Function takes any number of input arguments, converts them to strings and\n",
        "  joins them together into one string.\n",
        "\n",
        "  If no arguments are given, empty string is returned.\n",
        "  '''\n",
        "  if len(args) > 0:\n",
        "    result = str(args[0])\n",
        "    for element in args[1:]:\n",
        "      result += str(element)\n",
        "    return result\n",
        "  else:\n",
        "    return \"\""
      ]
    },
    {
      "cell_type": "code",
      "execution_count": null,
      "metadata": {
        "id": "y949tM8CZak1",
        "colab": {
          "base_uri": "https://localhost:8080/"
        },
        "outputId": "36dd04af-88ec-47d1-9689-193115cebdda"
      },
      "outputs": [
        {
          "output_type": "stream",
          "name": "stdout",
          "text": [
            "Help on function join_strings in module __main__:\n",
            "\n",
            "join_strings(*args)\n",
            "    Function takes any number of input arguments, converts them to strings and\n",
            "    joins them together into one string.\n",
            "    \n",
            "    If no arguments are given, empty string is returned.\n",
            "\n"
          ]
        }
      ],
      "source": [
        "help(join_strings)"
      ]
    },
    {
      "cell_type": "code",
      "execution_count": null,
      "metadata": {
        "id": "7fAP5joAZqcR"
      },
      "outputs": [],
      "source": [
        "#printing to the terminal + removing elements\n",
        "def print_each_element(elements):\n",
        "  for element in elements:\n",
        "    print(element)\n",
        "    elements.remove(element)\n",
        "#printing rather for debugging, do not manipulate the input"
      ]
    },
    {
      "cell_type": "code",
      "execution_count": null,
      "metadata": {
        "id": "IlK_jf_0aH6D"
      },
      "outputs": [],
      "source": [
        "#function can do two things (two paths)\n",
        "def kiss_or_run(should_kiss):\n",
        "  if should_kiss:\n",
        "    pass\n",
        "  else:\n",
        "    pass\n",
        "\n",
        "#better split into two -> kiss(), run()"
      ]
    },
    {
      "cell_type": "markdown",
      "metadata": {
        "id": "66f1Jh4lal-_"
      },
      "source": [
        "Comments - problem/redundancy in the code are:\n",
        "* unnecessary information (such as change history, author, last modified date -\n",
        "this is not the place for such things, that's what GIT is for!)\n",
        "* outdated comments\n",
        "* redundant comments\n",
        "* commented out code"
      ]
    },
    {
      "cell_type": "code",
      "execution_count": null,
      "metadata": {
        "id": "F4lfl8-OaH-7"
      },
      "outputs": [],
      "source": [
        "'''\n",
        "Written by Michal\n",
        "Date: dd-mm-yyyy\n",
        "File_name: test.py\n",
        "'''\n",
        "\n",
        "def add(a, b):\n",
        "  #TODO:\n",
        "  #     implement a + b and return value\n",
        "  #result = a + b\n",
        "  #return result\n",
        "  return a + b #same as b + a\n"
      ]
    },
    {
      "cell_type": "markdown",
      "metadata": {
        "id": "fkUtyGOVbnmA"
      },
      "source": [
        "* TODO comments (to be removed as soon as the implementation\n",
        "is delivered!)\n",
        "* legal comments (so-called copyrights)\n",
        "* comments explaining WHY something is going on in the code, not\n",
        "WHAT is going on in the code\n",
        "* comments warning of some non-obvious consequences"
      ]
    },
    {
      "cell_type": "markdown",
      "metadata": {
        "id": "JL1tuObqXa56"
      },
      "source": [
        "###PEP8"
      ]
    },
    {
      "cell_type": "markdown",
      "metadata": {
        "id": "Bzq-Y4KZcwrd"
      },
      "source": [
        "* PEP is just a recommendation\n",
        "* Exceptions: backwards compatible, direct low-level libraries port\n",
        "* Compatibility primarily with the current design\n",
        "* As a rule, PEP is the starting point for internal company regulations"
      ]
    },
    {
      "cell_type": "markdown",
      "metadata": {
        "id": "-_DRdWr8cH3D"
      },
      "source": [
        "* Indentation (4 spaces) and blank lines\n",
        "* Line length\n",
        "* Operator at the beginning of the line at an earlier break\n",
        "* Spacing between classes and functions\n",
        "* Character strings\n",
        "* Formatting comments\n",
        "* Importing modules"
      ]
    },
    {
      "cell_type": "markdown",
      "metadata": {
        "id": "_T0IrwKfcbmV"
      },
      "source": [
        "* UpperCamelCase – class names, type names, exceptions\n",
        "* snake_case – functions, global variables, methods, static methods, function and\n",
        "method arguments\n",
        "* alllowercase – module names\n",
        "* ALLCAPS -single-word constants in the code\n",
        "* ALLCAPS_WITH_UNDERSCORES – constants in code"
      ]
    },
    {
      "cell_type": "markdown",
      "metadata": {
        "id": "OkkuzI35c7cz"
      },
      "source": [
        "* Functions and methods less than 20 lines\n",
        "* The name of each variable matters\n",
        "* Self-translating variable/method/class names are better than comments\n",
        "* If you're getting into the fifth degree of indentation, you're probably doing\n",
        "something wrong\n",
        "* If your class has plenty methods, you are probably doing something wrong\n",
        "* In complex programs, it is much better to focus on \"inter-entity\" rather than\n",
        "\"inter-functional\" communication"
      ]
    },
    {
      "cell_type": "markdown",
      "metadata": {
        "id": "Z0FrO23HdGQy"
      },
      "source": [
        "* there are a huge number of formatting and automatic code beauters\n",
        "* pylint - a library that analyzes the code, helps to improve it in\n",
        "accordance with the adopted rules (you can change them according\n",
        "to your rules / preferences)\n",
        "* a large number of online code cleaners (just enter \"python clean code\n",
        "online\" in Google\n",
        "* black - a library that automatically formats the code from the file in\n",
        "place (!), no copy is made, the file is repaired and the old format\n",
        "disappears irretrievably"
      ]
    },
    {
      "cell_type": "markdown",
      "metadata": {
        "id": "DXzf5gGQPnl7"
      },
      "source": [
        "##Intro OOP - object oriented programming"
      ]
    },
    {
      "cell_type": "markdown",
      "metadata": {
        "id": "GlH3ykAaQfvu"
      },
      "source": [
        "* A different way of thinking about programming.\n",
        "* A program is no longer a cluster of functions and loops - it has a structure.\n",
        "* The program structure is based on objects.\n",
        "* The object has a certain state and has data and methods to manipulate it.\n",
        "* Objects interact with each other.\n",
        "* Objects are of certain types.\n",
        "* The types are from the problem domain.\n",
        "* Objects hide implementation details.\n",
        "* The interface provided by the objects is understandable to anyone who understands\n",
        "the problem and does not need to be familiar with programming."
      ]
    },
    {
      "cell_type": "code",
      "execution_count": null,
      "metadata": {
        "id": "DZodIsBTPw_t"
      },
      "outputs": [],
      "source": [
        "#Example person class\n",
        "#keyword class + class name\n",
        "class Person:\n",
        "\n",
        "  #Constructor - initialization method\n",
        "  def __init__(self, jmeno, prijmeni, pohlavi=\"\"):\n",
        "    self.jmeno = jmeno\n",
        "    self.prijmeni = prijmeni\n",
        "    self.pohlavi = pohlavi\n",
        "\n",
        "  def pozdrav(self, nekoho):\n",
        "    print(f\"{self.jmeno} zdraví {nekoho}!\")\n",
        "\n",
        "  def uloz_do_databaze(self):\n",
        "    pass"
      ]
    },
    {
      "cell_type": "code",
      "execution_count": null,
      "metadata": {
        "id": "nd1NluWtkbI-"
      },
      "outputs": [],
      "source": [
        "#Create instance out of class\n",
        "id001 = Person(\"Michal\", \"Maliszewski\", \"Muž\")\n",
        "id002 = Person(\"Miloš\", \"Zeman\")"
      ]
    },
    {
      "cell_type": "code",
      "source": [
        "print(id001.jmeno)\n",
        "print(id001.prijmeni)\n",
        "print(id001.pohlavi)"
      ],
      "metadata": {
        "id": "qZcEgsroZ8Im",
        "colab": {
          "base_uri": "https://localhost:8080/"
        },
        "outputId": "e12f77d5-4125-4d12-9cbb-2d7ba5dadb51"
      },
      "execution_count": null,
      "outputs": [
        {
          "output_type": "stream",
          "name": "stdout",
          "text": [
            "Michal\n",
            "Maliszewski\n",
            "Muž\n"
          ]
        }
      ]
    },
    {
      "cell_type": "code",
      "source": [
        "#Create instance out of class\n",
        "id002 = Person(\"Miloš\", \"Zeman\", \"Muž\")"
      ],
      "metadata": {
        "id": "ihwZ0DxdNSZO"
      },
      "execution_count": null,
      "outputs": []
    },
    {
      "cell_type": "code",
      "source": [
        "print(id002.jmeno)\n",
        "print(id002.prijmeni)\n",
        "print(id002.pohlavi)\n",
        "id002.pozdrav(\"Marka\")"
      ],
      "metadata": {
        "colab": {
          "base_uri": "https://localhost:8080/"
        },
        "id": "ke-ez8CCMsAm",
        "outputId": "4f383fe3-d04b-4a50-95d0-2f6ec0171b9b"
      },
      "execution_count": null,
      "outputs": [
        {
          "output_type": "stream",
          "name": "stdout",
          "text": [
            "Miloš\n",
            "Zeman\n",
            "Muž\n",
            "Miloš zdraví Marka!\n"
          ]
        }
      ]
    },
    {
      "cell_type": "code",
      "execution_count": null,
      "metadata": {
        "id": "pTllejLmQpwH"
      },
      "outputs": [],
      "source": [
        "import os\n",
        "\n",
        "#Example car class\n",
        "class Car:\n",
        "\n",
        "  #Constructor\n",
        "  def __init__(self, car_type, brand, top_speed, price):\n",
        "    #Attributes\n",
        "    self.car_type = car_type\n",
        "    self.brand = brand\n",
        "    self.top_speed = top_speed\n",
        "    self.price = price\n",
        "    self.for_sale = True\n",
        "\n",
        "  #Private method - internal usage\n",
        "  def _is_it_fast(self):\n",
        "    if self.top_speed > 220:\n",
        "      return True\n",
        "    else:\n",
        "      return False\n",
        "\n",
        "  def ignite(self):\n",
        "    #Call other method -> private method\n",
        "    if self._is_it_fast() == True:\n",
        "      print(\"Vrrrrrmmmmm.....\")\n",
        "    else:\n",
        "      print(\"Vrm.....\")\n",
        "\n",
        "  def change_price(self, new_price):\n",
        "    self.price = new_price\n",
        "\n",
        "  def change_top_speed(self, new_top):\n",
        "    self.top_speed = new_top\n",
        "\n",
        "  def can_I_afford(self, budget):\n",
        "    return False if self.price > budget else True"
      ]
    },
    {
      "cell_type": "code",
      "execution_count": null,
      "metadata": {
        "id": "UVdTsAtMUTmc"
      },
      "outputs": [],
      "source": [
        "#Create class instances\n",
        "decent_family_car = Car(\"MPV\", \"Ford\", 180, 800000)\n",
        "sexy_car = Car(\"MuscleCar\", \"Chevrolet\", 250, 1400000)"
      ]
    },
    {
      "cell_type": "code",
      "execution_count": null,
      "metadata": {
        "id": "Wq1yF1UdTN1J",
        "colab": {
          "base_uri": "https://localhost:8080/"
        },
        "outputId": "eb4abf8c-b122-4ee9-a95a-bd576e0a5327"
      },
      "outputs": [
        {
          "output_type": "stream",
          "name": "stdout",
          "text": [
            "Chevrolet\n",
            "250\n"
          ]
        }
      ],
      "source": [
        "#Get attributes syntax\n",
        "print(sexy_car.brand)\n",
        "print(sexy_car.top_speed)"
      ]
    },
    {
      "cell_type": "code",
      "execution_count": null,
      "metadata": {
        "id": "ZWAATPjUSzR7",
        "colab": {
          "base_uri": "https://localhost:8080/"
        },
        "outputId": "e2b3cf04-3808-467a-f32c-dc51594b21a9"
      },
      "outputs": [
        {
          "output_type": "stream",
          "name": "stdout",
          "text": [
            "Vrm.....\n",
            "Vrrrrrmmmmm.....\n"
          ]
        }
      ],
      "source": [
        "#Call methods syntax\n",
        "decent_family_car.ignite()\n",
        "sexy_car.ignite()"
      ]
    },
    {
      "cell_type": "code",
      "execution_count": null,
      "metadata": {
        "id": "nBbsGjC0S7Fk",
        "colab": {
          "base_uri": "https://localhost:8080/"
        },
        "outputId": "dda3cfea-59ad-4384-b6fe-39c576d1c0e3"
      },
      "outputs": [
        {
          "output_type": "stream",
          "name": "stdout",
          "text": [
            "True\n",
            "False\n"
          ]
        }
      ],
      "source": [
        "print(decent_family_car.can_I_afford(1000000))\n",
        "print(sexy_car.can_I_afford(1000000))"
      ]
    },
    {
      "cell_type": "code",
      "execution_count": null,
      "metadata": {
        "id": "FKnxTEJcTHAn",
        "colab": {
          "base_uri": "https://localhost:8080/"
        },
        "outputId": "c22f5244-60bc-4a51-d0fe-fb766551a7b1"
      },
      "outputs": [
        {
          "output_type": "stream",
          "name": "stdout",
          "text": [
            "True\n"
          ]
        }
      ],
      "source": [
        "#Attribute change - good practise to define method for that\n",
        "sexy_car.change_price(900000)\n",
        "print(sexy_car.can_I_afford(1000000))"
      ]
    },
    {
      "cell_type": "code",
      "execution_count": null,
      "metadata": {
        "id": "bV4I_U1ITVB2",
        "colab": {
          "base_uri": "https://localhost:8080/"
        },
        "outputId": "4cbafe6b-9d30-43a8-e8be-240829268422"
      },
      "outputs": [
        {
          "output_type": "stream",
          "name": "stdout",
          "text": [
            "False\n"
          ]
        }
      ],
      "source": [
        "#Attribute change - not recommended\n",
        "decent_family_car.price = 1100000\n",
        "print(decent_family_car.can_I_afford(1000000))"
      ]
    },
    {
      "cell_type": "markdown",
      "metadata": {
        "id": "q6JP_Q68VJQZ"
      },
      "source": [
        "###Task 11 - basic OOP"
      ]
    },
    {
      "cell_type": "markdown",
      "metadata": {
        "id": "8TOOMg3Yb7eB"
      },
      "source": [
        "##Advanced OOP"
      ]
    },
    {
      "cell_type": "markdown",
      "metadata": {
        "id": "GIZgEc8Vb-gL"
      },
      "source": [
        "A good class is one that:\n",
        "* performs only one task\n",
        "* is open to inheritance, closed to modifications\n",
        "* is consistent\n",
        "* is characterized by low coupling with other classes\n",
        "* contains functions written according to the rules\n",
        "* it includes a \"finite\" number of methods (up to a dozen)\n",
        "* has only the fields that it actually uses"
      ]
    },
    {
      "cell_type": "markdown",
      "metadata": {
        "id": "LPdE-AnwmrfU"
      },
      "source": [
        "###Constructor"
      ]
    },
    {
      "cell_type": "code",
      "execution_count": null,
      "metadata": {
        "id": "Wt4ewJwbuT_o"
      },
      "outputs": [],
      "source": [
        "class Pacient:\n",
        "\n",
        "  def __init__(self, surname, name, age):\n",
        "    self.surname = surname\n",
        "    self.name = name\n",
        "    self.age = age\n",
        "\n",
        "  def show_info(self):\n",
        "    print(f\"Name: {self.surname} {self.name}\\nAge: {self.age}\")"
      ]
    },
    {
      "cell_type": "code",
      "execution_count": null,
      "metadata": {
        "id": "0LhdJMwFuc2T"
      },
      "outputs": [],
      "source": [
        "p001 = Pacient(\"Maliszewski\", \"Michal\", 30)\n",
        "p002 = Pacient(\"Překážka\", \"Petr\", 42)"
      ]
    },
    {
      "cell_type": "code",
      "execution_count": null,
      "metadata": {
        "id": "TMW-KgLTuxMf",
        "colab": {
          "base_uri": "https://localhost:8080/"
        },
        "outputId": "779ea4e4-8dd4-4aea-f0c6-cb14c46bb0d1"
      },
      "outputs": [
        {
          "output_type": "stream",
          "name": "stdout",
          "text": [
            "Name: Maliszewski Michal\n",
            "Age: 30\n",
            "Name: Překážka Petr\n",
            "Age: 42\n"
          ]
        }
      ],
      "source": [
        "p001.show_info()\n",
        "p002.show_info()"
      ]
    },
    {
      "cell_type": "markdown",
      "metadata": {
        "id": "KEnFUAr5m_tW"
      },
      "source": [
        "###Atributes / method types"
      ]
    },
    {
      "cell_type": "markdown",
      "metadata": {
        "id": "eX9ukH1mvZ9k"
      },
      "source": [
        "* Instance method defines instance behaviour / functionality, not class. It is referenced by self keyword.\n",
        "* Class metohd defines behavior / functionality of the whole class, not single objects / instances. It is referenced by cls keyword and defined by decorator @classmethod. Such a method has access to class atributes and static methods, but not to object / instance data.\n",
        "* Static method is just a function defined within class. It is defined by decorator @staticmethod. Such a method has access only to its own atributes.\n",
        "* Class and Static methods are callable through object / instance"
      ]
    },
    {
      "cell_type": "code",
      "execution_count": null,
      "metadata": {
        "id": "rf1M2vnpxkkD"
      },
      "outputs": [],
      "source": [
        "class Employee:\n",
        "\n",
        "  raise_amount = 1.05\n",
        "\n",
        "  def __init__(self, surname, name, age, salary):\n",
        "    self.surname = surname\n",
        "    self.name = name\n",
        "    self.age = age\n",
        "    self.salary = salary\n",
        "\n",
        "  def fullname(self):\n",
        "    return f\"{self.name} {self.surname}\"\n",
        "\n",
        "  def apply_raise(self):\n",
        "    self.salary = int(self.salary * self.raise_amount)\n",
        "\n",
        "  @classmethod\n",
        "  def set_raise_amount(cls, new_raise_amount):\n",
        "    cls.raise_amount = new_raise_amount\n",
        "    return cls.raise_amount\n",
        "\n",
        "  @staticmethod\n",
        "  def is_workday(*args, **kwargs):\n",
        "    return True"
      ]
    },
    {
      "cell_type": "code",
      "execution_count": null,
      "metadata": {
        "id": "8bzl9v0lyJw4"
      },
      "outputs": [],
      "source": [
        "emp001 = Employee(\"Maliszewski\", \"Michal\", 31, 50000)\n",
        "emp002 = Employee(\"Překážka\", \"Jiří\", 22, 100000)"
      ]
    },
    {
      "cell_type": "code",
      "source": [
        "emp001.apply_raise()\n",
        "emp001.salary"
      ],
      "metadata": {
        "colab": {
          "base_uri": "https://localhost:8080/"
        },
        "id": "rWCBP9kbsMeS",
        "outputId": "5263f360-bc7d-4294-e3b0-c40e8b61a7cb"
      },
      "execution_count": null,
      "outputs": [
        {
          "output_type": "execute_result",
          "data": {
            "text/plain": [
              "60775"
            ]
          },
          "metadata": {},
          "execution_count": 13
        }
      ]
    },
    {
      "cell_type": "code",
      "source": [
        "Employee.set_raise_amount(1.1)"
      ],
      "metadata": {
        "id": "cyuoq9NBzNBN",
        "colab": {
          "base_uri": "https://localhost:8080/"
        },
        "outputId": "456aec80-7b52-4363-c542-0ce7be900eb1"
      },
      "execution_count": null,
      "outputs": [
        {
          "output_type": "execute_result",
          "data": {
            "text/plain": [
              "1.1"
            ]
          },
          "metadata": {},
          "execution_count": 14
        }
      ]
    },
    {
      "cell_type": "code",
      "execution_count": null,
      "metadata": {
        "id": "GRitSmOoO6PK",
        "colab": {
          "base_uri": "https://localhost:8080/"
        },
        "outputId": "f68c482b-e610-422e-adf4-8e879397001a"
      },
      "outputs": [
        {
          "output_type": "execute_result",
          "data": {
            "text/plain": [
              "73537"
            ]
          },
          "metadata": {},
          "execution_count": 16
        }
      ],
      "source": [
        "emp001.apply_raise()\n",
        "emp001.salary"
      ]
    },
    {
      "cell_type": "code",
      "source": [
        "emp002.apply_raise()\n",
        "emp002.salary"
      ],
      "metadata": {
        "id": "YozHQWDiHSMW",
        "colab": {
          "base_uri": "https://localhost:8080/"
        },
        "outputId": "69661a53-b738-48ae-f9dc-508617571eb9"
      },
      "execution_count": null,
      "outputs": [
        {
          "output_type": "execute_result",
          "data": {
            "text/plain": [
              "146410"
            ]
          },
          "metadata": {},
          "execution_count": 20
        }
      ]
    },
    {
      "cell_type": "code",
      "execution_count": null,
      "metadata": {
        "id": "ZHEEPBs9yRqx",
        "colab": {
          "base_uri": "https://localhost:8080/"
        },
        "outputId": "c90d25ef-ad68-4497-9965-95f1c3a2c632"
      },
      "outputs": [
        {
          "output_type": "stream",
          "name": "stdout",
          "text": [
            "Michal Maliszewski \n",
            "\n",
            "1.2 \n",
            "\n",
            "True \n",
            "\n"
          ]
        }
      ],
      "source": [
        "#Call from object\n",
        "print(emp001.fullname(), \"\\n\")\n",
        "print(emp001.set_raise_amount(1.2), \"\\n\")\n",
        "print(emp001.is_workday(\"neděle\"), \"\\n\")"
      ]
    },
    {
      "cell_type": "code",
      "execution_count": null,
      "metadata": {
        "id": "bR7zyu9-ynvD",
        "colab": {
          "base_uri": "https://localhost:8080/"
        },
        "outputId": "71320e06-6bfd-4867-de5f-a6ef96614b67"
      },
      "outputs": [
        {
          "output_type": "stream",
          "name": "stdout",
          "text": [
            "Failed \n",
            "\n",
            "1.05 \n",
            "\n",
            "True \n",
            "\n"
          ]
        }
      ],
      "source": [
        "#Call from class\n",
        "try:\n",
        "  print(Employee.fullname(), \"\\n\")\n",
        "except:\n",
        "  print(\"Failed\", \"\\n\")\n",
        "try:\n",
        "  print(emp001.set_raise_amount(1.05), \"\\n\")\n",
        "except:\n",
        "  print(\"Failed\", \"\\n\")\n",
        "try:\n",
        "  print(Employee.is_workday(\"neděle\"), \"\\n\")\n",
        "except:\n",
        "  print(\"Failed\", \"\\n\")"
      ]
    },
    {
      "cell_type": "markdown",
      "metadata": {
        "id": "MS6Zca7W6vNt"
      },
      "source": [
        "###Task 12 - character creation"
      ]
    },
    {
      "cell_type": "markdown",
      "metadata": {
        "id": "4rRt5XYAmuOK"
      },
      "source": [
        "###Inheritance"
      ]
    },
    {
      "cell_type": "markdown",
      "metadata": {
        "id": "7K8npx2cOZoF"
      },
      "source": [
        "Například vytvoření vlastních vyjímek"
      ]
    },
    {
      "cell_type": "code",
      "execution_count": null,
      "metadata": {
        "id": "iXhdnTXKOQ9V"
      },
      "outputs": [],
      "source": [
        "class NoMoneyException(Exception):\n",
        "    pass\n",
        "\n",
        "class OutOfBudget(Exception):\n",
        "    pass\n"
      ]
    },
    {
      "cell_type": "code",
      "source": [
        "balance = int(input(\"Enter a balance: \"))\n",
        "if balance < 1000:\n",
        "    raise NoMoneyException\n",
        "elif balance > 10000:\n",
        "    raise OutOfBudget"
      ],
      "metadata": {
        "id": "TyI6zVIAo0dZ",
        "colab": {
          "base_uri": "https://localhost:8080/",
          "height": 228
        },
        "outputId": "5d78695f-cb53-470a-b7b1-2ef00281a534"
      },
      "execution_count": null,
      "outputs": [
        {
          "name": "stdout",
          "output_type": "stream",
          "text": [
            "Enter a balance: 50\n"
          ]
        },
        {
          "output_type": "error",
          "ename": "NoMoneyException",
          "evalue": "",
          "traceback": [
            "\u001b[0;31m---------------------------------------------------------------------------\u001b[0m",
            "\u001b[0;31mNoMoneyException\u001b[0m                          Traceback (most recent call last)",
            "\u001b[0;32m<ipython-input-25-62cd909d1fa3>\u001b[0m in \u001b[0;36m<cell line: 2>\u001b[0;34m()\u001b[0m\n\u001b[1;32m      1\u001b[0m \u001b[0mbalance\u001b[0m \u001b[0;34m=\u001b[0m \u001b[0mint\u001b[0m\u001b[0;34m(\u001b[0m\u001b[0minput\u001b[0m\u001b[0;34m(\u001b[0m\u001b[0;34m\"Enter a balance: \"\u001b[0m\u001b[0;34m)\u001b[0m\u001b[0;34m)\u001b[0m\u001b[0;34m\u001b[0m\u001b[0;34m\u001b[0m\u001b[0m\n\u001b[1;32m      2\u001b[0m \u001b[0;32mif\u001b[0m \u001b[0mbalance\u001b[0m \u001b[0;34m<\u001b[0m \u001b[0;36m1000\u001b[0m\u001b[0;34m:\u001b[0m\u001b[0;34m\u001b[0m\u001b[0;34m\u001b[0m\u001b[0m\n\u001b[0;32m----> 3\u001b[0;31m     \u001b[0;32mraise\u001b[0m \u001b[0mNoMoneyException\u001b[0m\u001b[0;34m\u001b[0m\u001b[0;34m\u001b[0m\u001b[0m\n\u001b[0m\u001b[1;32m      4\u001b[0m \u001b[0;32melif\u001b[0m \u001b[0mbalance\u001b[0m \u001b[0;34m>\u001b[0m \u001b[0;36m10000\u001b[0m\u001b[0;34m:\u001b[0m\u001b[0;34m\u001b[0m\u001b[0;34m\u001b[0m\u001b[0m\n\u001b[1;32m      5\u001b[0m     \u001b[0;32mraise\u001b[0m \u001b[0mOutOfBudget\u001b[0m\u001b[0;34m\u001b[0m\u001b[0;34m\u001b[0m\u001b[0m\n",
            "\u001b[0;31mNoMoneyException\u001b[0m: "
          ]
        }
      ]
    },
    {
      "cell_type": "code",
      "execution_count": null,
      "metadata": {
        "id": "6yQCG24kzCF4"
      },
      "outputs": [],
      "source": [
        "class Employee:\n",
        "\n",
        "  raise_amount = 1.05\n",
        "\n",
        "  def __init__(self, surname, name, age, salary):\n",
        "    self.surname = surname\n",
        "    self.name = name\n",
        "    self.age = age\n",
        "    self.salary = salary\n",
        "\n",
        "  def fullname(self):\n",
        "    return f\"{self.name} {self.surname}\"\n",
        "\n",
        "  def apply_raise(self):\n",
        "    self.salary = int(self.salary * self.raise_amount)\n",
        "\n",
        "  @classmethod\n",
        "  def set_raise_amount(cls, new_raise_amount):\n",
        "    cls.raise_amount = new_raise_amount\n",
        "\n",
        "  @staticmethod\n",
        "  def is_workday(day):\n",
        "    return True"
      ]
    },
    {
      "cell_type": "code",
      "execution_count": null,
      "metadata": {
        "id": "JBLzyU3v0QiT"
      },
      "outputs": [],
      "source": [
        "emp001 = Employee(\"Maliszewski\", \"Michal\", 29, 500000)"
      ]
    },
    {
      "cell_type": "code",
      "execution_count": null,
      "metadata": {
        "colab": {
          "base_uri": "https://localhost:8080/"
        },
        "id": "VZIiDn8I0guo",
        "outputId": "c040d8e3-bc86-4cdf-f1e6-6052f96c1b5f"
      },
      "outputs": [
        {
          "output_type": "execute_result",
          "data": {
            "text/plain": [
              "525000"
            ]
          },
          "metadata": {},
          "execution_count": 31
        }
      ],
      "source": [
        "emp001.apply_raise()\n",
        "emp001.salary"
      ]
    },
    {
      "cell_type": "code",
      "execution_count": null,
      "metadata": {
        "id": "LEFi4W5x22Jt"
      },
      "outputs": [],
      "source": [
        "class DataScientist(Employee):\n",
        "\n",
        "  raise_amount = 1.2\n",
        "\n",
        "  def create_LLM(self):\n",
        "    return \"ChatGPT\""
      ]
    },
    {
      "cell_type": "code",
      "execution_count": null,
      "metadata": {
        "id": "Hnr4FYDp3JC3"
      },
      "outputs": [],
      "source": [
        "emp001 = Employee(\"Maliszewski\", \"Michal\", 29, 500000)\n",
        "ds001 = DataScientist(\"Maliszewski\", \"Michal\", 29, 500000)"
      ]
    },
    {
      "cell_type": "code",
      "execution_count": null,
      "metadata": {
        "colab": {
          "base_uri": "https://localhost:8080/"
        },
        "id": "owHxL-5L3M-R",
        "outputId": "df3d6dd8-5a16-4ff7-fcb5-e935b10d47ed"
      },
      "outputs": [
        {
          "output_type": "execute_result",
          "data": {
            "text/plain": [
              "525000"
            ]
          },
          "metadata": {},
          "execution_count": 44
        }
      ],
      "source": [
        "emp001.apply_raise()\n",
        "emp001.salary"
      ]
    },
    {
      "cell_type": "code",
      "source": [
        "emp001.create_LLM()"
      ],
      "metadata": {
        "colab": {
          "base_uri": "https://localhost:8080/",
          "height": 141
        },
        "id": "mflsI8EjMlz9",
        "outputId": "5b612a55-e3f0-4fde-ca56-76b0cb931d63"
      },
      "execution_count": null,
      "outputs": [
        {
          "output_type": "error",
          "ename": "AttributeError",
          "evalue": "'Employee' object has no attribute 'create_LLM'",
          "traceback": [
            "\u001b[0;31m---------------------------------------------------------------------------\u001b[0m",
            "\u001b[0;31mAttributeError\u001b[0m                            Traceback (most recent call last)",
            "\u001b[0;32m<ipython-input-45-17f5d745a729>\u001b[0m in \u001b[0;36m<cell line: 1>\u001b[0;34m()\u001b[0m\n\u001b[0;32m----> 1\u001b[0;31m \u001b[0memp001\u001b[0m\u001b[0;34m.\u001b[0m\u001b[0mcreate_LLM\u001b[0m\u001b[0;34m(\u001b[0m\u001b[0;34m)\u001b[0m\u001b[0;34m\u001b[0m\u001b[0;34m\u001b[0m\u001b[0m\n\u001b[0m",
            "\u001b[0;31mAttributeError\u001b[0m: 'Employee' object has no attribute 'create_LLM'"
          ]
        }
      ]
    },
    {
      "cell_type": "code",
      "execution_count": null,
      "metadata": {
        "colab": {
          "base_uri": "https://localhost:8080/"
        },
        "id": "w_mpEUV_3Pq6",
        "outputId": "4aee5fc6-a772-4702-f07d-476ef322cdc1"
      },
      "outputs": [
        {
          "output_type": "execute_result",
          "data": {
            "text/plain": [
              "600000"
            ]
          },
          "metadata": {},
          "execution_count": 46
        }
      ],
      "source": [
        "ds001.apply_raise()\n",
        "ds001.salary"
      ]
    },
    {
      "cell_type": "code",
      "source": [
        "ds001.create_LLM()"
      ],
      "metadata": {
        "colab": {
          "base_uri": "https://localhost:8080/",
          "height": 36
        },
        "id": "OBXUcUYkMqbd",
        "outputId": "c2078bd5-8167-4ee4-9f6f-e373c5e5dd0f"
      },
      "execution_count": null,
      "outputs": [
        {
          "output_type": "execute_result",
          "data": {
            "text/plain": [
              "'ChatGPT'"
            ],
            "application/vnd.google.colaboratory.intrinsic+json": {
              "type": "string"
            }
          },
          "metadata": {},
          "execution_count": 47
        }
      ]
    },
    {
      "cell_type": "code",
      "execution_count": null,
      "metadata": {
        "id": "6YMxOoLv3UvU"
      },
      "outputs": [],
      "source": [
        "class Manager(Employee):\n",
        "\n",
        "  def __init__(self, surname, name, age, salary, employees=[]):\n",
        "    super().__init__(surname, name, age, salary)\n",
        "    self.employees = employees\n",
        "\n",
        "  def add_employee(self, employee):\n",
        "    self.employees.append(employee)\n",
        "\n",
        "  def remove_employee(self, employee):\n",
        "    if employee in self.employees:\n",
        "      self.employees.remove(employee)\n",
        "\n",
        "  def print_employees(self):\n",
        "    for employee in self.employees:\n",
        "      print(employee)\n",
        "\n",
        "  def apply_raise(self):\n",
        "    super().apply_raise()\n",
        "    self.salary += len(self.employees) * 1000"
      ]
    },
    {
      "cell_type": "code",
      "execution_count": null,
      "metadata": {
        "id": "S-AWiXzX4y40"
      },
      "outputs": [],
      "source": [
        "man001 = Manager(\"Maliszewski\", \"Michal\", 29, 50000)"
      ]
    },
    {
      "cell_type": "code",
      "execution_count": null,
      "metadata": {
        "id": "mGn197pQ48v4",
        "colab": {
          "base_uri": "https://localhost:8080/"
        },
        "outputId": "a352402d-d1e3-4534-fd7b-5cc4bfbf42aa"
      },
      "outputs": [
        {
          "output_type": "stream",
          "name": "stdout",
          "text": [
            "Jiri\n",
            "Petr\n"
          ]
        }
      ],
      "source": [
        "man001.print_employees()"
      ]
    },
    {
      "cell_type": "code",
      "execution_count": null,
      "metadata": {
        "colab": {
          "base_uri": "https://localhost:8080/"
        },
        "id": "ykoCAHja5R3-",
        "outputId": "d103afd7-36bc-45f3-f0c2-563d48d6578b"
      },
      "outputs": [
        {
          "output_type": "stream",
          "name": "stdout",
          "text": [
            "Jiri\n",
            "Petr\n",
            "Jiri\n"
          ]
        }
      ],
      "source": [
        "man001.add_employee(\"Jiri\")\n",
        "man001.print_employees()"
      ]
    },
    {
      "cell_type": "code",
      "execution_count": null,
      "metadata": {
        "colab": {
          "base_uri": "https://localhost:8080/"
        },
        "id": "gb7SmLLR5fSQ",
        "outputId": "c840d461-f5ca-473d-bbc7-d3213a98aa3d"
      },
      "outputs": [
        {
          "output_type": "stream",
          "name": "stdout",
          "text": [
            "Jiri\n",
            "Petr\n",
            "Jiri\n",
            "Petr\n"
          ]
        }
      ],
      "source": [
        "man001.add_employee(\"Petr\")\n",
        "man001.print_employees()"
      ]
    },
    {
      "cell_type": "code",
      "execution_count": null,
      "metadata": {
        "colab": {
          "base_uri": "https://localhost:8080/"
        },
        "id": "zJfbriLG5h5L",
        "outputId": "0522948f-7ce9-4b18-f280-eb792a465b33"
      },
      "outputs": [
        {
          "output_type": "stream",
          "name": "stdout",
          "text": [
            "Petr\n"
          ]
        }
      ],
      "source": [
        "man001.remove_employee(\"Jiri\")\n",
        "man001.print_employees()"
      ]
    },
    {
      "cell_type": "code",
      "execution_count": null,
      "metadata": {
        "colab": {
          "base_uri": "https://localhost:8080/"
        },
        "id": "Gwu7lJO95lh8",
        "outputId": "633d70d1-ce3d-47ef-8cfa-23a89d38f6a1"
      },
      "outputs": [
        {
          "output_type": "execute_result",
          "data": {
            "text/plain": [
              "56500"
            ]
          },
          "metadata": {},
          "execution_count": 66
        }
      ],
      "source": [
        "man001.apply_raise()\n",
        "man001.salary"
      ]
    },
    {
      "cell_type": "markdown",
      "metadata": {
        "id": "EQWe2ry2K6yR"
      },
      "source": [
        "###Task 13 - special characters"
      ]
    },
    {
      "cell_type": "markdown",
      "metadata": {
        "id": "qxxoQ1O2O2xV"
      },
      "source": [
        "##Modules"
      ]
    },
    {
      "cell_type": "code",
      "execution_count": null,
      "metadata": {
        "id": "2SuTPlKeyyJy"
      },
      "outputs": [],
      "source": [
        "import json"
      ]
    },
    {
      "cell_type": "code",
      "source": [
        "from random import randint"
      ],
      "metadata": {
        "id": "Vu3aqmT49vLI"
      },
      "execution_count": null,
      "outputs": []
    },
    {
      "cell_type": "code",
      "source": [
        "from random import randint as nahodne_cislo"
      ],
      "metadata": {
        "id": "x8OJ0SuO9zjo"
      },
      "execution_count": null,
      "outputs": []
    },
    {
      "cell_type": "markdown",
      "metadata": {
        "id": "qaMnZzNNMkTl"
      },
      "source": [
        "###Module"
      ]
    },
    {
      "cell_type": "markdown",
      "metadata": {
        "id": "hP5odjABO8xg"
      },
      "source": [
        "###Packages"
      ]
    },
    {
      "cell_type": "markdown",
      "metadata": {
        "id": "EFUnDB-aO__p"
      },
      "source": [
        "###Pip"
      ]
    },
    {
      "cell_type": "markdown",
      "source": [
        "https://pypi.org/"
      ],
      "metadata": {
        "id": "zOUGXrT9wXHn"
      }
    },
    {
      "cell_type": "markdown",
      "source": [
        "Vytvoření virtuálního prostředí v aktuální složce:\n",
        "* python3 -m venv moje_prostredi\n",
        "\n",
        "Aktivace prostředí:\n",
        "* moje_prostredi\\Scripts\\activate\n",
        "\n",
        "Ignorovat prostředí gitem:\n",
        "* .gitignore\n",
        "\n",
        "Podívat se, co je nainstalováno\n",
        "* pip freeze\n",
        "\n",
        "Instalace knihovny\n",
        "* pip install numpy\n",
        "\n",
        "Ověření, že se nainstalovala\n",
        "* pip freeze\n",
        "\n",
        "Vytvořit soubor pro replikaci prostředí\n",
        "* pip freeze > requirements.txt\n",
        "\n",
        "Nainstalovat prostředí ze souboru\n",
        "* pip install -r requirements.txt"
      ],
      "metadata": {
        "id": "r9Qgm-A0rlFj"
      }
    },
    {
      "cell_type": "code",
      "execution_count": null,
      "metadata": {
        "id": "DgAo9DDhy2aY",
        "colab": {
          "base_uri": "https://localhost:8080/",
          "height": 314
        },
        "outputId": "7d2d2849-67d4-482c-938b-b6d1cb2068c8"
      },
      "outputs": [
        {
          "output_type": "error",
          "ename": "ModuleNotFoundError",
          "evalue": "No module named 'nptdms'",
          "traceback": [
            "\u001b[0;31m---------------------------------------------------------------------------\u001b[0m",
            "\u001b[0;31mModuleNotFoundError\u001b[0m                       Traceback (most recent call last)",
            "\u001b[0;32m<ipython-input-1-74cc2213fcf0>\u001b[0m in \u001b[0;36m<cell line: 1>\u001b[0;34m()\u001b[0m\n\u001b[0;32m----> 1\u001b[0;31m \u001b[0;32mfrom\u001b[0m \u001b[0mnptdms\u001b[0m \u001b[0;32mimport\u001b[0m \u001b[0mTdmsFile\u001b[0m\u001b[0;34m\u001b[0m\u001b[0;34m\u001b[0m\u001b[0m\n\u001b[0m",
            "\u001b[0;31mModuleNotFoundError\u001b[0m: No module named 'nptdms'",
            "",
            "\u001b[0;31m---------------------------------------------------------------------------\u001b[0;32m\nNOTE: If your import is failing due to a missing package, you can\nmanually install dependencies using either !pip or !apt.\n\nTo view examples of installing some common dependencies, click the\n\"Open Examples\" button below.\n\u001b[0;31m---------------------------------------------------------------------------\u001b[0m\n"
          ],
          "errorDetails": {
            "actions": [
              {
                "action": "open_url",
                "actionText": "Open Examples",
                "url": "/notebooks/snippets/importing_libraries.ipynb"
              }
            ]
          }
        }
      ],
      "source": [
        "from nptdms import TdmsFile"
      ]
    },
    {
      "cell_type": "code",
      "execution_count": null,
      "metadata": {
        "colab": {
          "base_uri": "https://localhost:8080/"
        },
        "id": "xy-zoH3yzfT8",
        "outputId": "b8df741c-2ad0-48d8-937b-976e33ee6914"
      },
      "outputs": [
        {
          "output_type": "stream",
          "name": "stdout",
          "text": [
            "Collecting nptdms\n",
            "  Downloading npTDMS-1.9.0.tar.gz (180 kB)\n",
            "\u001b[?25l     \u001b[90m━━━━━━━━━━━━━━━━━━━━━━━━━━━━━━━━━━━━━━━━\u001b[0m \u001b[32m0.0/180.6 kB\u001b[0m \u001b[31m?\u001b[0m eta \u001b[36m-:--:--\u001b[0m\r\u001b[2K     \u001b[91m━━━━━━━━━━━━━━━━━━━━━━━━━━━━━━━━━━\u001b[0m\u001b[90m╺\u001b[0m\u001b[90m━━━━━\u001b[0m \u001b[32m153.6/180.6 kB\u001b[0m \u001b[31m4.3 MB/s\u001b[0m eta \u001b[36m0:00:01\u001b[0m\r\u001b[2K     \u001b[90m━━━━━━━━━━━━━━━━━━━━━━━━━━━━━━━━━━━━━━━━\u001b[0m \u001b[32m180.6/180.6 kB\u001b[0m \u001b[31m3.5 MB/s\u001b[0m eta \u001b[36m0:00:00\u001b[0m\n",
            "\u001b[?25h  Installing build dependencies ... \u001b[?25l\u001b[?25hdone\n",
            "  Getting requirements to build wheel ... \u001b[?25l\u001b[?25hdone\n",
            "  Installing backend dependencies ... \u001b[?25l\u001b[?25hdone\n",
            "  Preparing metadata (pyproject.toml) ... \u001b[?25l\u001b[?25hdone\n",
            "Requirement already satisfied: numpy in /usr/local/lib/python3.10/dist-packages (from nptdms) (1.25.2)\n",
            "Building wheels for collected packages: nptdms\n",
            "  Building wheel for nptdms (pyproject.toml) ... \u001b[?25l\u001b[?25hdone\n",
            "  Created wheel for nptdms: filename=npTDMS-1.9.0-py3-none-any.whl size=107810 sha256=179d1461c57048046e11d54e7e7c7a51c3ad33895a53d7e57a28ffa11dce48e8\n",
            "  Stored in directory: /root/.cache/pip/wheels/82/8b/23/e2e53cf0a7f0d2a0b303f2a0bc223dd45b6775169bcfb3feda\n",
            "Successfully built nptdms\n",
            "Installing collected packages: nptdms\n",
            "Successfully installed nptdms-1.9.0\n"
          ]
        }
      ],
      "source": [
        "pip install nptdms"
      ]
    },
    {
      "cell_type": "code",
      "source": [
        "from nptdms import TdmsFile"
      ],
      "metadata": {
        "id": "fPF5REZVjghF"
      },
      "execution_count": null,
      "outputs": []
    },
    {
      "cell_type": "markdown",
      "metadata": {
        "id": "Nyq4wOghPDJh"
      },
      "source": [
        "###Virtual Environment"
      ]
    },
    {
      "cell_type": "markdown",
      "metadata": {
        "id": "kR_s2qIHPqOH"
      },
      "source": [
        "##Testing"
      ]
    },
    {
      "cell_type": "markdown",
      "metadata": {
        "id": "TIOW64y0mETn"
      },
      "source": [
        "The Python standard library includes the unittest module to help you write and run tests for your Python code.\n",
        "\n",
        "Tests written using the unittest module can help you find bugs in your programs, and prevent regressions from occurring as you change your code over time. Teams adhering to test-driven development may find unittest useful to ensure all authored code has a corresponding set of tests."
      ]
    },
    {
      "cell_type": "markdown",
      "metadata": {
        "id": "Kklb7sECmNDg"
      },
      "source": [
        "* Unittest requires you to create test methods that are contained in a class.\n",
        "* A class created with unittest must be a subclass of unittest.TestCase"
      ]
    },
    {
      "cell_type": "markdown",
      "metadata": {
        "id": "uXsXBCBDmUfI"
      },
      "source": [
        "* Test case – Individual test unit. Checks specific results for assumed input data.\n",
        "* Test suite – A collection of test cases, other test suites, or combinations of cases\n",
        "and kits. Used to aggregate tests that should be run together.\n",
        "* Test runner – component that manages the execution of tests and reporting the\n",
        "results to the user. The test runner can have a graphical or text interface, or it can\n",
        "return a specific value informing about the execution of tests."
      ]
    },
    {
      "cell_type": "markdown",
      "metadata": {
        "id": "9LZHo2foqhg1"
      },
      "source": [
        "* Assertion – a predicate (a sentence form in a given language that returns true or\n",
        "false), placed somewhere in the code. The assertion indicates that the programmer\n",
        "assumes that the predicate is true at that point.\n",
        "* Each assertion contains a Boolean expression that is assumed to be true when the\n",
        "assertion is executed. If the expression is not true, the system will return an\n",
        "AssertionError. By checking that a logical expression is true, the assertion validates"
      ]
    },
    {
      "cell_type": "code",
      "execution_count": null,
      "metadata": {
        "id": "YIllpdY3PHR5"
      },
      "outputs": [],
      "source": [
        "import unittest\n",
        "\n",
        "def add_fish_to_aquarium(fish_list):\n",
        "    if len(fish_list) > 10:\n",
        "        raise ValueError(\"A maximum of 10 fish can be added to the aquarium\")\n",
        "    return {\"aquarium\": fish_list}\n",
        "\n",
        "\n",
        "class TestAddFishToAquarium(unittest.TestCase):\n",
        "\n",
        "    def test_add_fish_to_aquarium_success(self):\n",
        "        actual = add_fish_to_aquarium(fish_list=[\"shark\", \"tuna\"])\n",
        "        expected = {\"aquarium\": [\"shark\", \"tuna\"]}\n",
        "        self.assertEqual(actual, expected)"
      ]
    },
    {
      "cell_type": "code",
      "execution_count": null,
      "metadata": {
        "id": "GrA2bgLcl8UQ",
        "colab": {
          "base_uri": "https://localhost:8080/"
        },
        "outputId": "46abad5e-9fb9-4a9f-c8e4-ed9448a5c36f"
      },
      "outputs": [
        {
          "output_type": "stream",
          "name": "stderr",
          "text": [
            "test_add_fish_to_aquarium_success (__main__.TestAddFishToAquarium) ... ok\n",
            "\n",
            "----------------------------------------------------------------------\n",
            "Ran 1 test in 0.011s\n",
            "\n",
            "OK\n"
          ]
        },
        {
          "output_type": "execute_result",
          "data": {
            "text/plain": [
              "<unittest.main.TestProgram at 0x7ec6efedb760>"
            ]
          },
          "metadata": {},
          "execution_count": 2
        }
      ],
      "source": [
        "unittest.main(argv=[''], verbosity=2, exit=False)"
      ]
    },
    {
      "cell_type": "code",
      "execution_count": null,
      "metadata": {
        "id": "UgUANXJcm9mj"
      },
      "outputs": [],
      "source": [
        "import unittest\n",
        "\n",
        "def add_fish_to_aquarium(fish_list):\n",
        "    if len(fish_list) > 10:\n",
        "        raise ValueError(\"A maximum of 10 fish can be added to the aquarium\")\n",
        "    return {\"aquarium\": fish_list}\n",
        "\n",
        "\n",
        "class TestAddFishToAquarium(unittest.TestCase):\n",
        "\n",
        "    def test_add_fish_to_aquarium_success(self):\n",
        "        actual = add_fish_to_aquarium(fish_list=[\"shark\", \"tuna\", \"štika\"])\n",
        "        expected = {\"aquarium\": [\"shark\", \"tuna\"]}\n",
        "        self.assertEqual(actual, expected)"
      ]
    },
    {
      "cell_type": "code",
      "execution_count": null,
      "metadata": {
        "id": "ExaG15x4nHaD",
        "colab": {
          "base_uri": "https://localhost:8080/"
        },
        "outputId": "fbaed11a-ced8-4eb1-81d1-79c9f6bd54e7"
      },
      "outputs": [
        {
          "output_type": "stream",
          "name": "stderr",
          "text": [
            "test_add_fish_to_aquarium_success (__main__.TestAddFishToAquarium) ... FAIL\n",
            "\n",
            "======================================================================\n",
            "FAIL: test_add_fish_to_aquarium_success (__main__.TestAddFishToAquarium)\n",
            "----------------------------------------------------------------------\n",
            "Traceback (most recent call last):\n",
            "  File \"<ipython-input-3-d3a264a6541b>\", line 14, in test_add_fish_to_aquarium_success\n",
            "    self.assertEqual(actual, expected)\n",
            "AssertionError: {'aquarium': ['shark', 'tuna', 'štika']} != {'aquarium': ['shark', 'tuna']}\n",
            "- {'aquarium': ['shark', 'tuna', 'štika']}\n",
            "?                              ---------\n",
            "\n",
            "+ {'aquarium': ['shark', 'tuna']}\n",
            "\n",
            "----------------------------------------------------------------------\n",
            "Ran 1 test in 0.008s\n",
            "\n",
            "FAILED (failures=1)\n"
          ]
        },
        {
          "output_type": "execute_result",
          "data": {
            "text/plain": [
              "<unittest.main.TestProgram at 0x7ec6efedb970>"
            ]
          },
          "metadata": {},
          "execution_count": 4
        }
      ],
      "source": [
        "unittest.main(argv=[''], verbosity=2, exit=False)"
      ]
    },
    {
      "cell_type": "code",
      "execution_count": null,
      "metadata": {
        "id": "R8M83EYmnJHQ"
      },
      "outputs": [],
      "source": [
        "import unittest\n",
        "\n",
        "def add_fish_to_aquarium(fish_list):\n",
        "    if len(fish_list) > 10:\n",
        "        raise ValueError(\"A maximum of 10 fish can be added to the aquarium\")\n",
        "    return {\"aquarium\": fish_list}\n",
        "\n",
        "\n",
        "class TestAddFishToAquarium(unittest.TestCase):\n",
        "\n",
        "    def test_add_fish_to_aquarium_success(self):\n",
        "        actual = add_fish_to_aquarium(fish_list=[\"shark\", \"tuna\"])\n",
        "        expected = {\"aquarium\": [\"shark\", \"tuna\"]}\n",
        "        self.assertEqual(actual, expected)\n",
        "\n",
        "    def test_add_fish_to_aquarium_exception(self):\n",
        "        too_many_fish = [\"shark\"] * 25\n",
        "        with self.assertRaises(ValueError) as exception_context:\n",
        "            add_fish_to_aquarium(too_many_fish)\n",
        "        self.assertIn(\"maximum of 10 fish\", str(exception_context.exception))"
      ]
    },
    {
      "cell_type": "code",
      "execution_count": null,
      "metadata": {
        "id": "bHp5JerenY0R",
        "colab": {
          "base_uri": "https://localhost:8080/"
        },
        "outputId": "515d3064-67fe-49cc-e33f-4a2093edf245"
      },
      "outputs": [
        {
          "output_type": "stream",
          "name": "stderr",
          "text": [
            "test_add_fish_to_aquarium_exception (__main__.TestAddFishToAquarium) ... ok\n",
            "test_add_fish_to_aquarium_success (__main__.TestAddFishToAquarium) ... ok\n",
            "\n",
            "----------------------------------------------------------------------\n",
            "Ran 2 tests in 0.011s\n",
            "\n",
            "OK\n"
          ]
        },
        {
          "output_type": "execute_result",
          "data": {
            "text/plain": [
              "<unittest.main.TestProgram at 0x7ec6ecd25c00>"
            ]
          },
          "metadata": {},
          "execution_count": 14
        }
      ],
      "source": [
        "unittest.main(argv=[''], verbosity=2, exit=False)"
      ]
    },
    {
      "cell_type": "markdown",
      "metadata": {
        "id": "SOkgNO0anbBI"
      },
      "source": [
        "\n",
        "Method ->\tAssertion\n",
        "* assertEqual(a, b)\t-> a == b\n",
        "* assertNotEqual(a, b)\t-> a != b\n",
        "* assertTrue(a) ->\tbool(a) is True\n",
        "* assertFalse(a) ->\tbool(a) is False\n",
        "* assertIsNone(a) ->\ta is None\n",
        "* assertIsNotNone(a) ->\ta is not None\n",
        "* assertIn(a, b) ->\ta in b\n",
        "* assertNotIn(a, b) ->\ta not in b"
      ]
    },
    {
      "cell_type": "markdown",
      "metadata": {
        "id": "I-ysshbeoYqH"
      },
      "source": [
        "setUp methods can be helpful when you have a common set of preparation code that you want to run before each and every one of your tests. setUp lets you put all this preparation code in a single place"
      ]
    },
    {
      "cell_type": "code",
      "execution_count": null,
      "metadata": {
        "id": "DDDIq9V_nxb2"
      },
      "outputs": [],
      "source": [
        "import unittest\n",
        "\n",
        "class FishTank:\n",
        "    def __init__(self):\n",
        "        self.has_water = False\n",
        "\n",
        "    def fill_with_water(self):\n",
        "        self.has_water = True\n",
        "\n",
        "class TestFishTank(unittest.TestCase):\n",
        "    def setUp(self):\n",
        "        self.fish_tank = FishTank()\n",
        "\n",
        "    def test_fish_tank_empty_by_default(self):\n",
        "        self.assertFalse(self.fish_tank.has_water)\n",
        "\n",
        "    def test_fish_tank_can_be_filled(self):\n",
        "        self.fish_tank.fill_with_water()\n",
        "        self.assertTrue(self.fish_tank.has_water)"
      ]
    },
    {
      "cell_type": "code",
      "execution_count": null,
      "metadata": {
        "id": "j520QTlFoiUG",
        "colab": {
          "base_uri": "https://localhost:8080/"
        },
        "outputId": "0a6e8aee-d417-44c0-86fd-b29a20acfb8c"
      },
      "outputs": [
        {
          "output_type": "stream",
          "name": "stderr",
          "text": [
            "test_add_fish_to_aquarium_exception (__main__.TestAddFishToAquarium) ... ok\n",
            "test_add_fish_to_aquarium_success (__main__.TestAddFishToAquarium) ... ok\n",
            "test_fish_tank_can_be_filled (__main__.TestFishTank) ... ok\n",
            "test_fish_tank_empty_by_default (__main__.TestFishTank) ... ok\n",
            "\n",
            "----------------------------------------------------------------------\n",
            "Ran 4 tests in 0.016s\n",
            "\n",
            "OK\n"
          ]
        },
        {
          "output_type": "execute_result",
          "data": {
            "text/plain": [
              "<unittest.main.TestProgram at 0x7ec6ecd268f0>"
            ]
          },
          "metadata": {},
          "execution_count": 16
        }
      ],
      "source": [
        "unittest.main(argv=[''], verbosity=2, exit=False)"
      ]
    },
    {
      "cell_type": "markdown",
      "metadata": {
        "id": "IX8i-q1ooX8_"
      },
      "source": [
        "tearDown is useful if, for example, we need to clean up connections to a database, or modifications made to a filesystem after each test completes."
      ]
    },
    {
      "cell_type": "code",
      "execution_count": null,
      "metadata": {
        "id": "CeOrt-avo-H7"
      },
      "outputs": [],
      "source": [
        "import os\n",
        "import unittest\n",
        "\n",
        "class AdvancedFishTank:\n",
        "    def __init__(self):\n",
        "        self.fish_tank_file_name = \"fish_tank.txt\"\n",
        "        default_contents = \"shark, tuna\"\n",
        "        with open(self.fish_tank_file_name, \"w\") as f:\n",
        "            f.write(default_contents)\n",
        "\n",
        "    def empty_tank(self):\n",
        "        os.remove(self.fish_tank_file_name)\n",
        "\n",
        "\n",
        "class TestAdvancedFishTank(unittest.TestCase):\n",
        "    def setUp(self):\n",
        "        self.fish_tank = AdvancedFishTank()\n",
        "\n",
        "    def tearDown(self):\n",
        "        self.fish_tank.empty_tank()\n",
        "\n",
        "    def test_fish_tank_writes_file(self):\n",
        "        with open(self.fish_tank.fish_tank_file_name) as f:\n",
        "            contents = f.read()\n",
        "        self.assertEqual(contents, \"shark, tuna\")"
      ]
    },
    {
      "cell_type": "code",
      "execution_count": null,
      "metadata": {
        "id": "zurwhPFwpBsv",
        "colab": {
          "base_uri": "https://localhost:8080/"
        },
        "outputId": "1105fb53-49b2-4b91-cbc9-a8a75aec9cd1"
      },
      "outputs": [
        {
          "output_type": "stream",
          "name": "stderr",
          "text": [
            "test_add_fish_to_aquarium_exception (__main__.TestAddFishToAquarium) ... ok\n",
            "test_add_fish_to_aquarium_success (__main__.TestAddFishToAquarium) ... ok\n",
            "test_fish_tank_writes_file (__main__.TestAdvancedFishTank) ... ok\n",
            "test_fish_tank_can_be_filled (__main__.TestFishTank) ... ok\n",
            "test_fish_tank_empty_by_default (__main__.TestFishTank) ... ok\n",
            "\n",
            "----------------------------------------------------------------------\n",
            "Ran 5 tests in 0.029s\n",
            "\n",
            "OK\n"
          ]
        },
        {
          "output_type": "execute_result",
          "data": {
            "text/plain": [
              "<unittest.main.TestProgram at 0x7ec6fcd6aa70>"
            ]
          },
          "metadata": {},
          "execution_count": 20
        }
      ],
      "source": [
        "unittest.main(argv=[''], verbosity=2, exit=False)"
      ]
    },
    {
      "cell_type": "markdown",
      "metadata": {
        "id": "bCoVlKEjrKA7"
      },
      "source": [
        "* Given creates a section in which we create the initial assumptions. We set the state of\n",
        "the system (also called the state of the world) as needed for testing.\n",
        "* When in this section we perform the action we want to test.\n",
        "* Then we check whether the application has behaved as expected. Most often by using\n",
        "assertions or interactions with mocks (more about mocks later)."
      ]
    },
    {
      "cell_type": "code",
      "execution_count": null,
      "metadata": {
        "id": "sl7WnMtErUs8"
      },
      "outputs": [],
      "source": [
        "import unittest\n",
        "\n",
        "class Account:\n",
        "\n",
        "  def __init__(self, owner):\n",
        "    self.owner = owner\n",
        "    self.balance = 0\n",
        "\n",
        "  def get_balance(self):\n",
        "    print(self.balance)\n",
        "\n",
        "  def change_account_balance(self, amount):\n",
        "    if self.balance + amount >= 0:\n",
        "      self.balance += amount\n",
        "      return self.balance\n",
        "    else:\n",
        "      raise ValueError(\"Not enough money on account!\")\n"
      ]
    },
    {
      "cell_type": "code",
      "execution_count": null,
      "metadata": {
        "id": "pjVIha4FsPGB",
        "colab": {
          "base_uri": "https://localhost:8080/",
          "height": 297
        },
        "outputId": "487cbe45-aa9b-47c9-bcd6-ee75494ddb21"
      },
      "outputs": [
        {
          "output_type": "stream",
          "name": "stdout",
          "text": [
            "3000\n"
          ]
        },
        {
          "output_type": "error",
          "ename": "ValueError",
          "evalue": "Not enough money on account!",
          "traceback": [
            "\u001b[0;31m---------------------------------------------------------------------------\u001b[0m",
            "\u001b[0;31mValueError\u001b[0m                                Traceback (most recent call last)",
            "\u001b[0;32m<ipython-input-23-bd7a88855db7>\u001b[0m in \u001b[0;36m<cell line: 5>\u001b[0;34m()\u001b[0m\n\u001b[1;32m      3\u001b[0m \u001b[0macc\u001b[0m\u001b[0;34m.\u001b[0m\u001b[0mchange_account_balance\u001b[0m\u001b[0;34m(\u001b[0m\u001b[0;34m-\u001b[0m\u001b[0;36m2000\u001b[0m\u001b[0;34m)\u001b[0m\u001b[0;34m\u001b[0m\u001b[0;34m\u001b[0m\u001b[0m\n\u001b[1;32m      4\u001b[0m \u001b[0macc\u001b[0m\u001b[0;34m.\u001b[0m\u001b[0mget_balance\u001b[0m\u001b[0;34m(\u001b[0m\u001b[0;34m)\u001b[0m\u001b[0;34m\u001b[0m\u001b[0;34m\u001b[0m\u001b[0m\n\u001b[0;32m----> 5\u001b[0;31m \u001b[0macc\u001b[0m\u001b[0;34m.\u001b[0m\u001b[0mchange_account_balance\u001b[0m\u001b[0;34m(\u001b[0m\u001b[0;34m-\u001b[0m\u001b[0;36m20000\u001b[0m\u001b[0;34m)\u001b[0m\u001b[0;34m\u001b[0m\u001b[0;34m\u001b[0m\u001b[0m\n\u001b[0m\u001b[1;32m      6\u001b[0m \u001b[0macc\u001b[0m\u001b[0;34m.\u001b[0m\u001b[0mget_balance\u001b[0m\u001b[0;34m(\u001b[0m\u001b[0;34m)\u001b[0m\u001b[0;34m\u001b[0m\u001b[0;34m\u001b[0m\u001b[0m\n",
            "\u001b[0;32m<ipython-input-22-e9b03ffb8f0c>\u001b[0m in \u001b[0;36mchange_account_balance\u001b[0;34m(self, amount)\u001b[0m\n\u001b[1;32m     15\u001b[0m       \u001b[0;32mreturn\u001b[0m \u001b[0mself\u001b[0m\u001b[0;34m.\u001b[0m\u001b[0mbalance\u001b[0m\u001b[0;34m\u001b[0m\u001b[0;34m\u001b[0m\u001b[0m\n\u001b[1;32m     16\u001b[0m     \u001b[0;32melse\u001b[0m\u001b[0;34m:\u001b[0m\u001b[0;34m\u001b[0m\u001b[0;34m\u001b[0m\u001b[0m\n\u001b[0;32m---> 17\u001b[0;31m       \u001b[0;32mraise\u001b[0m \u001b[0mValueError\u001b[0m\u001b[0;34m(\u001b[0m\u001b[0;34m\"Not enough money on account!\"\u001b[0m\u001b[0;34m)\u001b[0m\u001b[0;34m\u001b[0m\u001b[0;34m\u001b[0m\u001b[0m\n\u001b[0m",
            "\u001b[0;31mValueError\u001b[0m: Not enough money on account!"
          ]
        }
      ],
      "source": [
        "acc = Account(\"Michal\")\n",
        "acc.change_account_balance(5000)\n",
        "acc.change_account_balance(-2000)\n",
        "acc.get_balance()\n",
        "acc.change_account_balance(-20000)\n",
        "acc.get_balance()"
      ]
    },
    {
      "cell_type": "code",
      "source": [
        "import unittest"
      ],
      "metadata": {
        "id": "rw8iQxtiq-ZQ"
      },
      "execution_count": null,
      "outputs": []
    },
    {
      "cell_type": "code",
      "execution_count": null,
      "metadata": {
        "id": "ClUDRAmMsSb5"
      },
      "outputs": [],
      "source": [
        "class TestAccount(unittest.TestCase):\n",
        "\n",
        "    def setUp(self):\n",
        "        self.acc = Account(\"Michal\")\n",
        "\n",
        "    def test_init_balance(self):\n",
        "        self.assertEqual(self.acc.balance, 0)\n",
        "\n",
        "    def test_change_amount(self):\n",
        "        self.acc.change_account_balance(2000)\n",
        "        self.acc.change_account_balance(-500)\n",
        "        self.assertEqual(self.acc.balance, 1500)\n",
        "\n",
        "    def test_below_zero(self):\n",
        "        with self.assertRaises(ValueError) as exception_context:\n",
        "          self.acc.change_account_balance(2000)\n",
        "          self.acc.change_account_balance(-5000)\n",
        "        self.assertIn(\"Not enough money\", str(exception_context.exception))"
      ]
    },
    {
      "cell_type": "code",
      "execution_count": null,
      "metadata": {
        "id": "EaSbmng0t9AC",
        "colab": {
          "base_uri": "https://localhost:8080/"
        },
        "outputId": "ffa0b298-5108-48de-ac0a-582804047c24"
      },
      "outputs": [
        {
          "output_type": "stream",
          "name": "stderr",
          "text": [
            "test_below_zero (__main__.TestAccount) ... ok\n",
            "test_change_amount (__main__.TestAccount) ... ok\n",
            "test_init_balance (__main__.TestAccount) ... ok\n",
            "test_add_fish_to_aquarium_exception (__main__.TestAddFishToAquarium) ... ok\n",
            "test_add_fish_to_aquarium_success (__main__.TestAddFishToAquarium) ... ok\n",
            "test_fish_tank_writes_file (__main__.TestAdvancedFishTank) ... ok\n",
            "test_fish_tank_can_be_filled (__main__.TestFishTank) ... ok\n",
            "test_fish_tank_empty_by_default (__main__.TestFishTank) ... ok\n",
            "\n",
            "----------------------------------------------------------------------\n",
            "Ran 8 tests in 0.032s\n",
            "\n",
            "OK\n"
          ]
        },
        {
          "output_type": "execute_result",
          "data": {
            "text/plain": [
              "<unittest.main.TestProgram at 0x7ec6ecd323b0>"
            ]
          },
          "metadata": {},
          "execution_count": 27
        }
      ],
      "source": [
        "unittest.main(argv=[''], verbosity=3, exit=False)"
      ]
    },
    {
      "cell_type": "markdown",
      "source": [
        "###Task 14"
      ],
      "metadata": {
        "id": "-RIG6FUCPI5e"
      }
    }
  ],
  "metadata": {
    "colab": {
      "collapsed_sections": [
        "cSETH2LS640W",
        "OS15_iDpCHY2",
        "YXK_KewsD3P0",
        "otKn7W1JFoUT",
        "48gE7vLVnOk_",
        "LPdE-AnwmrfU",
        "KEnFUAr5m_tW"
      ],
      "provenance": [],
      "toc_visible": true,
      "include_colab_link": true
    },
    "kernelspec": {
      "display_name": "Python 3",
      "name": "python3"
    },
    "language_info": {
      "name": "python"
    }
  },
  "nbformat": 4,
  "nbformat_minor": 0
}